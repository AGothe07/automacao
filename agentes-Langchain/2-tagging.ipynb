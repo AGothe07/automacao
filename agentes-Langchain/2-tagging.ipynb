{
 "cells": [
  {
   "cell_type": "code",
   "execution_count": 1,
   "id": "43e816b9",
   "metadata": {},
   "outputs": [
    {
     "name": "stderr",
     "output_type": "stream",
     "text": [
      "c:\\programacao\\automacao\\agentes-Langchain\\.venv\\Lib\\site-packages\\IPython\\core\\interactiveshell.py:3699: LangChainDeprecationWarning: As of langchain-core 0.3.0, LangChain uses pydantic v2 internally. The langchain.pydantic_v1 module was a compatibility shim for pydantic v1, and should no longer be used. Please update the code to import from Pydantic directly.\n",
      "\n",
      "For example, replace imports like: `from langchain.pydantic_v1 import BaseModel`\n",
      "with: `from pydantic import BaseModel`\n",
      "or the v1 compatibility namespace if you are working in a code base that has not been fully upgraded to pydantic 2 yet. \tfrom pydantic.v1 import BaseModel\n",
      "\n",
      "  exec(code_obj, self.user_global_ns, self.user_ns)\n"
     ]
    }
   ],
   "source": [
    "from langchain.pydantic_v1 import BaseModel, Field\n",
    "from langchain_core.utils.function_calling import convert_to_openai_function"
   ]
  },
  {
   "cell_type": "code",
   "execution_count": 2,
   "id": "f529dc67",
   "metadata": {},
   "outputs": [
    {
     "data": {
      "text/plain": [
       "{'name': 'Sentimant',\n",
       " 'description': 'Define o Sentimento e o idioma da mensagem enviada',\n",
       " 'parameters': {'type': 'object',\n",
       "  'properties': {'sentimento': {'description': \"Sentimento do texto. Deve ser 'pos', 'neg', ou 'net' para neutro\",\n",
       "    'type': 'string'},\n",
       "   'lingua': {'description': 'Lingua que o texto foi escrito (deve estar no charset UTF-8)',\n",
       "    'type': 'string'}},\n",
       "  'required': ['sentimento', 'lingua']}}"
      ]
     },
     "execution_count": 2,
     "metadata": {},
     "output_type": "execute_result"
    }
   ],
   "source": [
    "class Sentimant(BaseModel):\n",
    "    \"\"\"Define o Sentimento e o idioma da mensagem enviada\"\"\"\n",
    "    sentimento: str = Field(description=\"Sentimento do texto. Deve ser 'pos', 'neg', ou 'net' para neutro\")\n",
    "    lingua: str = Field(description=\"Lingua que o texto foi escrito (deve estar no charset UTF-8)\")\n",
    "\n",
    "tool_sentimento = convert_to_openai_function(Sentimant)\n",
    "tool_sentimento"
   ]
  },
  {
   "cell_type": "code",
   "execution_count": 3,
   "id": "32f2f072",
   "metadata": {},
   "outputs": [],
   "source": [
    "texto = \"Eu gosto muito de pizza nordestina\""
   ]
  },
  {
   "cell_type": "code",
   "execution_count": 5,
   "id": "b07a366b",
   "metadata": {},
   "outputs": [],
   "source": [
    "from langchain.prompts import ChatPromptTemplate\n",
    "from langchain_openai import ChatOpenAI \n",
    "\n",
    "prompt = ChatPromptTemplate.from_messages([\n",
    "    (\"system\", \"Analise o texto e categorize-o conforme as instruções\"),\n",
    "    (\"user\", \"{input}\")\n",
    "])\n",
    "\n",
    "chat = ChatOpenAI()\n",
    "\n",
    "chain = prompt | chat.bind(functions = [tool_sentimento], \n",
    "                           function_call={\"name\": \"Sentimant\"})"
   ]
  },
  {
   "cell_type": "code",
   "execution_count": 6,
   "id": "1e5365ca",
   "metadata": {},
   "outputs": [
    {
     "data": {
      "text/plain": [
       "AIMessage(content='', additional_kwargs={'function_call': {'arguments': '{\"sentimento\":\"pos\",\"lingua\":\"portuguese\"}', 'name': 'Sentimant'}, 'refusal': None}, response_metadata={'token_usage': {'completion_tokens': 13, 'prompt_tokens': 135, 'total_tokens': 148, 'completion_tokens_details': {'accepted_prediction_tokens': 0, 'audio_tokens': 0, 'reasoning_tokens': 0, 'rejected_prediction_tokens': 0}, 'prompt_tokens_details': {'audio_tokens': 0, 'cached_tokens': 0}}, 'model_name': 'gpt-3.5-turbo-0125', 'system_fingerprint': None, 'id': 'chatcmpl-C1cwBgWJqBbaNZqGy3trVdRl1G5fv', 'service_tier': 'default', 'finish_reason': 'stop', 'logprobs': None}, id='run--f8f18fb8-0267-4f3a-88b0-f349ea9c5435-0', usage_metadata={'input_tokens': 135, 'output_tokens': 13, 'total_tokens': 148, 'input_token_details': {'audio': 0, 'cache_read': 0}, 'output_token_details': {'audio': 0, 'reasoning': 0}})"
      ]
     },
     "execution_count": 6,
     "metadata": {},
     "output_type": "execute_result"
    }
   ],
   "source": [
    "chain.invoke({\"input\":texto})"
   ]
  },
  {
   "cell_type": "markdown",
   "id": "0ed5b5c2",
   "metadata": {},
   "source": [
    "### Categorização de texto"
   ]
  },
  {
   "cell_type": "code",
   "execution_count": 7,
   "id": "5e507635",
   "metadata": {},
   "outputs": [],
   "source": [
    "solicitacoes = [\n",
    "    \"Meu computador esta travando toda vez que tento abrir um programa. O que fazer\",\n",
    "    \"Não consigo acessar minha conta. A senha não está funcionando\",\n",
    "    \"Estou com dificuldades em instalar o software de design gráfico. Pode me ajudar?\",\n",
    "    \"Gostaria de saber como atualizar o endereço de entrega na plataforma\",\n",
    "    \"O meu laptop não esta ligando. Acho que é um problema no cabo de força\",\n",
    "    \"Não consigo ver meu arquivos no aplicativo. Existe alguma solução?\"\n",
    "]"
   ]
  },
  {
   "cell_type": "code",
   "execution_count": 8,
   "id": "0c42bc0b",
   "metadata": {},
   "outputs": [],
   "source": [
    "from enum import Enum           \n",
    "from langchain.pydantic_v1 import BaseModel, Field\n",
    "\n",
    "class SetorEnum(str, Enum):\n",
    "    suporte_hardware = \"suporte_hardware\"\n",
    "    suporte_software = \"suporte_software\"\n",
    "    suporte_conta = \"suporte_conta\"\n",
    "    outros = \"outros\" \n",
    "\n",
    "class DirecionaSuporte(BaseModel):\n",
    "    \"\"\"Direciona a solicitação de suporte para o setor responsalvel\"\"\"\n",
    "    setor: SetorEnum"
   ]
  },
  {
   "cell_type": "code",
   "execution_count": 9,
   "id": "c006c475",
   "metadata": {},
   "outputs": [
    {
     "data": {
      "text/plain": [
       "{'name': 'DirecionaSuporte',\n",
       " 'description': 'Direciona a solicitação de suporte para o setor responsalvel',\n",
       " 'parameters': {'type': 'object',\n",
       "  'properties': {'setor': {'description': 'An enumeration.',\n",
       "    'enum': ['suporte_hardware',\n",
       "     'suporte_software',\n",
       "     'suporte_conta',\n",
       "     'outros'],\n",
       "    'type': 'string'}},\n",
       "  'required': ['setor']}}"
      ]
     },
     "execution_count": 9,
     "metadata": {},
     "output_type": "execute_result"
    }
   ],
   "source": [
    "from langchain_core.utils.function_calling import convert_to_openai_function\n",
    "\n",
    "tool_direcionamento_suporte = convert_to_openai_function(DirecionaSuporte)\n",
    "tool_direcionamento_suporte"
   ]
  },
  {
   "cell_type": "code",
   "execution_count": null,
   "id": "b76fb6de",
   "metadata": {},
   "outputs": [],
   "source": [
    "from langchain.prompts import ChatPromptTemplate\n",
    "from langchain_openai import ChatOpenAI\n",
    "from langchain.output_parsers.openai_functions import JsonOutputFunctionsParser\n",
    "\n",
    "system_message = '''Pense com cuidado ao categorizar o texto conforme as instruções.\n",
    "Questões relacionadas a problemas de hardware, como falha no computador, laptop ou outros dispositivos físicos devem ser direcionadas para \"suporte_hardware\".\n",
    "Questões relacionadas a problemas com software, como instalação, erros ao abrir programas, etc., devem ser direcionadas para \"suporte_software\".\n",
    "Problemas relacionados ao acesso de conta, como recuperação de senha, problemas de login, devem ser direcionados para \"suporte_conta\".\n",
    "Mensagens que não se encaixam nessas categorias devem ser direcionadas para \"outros\".\n",
    "'''\n",
    "prompt = ChatPromptTemplate.from_messages([\n",
    "    (\"system\", system_message),\n",
    "    (\"user\", \"{input}\")\n",
    "])\n",
    "\n",
    "chat = ChatOpenAI()\n",
    "\n",
    "chain = (prompt | chat.bind(functions=[tool_direcionamento_suporte],\n",
    "                            function_call={\"name\":\"DirecionaSuporte\"})\n",
    "         | JsonOutputFunctionsParser())"
   ]
  },
  {
   "cell_type": "code",
   "execution_count": 12,
   "id": "01b6dfff",
   "metadata": {},
   "outputs": [
    {
     "name": "stdout",
     "output_type": "stream",
     "text": [
      "Solicitação: Meu computador esta travando toda vez que tento abrir um programa. O que fazer\n",
      "Resposta: {'setor': 'suporte_software'}\n"
     ]
    }
   ],
   "source": [
    "solicitacao = solicitacoes[0]\n",
    "resposta = chain.invoke({\"input\": solicitacao})\n",
    "print(f\"Solicitação: {solicitacao}\")\n",
    "print(f\"Resposta: {resposta}\")"
   ]
  },
  {
   "cell_type": "code",
   "execution_count": 13,
   "id": "57de3d6b",
   "metadata": {},
   "outputs": [
    {
     "name": "stdout",
     "output_type": "stream",
     "text": [
      "Solicitação: Gostaria de saber como atualizar o endereço de entrega na plataforma\n",
      "Resposta: {'setor': 'suporte_conta'}\n"
     ]
    }
   ],
   "source": [
    "solicitacao = solicitacoes[3]\n",
    "resposta = chain.invoke({\"input\": solicitacao})\n",
    "print(f\"Solicitação: {solicitacao}\")\n",
    "print(f\"Resposta: {resposta}\")"
   ]
  },
  {
   "cell_type": "code",
   "execution_count": 14,
   "id": "0b06c98a",
   "metadata": {},
   "outputs": [
    {
     "name": "stdout",
     "output_type": "stream",
     "text": [
      "Solicitação: O meu laptop não esta ligando. Acho que é um problema no cabo de força\n",
      "Resposta: {'setor': 'suporte_hardware'}\n"
     ]
    }
   ],
   "source": [
    "solicitacao = solicitacoes[4]\n",
    "resposta = chain.invoke({\"input\": solicitacao})\n",
    "print(f\"Solicitação: {solicitacao}\")\n",
    "print(f\"Resposta: {resposta}\")"
   ]
  }
 ],
 "metadata": {
  "kernelspec": {
   "display_name": ".venv",
   "language": "python",
   "name": "python3"
  },
  "language_info": {
   "codemirror_mode": {
    "name": "ipython",
    "version": 3
   },
   "file_extension": ".py",
   "mimetype": "text/x-python",
   "name": "python",
   "nbconvert_exporter": "python",
   "pygments_lexer": "ipython3",
   "version": "3.13.2"
  }
 },
 "nbformat": 4,
 "nbformat_minor": 5
}
