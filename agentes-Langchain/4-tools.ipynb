{
 "cells": [
  {
   "cell_type": "code",
   "execution_count": 3,
   "id": "4428fc2b",
   "metadata": {},
   "outputs": [],
   "source": [
    "from langchain.agents import tool\n",
    "from langchain.pydantic_v1 import BaseModel, Field"
   ]
  },
  {
   "cell_type": "code",
   "execution_count": 5,
   "id": "25134811",
   "metadata": {},
   "outputs": [],
   "source": [
    "class CalcularDistanciaArgs(BaseModel):\n",
    "    cidade_origem: str = Field(description=\"Cidade de Origem\",\n",
    "                               examples=[\"São Paulo\", \"Rio de janeiro\"])\n",
    "    cidade_destino: str = Field(description=\"Cidade de Destino\",\n",
    "                               examples=[\"Porto Alegra\", \"Curitiba\"])\n",
    "\n",
    "@tool(args_schema=CalcularDistanciaArgs)\n",
    "\n",
    "def calcular_distancia(cidade_origem: str, cidade_destino: str):\n",
    "    \"\"\"Calcula a distância entre duas cidades\"\"\"\n",
    "    return f\"A distância entre {cidade_origem} e {cidade_destino} é de 300km\""
   ]
  },
  {
   "cell_type": "code",
   "execution_count": 8,
   "id": "6f83fb70",
   "metadata": {},
   "outputs": [
    {
     "data": {
      "text/plain": [
       "'A distância entre São Paulo e Porto Alegra é de 300km'"
      ]
     },
     "execution_count": 8,
     "metadata": {},
     "output_type": "execute_result"
    }
   ],
   "source": [
    "calcular_distancia.invoke({\"cidade_origem\": \"São Paulo\",\n",
    "                           \"cidade_destino\": \"Porto Alegra\"})"
   ]
  },
  {
   "cell_type": "code",
   "execution_count": null,
   "id": "cf0ecfdf",
   "metadata": {},
   "outputs": [],
   "source": [
    "from langchain.agents import tool\n",
    "from langchain.pydantic_v1 import BaseModel, Field\n",
    "\n",
    "class OperacaoMatematicaArgs(BaseModel):\n",
    "    "
   ]
  }
 ],
 "metadata": {
  "kernelspec": {
   "display_name": ".venv",
   "language": "python",
   "name": "python3"
  },
  "language_info": {
   "codemirror_mode": {
    "name": "ipython",
    "version": 3
   },
   "file_extension": ".py",
   "mimetype": "text/x-python",
   "name": "python",
   "nbconvert_exporter": "python",
   "pygments_lexer": "ipython3",
   "version": "3.13.2"
  }
 },
 "nbformat": 4,
 "nbformat_minor": 5
}
