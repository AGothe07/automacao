{
 "cells": [
  {
   "cell_type": "code",
   "execution_count": 1,
   "id": "d9bc92fa",
   "metadata": {},
   "outputs": [],
   "source": [
    "import pandas as pd \n",
    "from langchain_experimental.agents.agent_toolkits import create_pandas_dataframe_agent\n",
    "from langchain_openai import ChatOpenAI"
   ]
  },
  {
   "cell_type": "code",
   "execution_count": 2,
   "id": "1d9f6150",
   "metadata": {},
   "outputs": [
    {
     "data": {
      "text/html": [
       "<div>\n",
       "<style scoped>\n",
       "    .dataframe tbody tr th:only-of-type {\n",
       "        vertical-align: middle;\n",
       "    }\n",
       "\n",
       "    .dataframe tbody tr th {\n",
       "        vertical-align: top;\n",
       "    }\n",
       "\n",
       "    .dataframe thead th {\n",
       "        text-align: right;\n",
       "    }\n",
       "</style>\n",
       "<table border=\"1\" class=\"dataframe\">\n",
       "  <thead>\n",
       "    <tr style=\"text-align: right;\">\n",
       "      <th></th>\n",
       "      <th>Source</th>\n",
       "      <th>Year</th>\n",
       "      <th>Mean</th>\n",
       "    </tr>\n",
       "  </thead>\n",
       "  <tbody>\n",
       "    <tr>\n",
       "      <th>0</th>\n",
       "      <td>gcag</td>\n",
       "      <td>1850</td>\n",
       "      <td>-0.4177</td>\n",
       "    </tr>\n",
       "    <tr>\n",
       "      <th>1</th>\n",
       "      <td>gcag</td>\n",
       "      <td>1851</td>\n",
       "      <td>-0.2333</td>\n",
       "    </tr>\n",
       "    <tr>\n",
       "      <th>2</th>\n",
       "      <td>gcag</td>\n",
       "      <td>1852</td>\n",
       "      <td>-0.2294</td>\n",
       "    </tr>\n",
       "    <tr>\n",
       "      <th>3</th>\n",
       "      <td>gcag</td>\n",
       "      <td>1853</td>\n",
       "      <td>-0.2704</td>\n",
       "    </tr>\n",
       "    <tr>\n",
       "      <th>4</th>\n",
       "      <td>gcag</td>\n",
       "      <td>1854</td>\n",
       "      <td>-0.2915</td>\n",
       "    </tr>\n",
       "  </tbody>\n",
       "</table>\n",
       "</div>"
      ],
      "text/plain": [
       "  Source  Year    Mean\n",
       "0   gcag  1850 -0.4177\n",
       "1   gcag  1851 -0.2333\n",
       "2   gcag  1852 -0.2294\n",
       "3   gcag  1853 -0.2704\n",
       "4   gcag  1854 -0.2915"
      ]
     },
     "execution_count": 2,
     "metadata": {},
     "output_type": "execute_result"
    }
   ],
   "source": [
    "df_temp = pd.read_csv(\"https://datahub.io/core/global-temp/r/0.csv\")\n",
    "df_temp.head()"
   ]
  },
  {
   "cell_type": "code",
   "execution_count": 8,
   "id": "5498ee2a",
   "metadata": {},
   "outputs": [],
   "source": [
    "chat = ChatOpenAI(model=\"gpt-3.5-turbo-0125\")\n",
    "\n",
    "agent_temperatura = create_pandas_dataframe_agent(\n",
    "    chat, \n",
    "    df_temp,\n",
    "    verbose=True,\n",
    "    agent_type=\"tool-calling\",\n",
    "    allow_dangerous_code=True\n",
    ")\n"
   ]
  },
  {
   "cell_type": "code",
   "execution_count": 9,
   "id": "626c1029",
   "metadata": {},
   "outputs": [
    {
     "name": "stdout",
     "output_type": "stream",
     "text": [
      "\n",
      "\n",
      "\u001b[1m> Entering new AgentExecutor chain...\u001b[0m\n",
      "\u001b[32;1m\u001b[1;3m\n",
      "Invoking: `python_repl_ast` with `{'query': \"df[df['Year'] == df['Year'].max()]['Mean'].values[0]\"}`\n",
      "\n",
      "\n",
      "\u001b[0m\u001b[36;1m\u001b[1;3m1.1755\u001b[0m\u001b[32;1m\u001b[1;3mA temperatura média global do último ano disponível no dataframe é de 1.1755.\u001b[0m\n",
      "\n",
      "\u001b[1m> Finished chain.\u001b[0m\n",
      "{'input': 'Qual a temperatura media global do ultimo ano?', 'output': 'A temperatura média global do último ano disponível no dataframe é de 1.1755.'}\n"
     ]
    }
   ],
   "source": [
    "resposta = agent_temperatura.invoke({\"input\":\"Qual a temperatura media global do ultimo ano?\"})\n",
    "print(resposta)"
   ]
  },
  {
   "cell_type": "code",
   "execution_count": 10,
   "id": "f0b1ae2d",
   "metadata": {},
   "outputs": [
    {
     "name": "stdout",
     "output_type": "stream",
     "text": [
      "\n",
      "\n",
      "\u001b[1m> Entering new AgentExecutor chain...\u001b[0m\n",
      "\u001b[32;1m\u001b[1;3m\n",
      "Invoking: `python_repl_ast` with `{'query': \"df[df['Mean'] == df['Mean'].max()]['Year'].values[0]\"}`\n",
      "\n",
      "\n",
      "\u001b[0m\u001b[36;1m\u001b[1;3m2024\u001b[0m\u001b[32;1m\u001b[1;3mO ano com a maior temperatura média registrada foi 2024.\u001b[0m\n",
      "\n",
      "\u001b[1m> Finished chain.\u001b[0m\n",
      "{'input': 'Qual foi o ano com maior temperatura média?', 'output': 'O ano com a maior temperatura média registrada foi 2024.'}\n"
     ]
    }
   ],
   "source": [
    "resposta = agent_temperatura.invoke({\"input\":\"Qual foi o ano com maior temperatura média?\"})\n",
    "print(resposta)"
   ]
  },
  {
   "cell_type": "code",
   "execution_count": 11,
   "id": "fff41d0d",
   "metadata": {},
   "outputs": [],
   "source": [
    "from langchain_community.utilities.sql_database import SQLDatabase\n",
    "from langchain_community.agent_toolkits.sql.base import create_sql_agent\n",
    "from langchain_openai import ChatOpenAI"
   ]
  },
  {
   "cell_type": "code",
   "execution_count": 13,
   "id": "43431ca8",
   "metadata": {},
   "outputs": [],
   "source": [
    "db_sakila = SQLDatabase.from_uri(\"sqlite:///files/sakila_master.db\")\n",
    "\n",
    "chat = ChatOpenAI(model= \"gpt-3.5-turbo-0125\")\n",
    "\n",
    "agent_executor_sakila = create_sql_agent(\n",
    "    chat, \n",
    "    db=db_sakila,\n",
    "    agent_type=\"tool-calling\",\n",
    "    verbose=True\n",
    ")"
   ]
  },
  {
   "cell_type": "code",
   "execution_count": 14,
   "id": "e1c4a5a0",
   "metadata": {},
   "outputs": [
    {
     "name": "stdout",
     "output_type": "stream",
     "text": [
      "\n",
      "\n",
      "\u001b[1m> Entering new SQL Agent Executor chain...\u001b[0m\n",
      "\u001b[32;1m\u001b[1;3m\n",
      "Invoking: `sql_db_list_tables` with `{}`\n",
      "\n",
      "\n",
      "\u001b[0m\u001b[38;5;200m\u001b[1;3mactor, address, category, city, country, customer, film, film_actor, film_category, film_text, inventory, language, payment, rental, staff, store\u001b[0m\u001b[32;1m\u001b[1;3m\n",
      "Invoking: `sql_db_schema` with `{'table_names': 'film'}`\n",
      "\n",
      "\n",
      "\u001b[0m\u001b[33;1m\u001b[1;3m\n",
      "CREATE TABLE film (\n",
      "\tfilm_id INTEGER NOT NULL, \n",
      "\ttitle VARCHAR(255) NOT NULL, \n",
      "\tdescription TEXT DEFAULT NULL, \n",
      "\trelease_year VARCHAR(4) DEFAULT NULL, \n",
      "\tlanguage_id SMALLINT NOT NULL, \n",
      "\toriginal_language_id SMALLINT DEFAULT NULL, \n",
      "\trental_duration SMALLINT DEFAULT 3 NOT NULL, \n",
      "\trental_rate DECIMAL(4, 2) DEFAULT (4.99) NOT NULL, \n",
      "\tlength SMALLINT DEFAULT NULL, \n",
      "\treplacement_cost DECIMAL(5, 2) DEFAULT (19.99) NOT NULL, \n",
      "\trating VARCHAR(10) DEFAULT 'G', \n",
      "\tspecial_features VARCHAR(100) DEFAULT NULL, \n",
      "\tlast_update TIMESTAMP NOT NULL, \n",
      "\tPRIMARY KEY (film_id), \n",
      "\tCONSTRAINT fk_film_language FOREIGN KEY(language_id) REFERENCES language (language_id), \n",
      "\tCONSTRAINT fk_film_language_original FOREIGN KEY(original_language_id) REFERENCES language (language_id), \n",
      "\tCONSTRAINT \"CHECK_special_rating\" CHECK (rating in ('G','PG','PG-13','R','NC-17'))\n",
      ")\n",
      "\n",
      "/*\n",
      "3 rows from film table:\n",
      "film_id\ttitle\tdescription\trelease_year\tlanguage_id\toriginal_language_id\trental_duration\trental_rate\tlength\treplacement_cost\trating\tspecial_features\tlast_update\n",
      "1\tACADEMY DINOSAUR\tA Epic Drama of a Feminist And a Mad Scientist who must Battle a Teacher in The Canadian Rockies\t2006\t1\tNone\t6\t0.99\t86\t20.99\tPG\tDeleted Scenes,Behind the Scenes\t2020-12-23 07:12:31\n",
      "2\tACE GOLDFINGER\tA Astounding Epistle of a Database Administrator And a Explorer who must Find a Car in Ancient China\t2006\t1\tNone\t3\t4.99\t48\t12.99\tG\tTrailers,Deleted Scenes\t2020-12-23 07:12:31\n",
      "3\tADAPTATION HOLES\tA Astounding Reflection of a Lumberjack And a Car who must Sink a Lumberjack in A Baloon Factory\t2006\t1\tNone\t7\t2.99\t50\t18.99\tNC-17\tTrailers,Deleted Scenes\t2020-12-23 07:12:31\n",
      "*/\u001b[0m"
     ]
    },
    {
     "name": "stderr",
     "output_type": "stream",
     "text": [
      "c:\\programacao\\automacao\\agentes-Langchain\\.venv\\Lib\\site-packages\\langchain_community\\utilities\\sql_database.py:338: SAWarning: Cannot correctly sort tables; there are unresolvable cycles between tables \"staff, store\", which is usually caused by mutually dependent foreign key constraints.  Foreign key constraints involving these tables will not be considered; this warning may raise an error in a future release.\n",
      "  metadata_table_names = [tbl.name for tbl in self._metadata.sorted_tables]\n",
      "c:\\programacao\\automacao\\agentes-Langchain\\.venv\\Lib\\site-packages\\langchain_community\\utilities\\sql_database.py:350: SAWarning: Cannot correctly sort tables; there are unresolvable cycles between tables \"staff, store\", which is usually caused by mutually dependent foreign key constraints.  Foreign key constraints involving these tables will not be considered; this warning may raise an error in a future release.\n",
      "  for tbl in self._metadata.sorted_tables\n"
     ]
    },
    {
     "name": "stdout",
     "output_type": "stream",
     "text": [
      "\u001b[32;1m\u001b[1;3m\n",
      "Invoking: `sql_db_query` with `{'query': 'SELECT title, COUNT(*) AS num_rentals FROM film JOIN inventory ON film.film_id = inventory.film_id JOIN rental ON inventory.inventory_id = rental.inventory_id GROUP BY title ORDER BY num_rentals DESC LIMIT 10'}`\n",
      "\n",
      "\n",
      "\u001b[0m\u001b[36;1m\u001b[1;3m[('BUCKET BROTHERHOOD', 34), ('ROCKETEER MOTHER', 33), ('SCALAWAG DUCK', 32), ('RIDGEMONT SUBMARINE', 32), ('JUGGLER HARDLY', 32), ('GRIT CLOCKWORK', 32), ('FORWARD TEMPLE', 32), ('ZORRO ARK', 31), ('WIFE TURN', 31), ('TIMBERLAND SKY', 31)]\u001b[0m\u001b[32;1m\u001b[1;3mOs filmes mais alugados são:\n",
      "\n",
      "1. BUCKET BROTHERHOOD - 34 aluguéis\n",
      "2. ROCKETEER MOTHER - 33 aluguéis\n",
      "3. SCALAWAG DUCK - 32 aluguéis\n",
      "4. RIDGEMONT SUBMARINE - 32 aluguéis\n",
      "5. JUGGLER HARDLY - 32 aluguéis\n",
      "6. GRIT CLOCKWORK - 32 aluguéis\n",
      "7. FORWARD TEMPLE - 32 aluguéis\n",
      "8. ZORRO ARK - 31 aluguéis\n",
      "9. WIFE TURN - 31 aluguéis\n",
      "10. TIMBERLAND SKY - 31 aluguéis\u001b[0m\n",
      "\n",
      "\u001b[1m> Finished chain.\u001b[0m\n",
      "{'input': 'Quais são os filmes mais alugados?', 'output': 'Os filmes mais alugados são:\\n\\n1. BUCKET BROTHERHOOD - 34 aluguéis\\n2. ROCKETEER MOTHER - 33 aluguéis\\n3. SCALAWAG DUCK - 32 aluguéis\\n4. RIDGEMONT SUBMARINE - 32 aluguéis\\n5. JUGGLER HARDLY - 32 aluguéis\\n6. GRIT CLOCKWORK - 32 aluguéis\\n7. FORWARD TEMPLE - 32 aluguéis\\n8. ZORRO ARK - 31 aluguéis\\n9. WIFE TURN - 31 aluguéis\\n10. TIMBERLAND SKY - 31 aluguéis'}\n"
     ]
    }
   ],
   "source": [
    "response = agent_executor_sakila.invoke({\"input\":\"Quais são os filmes mais alugados?\"})\n",
    "print(response)"
   ]
  },
  {
   "cell_type": "code",
   "execution_count": 16,
   "id": "f4e3f2f7",
   "metadata": {},
   "outputs": [
    {
     "name": "stdout",
     "output_type": "stream",
     "text": [
      "\n",
      "\n",
      "\u001b[1m> Entering new SQL Agent Executor chain...\u001b[0m\n",
      "\u001b[32;1m\u001b[1;3m\n",
      "Invoking: `sql_db_list_tables` with `{}`\n",
      "\n",
      "\n",
      "\u001b[0m\u001b[38;5;200m\u001b[1;3mactor, address, category, city, country, customer, film, film_actor, film_category, film_text, inventory, language, payment, rental, staff, store\u001b[0m\u001b[32;1m\u001b[1;3m\n",
      "Invoking: `sql_db_schema` with `{'table_names': 'actor, film_actor'}`\n",
      "\n",
      "\n",
      "\u001b[0m\u001b[33;1m\u001b[1;3m\n",
      "CREATE TABLE actor (\n",
      "\tactor_id NUMERIC NOT NULL, \n",
      "\tfirst_name VARCHAR(45) NOT NULL, \n",
      "\tlast_name VARCHAR(45) NOT NULL, \n",
      "\tlast_update TIMESTAMP NOT NULL, \n",
      "\tPRIMARY KEY (actor_id)\n",
      ")\n",
      "\n",
      "/*\n",
      "3 rows from actor table:\n",
      "actor_id\tfirst_name\tlast_name\tlast_update\n",
      "1.0000000000\tPENELOPE\tGUINESS\t2020-12-23 07:12:29\n",
      "2.0000000000\tNICK\tWAHLBERG\t2020-12-23 07:12:29\n",
      "3.0000000000\tED\tCHASE\t2020-12-23 07:12:29\n",
      "*/\n",
      "\n",
      "\n",
      "CREATE TABLE film_actor (\n",
      "\tactor_id INTEGER NOT NULL, \n",
      "\tfilm_id INTEGER NOT NULL, \n",
      "\tlast_update TIMESTAMP NOT NULL, \n",
      "\tPRIMARY KEY (actor_id, film_id), \n",
      "\tCONSTRAINT fk_film_actor_actor FOREIGN KEY(actor_id) REFERENCES actor (actor_id) ON UPDATE CASCADE, \n",
      "\tCONSTRAINT fk_film_actor_film FOREIGN KEY(film_id) REFERENCES film (film_id) ON UPDATE CASCADE\n",
      ")\n",
      "\n",
      "/*\n",
      "3 rows from film_actor table:\n",
      "actor_id\tfilm_id\tlast_update\n",
      "1\t1\t2020-12-23 07:13:43\n",
      "1\t23\t2020-12-23 07:13:43\n",
      "1\t25\t2020-12-23 07:13:43\n",
      "*/\u001b[0m"
     ]
    },
    {
     "name": "stderr",
     "output_type": "stream",
     "text": [
      "c:\\programacao\\automacao\\agentes-Langchain\\.venv\\Lib\\site-packages\\langchain_community\\utilities\\sql_database.py:338: SAWarning: Cannot correctly sort tables; there are unresolvable cycles between tables \"staff, store\", which is usually caused by mutually dependent foreign key constraints.  Foreign key constraints involving these tables will not be considered; this warning may raise an error in a future release.\n",
      "  metadata_table_names = [tbl.name for tbl in self._metadata.sorted_tables]\n",
      "c:\\programacao\\automacao\\agentes-Langchain\\.venv\\Lib\\site-packages\\langchain_community\\utilities\\sql_database.py:350: SAWarning: Cannot correctly sort tables; there are unresolvable cycles between tables \"staff, store\", which is usually caused by mutually dependent foreign key constraints.  Foreign key constraints involving these tables will not be considered; this warning may raise an error in a future release.\n",
      "  for tbl in self._metadata.sorted_tables\n"
     ]
    },
    {
     "name": "stdout",
     "output_type": "stream",
     "text": [
      "\u001b[32;1m\u001b[1;3m\n",
      "Invoking: `sql_db_query` with `{'query': 'SELECT a.first_name, a.last_name, COUNT(fa.actor_id) as movie_count FROM actor a JOIN film_actor fa ON a.actor_id = fa.actor_id GROUP BY a.first_name, a.last_name ORDER BY movie_count DESC LIMIT 10'}`\n",
      "\n",
      "\n",
      "\u001b[0m\u001b[36;1m\u001b[1;3m[('SUSAN', 'DAVIS', 54), ('GINA', 'DEGENERES', 42), ('WALTER', 'TORN', 41), ('MARY', 'KEITEL', 40), ('MATTHEW', 'CARREY', 39), ('SANDRA', 'KILMER', 37), ('SCARLETT', 'DAMON', 36), ('ANGELA', 'WITHERSPOON', 35), ('GROUCHO', 'DUNST', 35), ('HENRY', 'BERRY', 35)]\u001b[0m\u001b[32;1m\u001b[1;3mOs atores que atuaram em mais filmes são SUSAN DAVIS, GINA DEGENERES, WALTER TORN, MARY KEITEL, MATTHEW CARREY, SANDRA KILMER, SCARLETT DAMON, ANGELA WITHERSPOON, GROUCHO DUNST e HENRY BERRY. Eles estão listados em ordem decrescente, com o número de filmes em que atuaram.\u001b[0m\n",
      "\n",
      "\u001b[1m> Finished chain.\u001b[0m\n",
      "{'input': 'Quais os nomes dos atores que atuaram em mais filmes?', 'output': 'Os atores que atuaram em mais filmes são SUSAN DAVIS, GINA DEGENERES, WALTER TORN, MARY KEITEL, MATTHEW CARREY, SANDRA KILMER, SCARLETT DAMON, ANGELA WITHERSPOON, GROUCHO DUNST e HENRY BERRY. Eles estão listados em ordem decrescente, com o número de filmes em que atuaram.'}\n"
     ]
    }
   ],
   "source": [
    "response = agent_executor_sakila.invoke({\"input\":\"Quais os nomes dos atores que atuaram em mais filmes?\"})\n",
    "print(response)"
   ]
  }
 ],
 "metadata": {
  "kernelspec": {
   "display_name": ".venv",
   "language": "python",
   "name": "python3"
  },
  "language_info": {
   "codemirror_mode": {
    "name": "ipython",
    "version": 3
   },
   "file_extension": ".py",
   "mimetype": "text/x-python",
   "name": "python",
   "nbconvert_exporter": "python",
   "pygments_lexer": "ipython3",
   "version": "3.13.2"
  }
 },
 "nbformat": 4,
 "nbformat_minor": 5
}
