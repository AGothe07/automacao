{
 "cells": [
  {
   "cell_type": "code",
   "execution_count": 5,
   "id": "7dfbb128",
   "metadata": {},
   "outputs": [],
   "source": [
    "from langchain_openai import ChatOpenAI\n",
    "\n",
    "model = ChatOpenAI(model=\"gpt-3.5-turbo-0125\")"
   ]
  },
  {
   "cell_type": "code",
   "execution_count": 6,
   "id": "9a0f4156",
   "metadata": {},
   "outputs": [],
   "source": [
    "from langchain_core.prompts import ChatPromptTemplate\n",
    "\n",
    "prompt = ChatPromptTemplate.from_template(\"Crie uma frase sobre: {assunto}\")"
   ]
  },
  {
   "cell_type": "code",
   "execution_count": 7,
   "id": "720275e0",
   "metadata": {},
   "outputs": [],
   "source": [
    "chain = prompt | model"
   ]
  },
  {
   "cell_type": "code",
   "execution_count": 8,
   "id": "98cb9032",
   "metadata": {},
   "outputs": [
    {
     "data": {
      "text/plain": [
       "ChatPromptTemplate(input_variables=['assunto'], input_types={}, partial_variables={}, messages=[HumanMessagePromptTemplate(prompt=PromptTemplate(input_variables=['assunto'], input_types={}, partial_variables={}, template='Crie uma frase sobre: {assunto}'), additional_kwargs={})])\n",
       "| ChatOpenAI(client=<openai.resources.chat.completions.completions.Completions object at 0x000001D4DE628E10>, async_client=<openai.resources.chat.completions.completions.AsyncCompletions object at 0x000001D4DE6291D0>, root_client=<openai.OpenAI object at 0x000001D4DE628B90>, root_async_client=<openai.AsyncOpenAI object at 0x000001D4DE628F50>, model_name='gpt-3.5-turbo-0125', model_kwargs={}, openai_api_key=SecretStr('**********'))"
      ]
     },
     "execution_count": 8,
     "metadata": {},
     "output_type": "execute_result"
    }
   ],
   "source": [
    "chain"
   ]
  },
  {
   "cell_type": "code",
   "execution_count": 9,
   "id": "f31838c2",
   "metadata": {},
   "outputs": [
    {
     "data": {
      "text/plain": [
       "AIMessage(content='Python é uma linguagem de programação versátil, poderosa e fácil de aprender, ideal tanto para iniciantes quanto para profissionais.', additional_kwargs={'refusal': None}, response_metadata={'token_usage': {'completion_tokens': 30, 'prompt_tokens': 14, 'total_tokens': 44, 'completion_tokens_details': {'accepted_prediction_tokens': 0, 'audio_tokens': 0, 'reasoning_tokens': 0, 'rejected_prediction_tokens': 0}, 'prompt_tokens_details': {'audio_tokens': 0, 'cached_tokens': 0}}, 'model_name': 'gpt-3.5-turbo-0125', 'system_fingerprint': None, 'id': 'chatcmpl-C1HpFdGjNgBLELpGewWksGdPJmCy1', 'service_tier': 'default', 'finish_reason': 'stop', 'logprobs': None}, id='run--d709ba89-35a9-4c64-bba5-495cbf0171b3-0', usage_metadata={'input_tokens': 14, 'output_tokens': 30, 'total_tokens': 44, 'input_token_details': {'audio': 0, 'cache_read': 0}, 'output_token_details': {'audio': 0, 'reasoning': 0}})"
      ]
     },
     "execution_count": 9,
     "metadata": {},
     "output_type": "execute_result"
    }
   ],
   "source": [
    "chain.invoke(input=\"Python\")"
   ]
  },
  {
   "cell_type": "code",
   "execution_count": 10,
   "id": "294c5800",
   "metadata": {},
   "outputs": [],
   "source": [
    "from langchain_core.output_parsers import StrOutputParser\n",
    "\n",
    "output_parser = StrOutputParser()\n",
    "\n",
    "chain = prompt | model | output_parser "
   ]
  },
  {
   "cell_type": "code",
   "execution_count": 11,
   "id": "2969855b",
   "metadata": {},
   "outputs": [
    {
     "data": {
      "text/plain": [
       "'O método StrOutpouParser() é essencial para realizar a formatação e extração de informações de uma string de saída.'"
      ]
     },
     "execution_count": 11,
     "metadata": {},
     "output_type": "execute_result"
    }
   ],
   "source": [
    "chain.invoke({\"assunto\": \"StrOutpouParser()\"})"
   ]
  },
  {
   "cell_type": "code",
   "execution_count": 12,
   "id": "d5ac34ec",
   "metadata": {},
   "outputs": [],
   "source": [
    "input = {\"assunto\" : \"Python\"}"
   ]
  },
  {
   "cell_type": "code",
   "execution_count": 13,
   "id": "9a08e086",
   "metadata": {},
   "outputs": [
    {
     "data": {
      "text/plain": [
       "ChatPromptValue(messages=[HumanMessage(content='Crie uma frase sobre: Python', additional_kwargs={}, response_metadata={})])"
      ]
     },
     "execution_count": 13,
     "metadata": {},
     "output_type": "execute_result"
    }
   ],
   "source": [
    "prompt_format = prompt.invoke(input)\n",
    "prompt_format"
   ]
  },
  {
   "cell_type": "code",
   "execution_count": 14,
   "id": "cb70249a",
   "metadata": {},
   "outputs": [
    {
     "data": {
      "text/plain": [
       "AIMessage(content='\"Python é uma linguagem versátil e poderosa, que torna a programação acessível e eficiente para todos os níveis de desenvolvedores.\"', additional_kwargs={'refusal': None}, response_metadata={'token_usage': {'completion_tokens': 34, 'prompt_tokens': 14, 'total_tokens': 48, 'completion_tokens_details': {'accepted_prediction_tokens': 0, 'audio_tokens': 0, 'reasoning_tokens': 0, 'rejected_prediction_tokens': 0}, 'prompt_tokens_details': {'audio_tokens': 0, 'cached_tokens': 0}}, 'model_name': 'gpt-3.5-turbo-0125', 'system_fingerprint': None, 'id': 'chatcmpl-C1HpIEsrmD7RJ3aaa8OsN9EVEKlNz', 'service_tier': 'default', 'finish_reason': 'stop', 'logprobs': None}, id='run--9b46dfe6-d37a-4ec0-b45d-8d368beaf08e-0', usage_metadata={'input_tokens': 14, 'output_tokens': 34, 'total_tokens': 48, 'input_token_details': {'audio': 0, 'cache_read': 0}, 'output_token_details': {'audio': 0, 'reasoning': 0}})"
      ]
     },
     "execution_count": 14,
     "metadata": {},
     "output_type": "execute_result"
    }
   ],
   "source": [
    "resposta = model.invoke(prompt_format)\n",
    "resposta"
   ]
  },
  {
   "cell_type": "code",
   "execution_count": 15,
   "id": "3f9dd76f",
   "metadata": {},
   "outputs": [],
   "source": [
    "from langchain.chains.llm import LLMChain\n",
    "from langchain_openai.chat_models import ChatOpenAI\n",
    "from langchain_core.output_parsers import StrOutputParser \n",
    "from langchain_core.prompts import ChatPromptTemplate\n",
    "\n",
    "model= ChatOpenAI(model=\"gpt-3.5-turbo\")\n",
    "prompt= ChatPromptTemplate.from_template(\"Crie uma frase sobre o assunto {assunto}\")\n",
    "output_parser = StrOutputParser()"
   ]
  },
  {
   "cell_type": "code",
   "execution_count": 16,
   "id": "2a00431a",
   "metadata": {},
   "outputs": [
    {
     "data": {
      "text/plain": [
       "{'assunto': 'Python',\n",
       " 'text': 'Python é uma linguagem de programação versátil e poderosa, perfeita para iniciantes e profissionais experientes.'}"
      ]
     },
     "execution_count": 16,
     "metadata": {},
     "output_type": "execute_result"
    }
   ],
   "source": [
    "chain = LLMChain(\n",
    "    llm=model,\n",
    "    prompt=prompt,\n",
    "    output_parser=output_parser\n",
    ")\n",
    "\n",
    "chain.invoke({\"assunto\":\"Python\"})"
   ]
  },
  {
   "cell_type": "code",
   "execution_count": 18,
   "id": "9b6497c7",
   "metadata": {},
   "outputs": [
    {
     "data": {
      "text/plain": [
       "ChatPromptValue(messages=[HumanMessage(content='Crie uma frase sobre o assunto Python', additional_kwargs={}, response_metadata={})])"
      ]
     },
     "execution_count": 18,
     "metadata": {},
     "output_type": "execute_result"
    }
   ],
   "source": [
    "input = {\"assunto\":\"Python\"}\n",
    "prompt_format = prompt.invoke(input)\n",
    "prompt_format"
   ]
  },
  {
   "cell_type": "code",
   "execution_count": 20,
   "id": "2b1b2108",
   "metadata": {},
   "outputs": [
    {
     "data": {
      "text/plain": [
       "AIMessage(content='Python é uma linguagem de programação poderosa e versátil, capaz de se adaptar a diversas áreas de atuação e facilitar o desenvolvimento de projetos de grandes complexidades.', additional_kwargs={'refusal': None}, response_metadata={'token_usage': {'completion_tokens': 41, 'prompt_tokens': 16, 'total_tokens': 57, 'completion_tokens_details': {'accepted_prediction_tokens': 0, 'audio_tokens': 0, 'reasoning_tokens': 0, 'rejected_prediction_tokens': 0}, 'prompt_tokens_details': {'audio_tokens': 0, 'cached_tokens': 0}}, 'model_name': 'gpt-3.5-turbo-0125', 'system_fingerprint': None, 'id': 'chatcmpl-C1HucPmJy30cxm7fmQQ7T8mufP3UO', 'service_tier': 'default', 'finish_reason': 'stop', 'logprobs': None}, id='run--f3ebefed-5bd3-4add-9b80-65fc9065c04f-0', usage_metadata={'input_tokens': 16, 'output_tokens': 41, 'total_tokens': 57, 'input_token_details': {'audio': 0, 'cache_read': 0}, 'output_token_details': {'audio': 0, 'reasoning': 0}})"
      ]
     },
     "execution_count": 20,
     "metadata": {},
     "output_type": "execute_result"
    }
   ],
   "source": [
    "resposta = model.invoke(prompt_format)\n",
    "resposta"
   ]
  },
  {
   "cell_type": "code",
   "execution_count": 21,
   "id": "27a9f191",
   "metadata": {},
   "outputs": [],
   "source": [
    "from langchain.chains.llm import LLMChain\n",
    "from langchain_openai.chat_models import ChatOpenAI\n",
    "from langchain_core.output_parsers import StrOutputParser\n",
    "from langchain_core.prompts import ChatPromptTemplate\n",
    "\n",
    "model = ChatOpenAI(model=\"gpt-3.5-turbo\")\n",
    "prompt = ChatPromptTemplate.from_template(\"Crie uma frase sobre o assunto {assunto}\")\n",
    "output_parser=StrOutputParser()"
   ]
  },
  {
   "cell_type": "code",
   "execution_count": 22,
   "id": "e5934864",
   "metadata": {},
   "outputs": [
    {
     "data": {
      "text/plain": [
       "{'assunto': 'Python',\n",
       " 'text': 'Python é uma linguagem de programação versátil e poderosa, ideal para iniciantes e experientes na área de tecnologia.'}"
      ]
     },
     "execution_count": 22,
     "metadata": {},
     "output_type": "execute_result"
    }
   ],
   "source": [
    "chain = LLMChain(\n",
    "    llm = model,\n",
    "    prompt=prompt, \n",
    "    output_parser=output_parser\n",
    ")\n",
    "\n",
    "chain.invoke({\"assunto\":\"Python\"})"
   ]
  }
 ],
 "metadata": {
  "kernelspec": {
   "display_name": ".venv",
   "language": "python",
   "name": "python3"
  },
  "language_info": {
   "codemirror_mode": {
    "name": "ipython",
    "version": 3
   },
   "file_extension": ".py",
   "mimetype": "text/x-python",
   "name": "python",
   "nbconvert_exporter": "python",
   "pygments_lexer": "ipython3",
   "version": "3.13.2"
  }
 },
 "nbformat": 4,
 "nbformat_minor": 5
}
