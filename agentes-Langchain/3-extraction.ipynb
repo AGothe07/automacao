{
 "cells": [
  {
   "cell_type": "code",
   "execution_count": 1,
   "id": "f4c64081",
   "metadata": {},
   "outputs": [],
   "source": [
    "texto = \"\"\"A Microsoft foi fundada em 4 de abril de 1975 por Bill Gates e Paul Allen, \n",
    "em Albuquerque, no estado do Novo México. O nome \"Microsoft\" é uma combinação das palavras \n",
    "\"microcomputador\" e \"software\", refletindo o foco da empresa em software para computadores \n",
    "pessoais.\n",
    "O primeiro grande projeto da Microsoft foi a criação de um sistema operacional para o computador \n",
    "Altair 8800, um dos primeiros microcomputadores disponíveis comercialmente. O sistema, denominado \n",
    "Altair BASIC, foi desenvolvido em parceria com a MITS (Micro Instrumentation and Telemetry Systems) \n",
    "e foi um marco inicial para a Microsoft.\n",
    "Em 1980, a empresa firmou um contrato significativo com a IBM para fornecer o sistema operacional para \n",
    "o novo PC da IBM, o que levou à criação do MS-DOS. Esse contrato foi um ponto de virada para a Microsoft, \n",
    "impulsionando sua expansão e dominando o mercado de sistemas operacionais para PCs nos anos seguintes.\n",
    "Com o sucesso do MS-DOS, a Microsoft se consolidou como líder no setor de software e, em 1985, lançou o Windows, \n",
    "um sistema operacional gráfico que viria a se tornar a base de sua supremacia no mercado de sistemas operacionais para desktop.\"\"\""
   ]
  },
  {
   "cell_type": "code",
   "execution_count": 3,
   "id": "3c122092",
   "metadata": {},
   "outputs": [
    {
     "name": "stderr",
     "output_type": "stream",
     "text": [
      "c:\\programacao\\automacao\\agentes-Langchain\\.venv\\Lib\\site-packages\\IPython\\core\\interactiveshell.py:3699: LangChainDeprecationWarning: As of langchain-core 0.3.0, LangChain uses pydantic v2 internally. The langchain.pydantic_v1 module was a compatibility shim for pydantic v1, and should no longer be used. Please update the code to import from Pydantic directly.\n",
      "\n",
      "For example, replace imports like: `from langchain.pydantic_v1 import BaseModel`\n",
      "with: `from pydantic import BaseModel`\n",
      "or the v1 compatibility namespace if you are working in a code base that has not been fully upgraded to pydantic 2 yet. \tfrom pydantic.v1 import BaseModel\n",
      "\n",
      "  exec(code_obj, self.user_global_ns, self.user_ns)\n"
     ]
    }
   ],
   "source": [
    "from langchain.pydantic_v1 import BaseModel, Field\n",
    "from typing import List\n",
    "from langchain_core.utils.function_calling import convert_to_openai_function"
   ]
  },
  {
   "cell_type": "code",
   "execution_count": 3,
   "id": "377e43b4",
   "metadata": {},
   "outputs": [
    {
     "data": {
      "text/plain": [
       "{'name': 'EventsList',\n",
       " 'description': 'Lista de eventos para extração',\n",
       " 'parameters': {'type': 'object',\n",
       "  'properties': {'events': {'description': 'Conjunto de eventos encontrados no texto fornecido',\n",
       "    'type': 'array',\n",
       "    'items': {'description': 'Informações sobre um evento ocorrido',\n",
       "     'type': 'object',\n",
       "     'properties': {'date': {'description': 'Data do evento no formato YYYY-MM-DD',\n",
       "       'type': 'string'},\n",
       "      'event': {'description': 'Descrição do evento extraido do texto',\n",
       "       'type': 'string'}},\n",
       "     'required': ['date', 'event']}}},\n",
       "  'required': ['events']}}"
      ]
     },
     "execution_count": 3,
     "metadata": {},
     "output_type": "execute_result"
    }
   ],
   "source": [
    "class Event(BaseModel):\n",
    "    \"\"\"Informações sobre um evento ocorrido\"\"\"\n",
    "    date: str = Field(description=\"Data do evento no formato YYYY-MM-DD\")\n",
    "    event: str = Field(description=\"Descrição do evento extraido do texto\")\n",
    "\n",
    "class EventsList(BaseModel):\n",
    "    \"\"\"Lista de eventos para extração\"\"\"\n",
    "    events: List[Event] = Field(description=\"Conjunto de eventos encontrados no texto fornecido\")\n",
    "\n",
    "tool_events = convert_to_openai_function(EventsList)\n",
    "tool_events"
   ]
  },
  {
   "cell_type": "code",
   "execution_count": 4,
   "id": "be8e666b",
   "metadata": {},
   "outputs": [],
   "source": [
    "from langchain.prompts import ChatPromptTemplate\n",
    "from langchain_openai import ChatOpenAI\n",
    "\n",
    "prompt = ChatPromptTemplate.from_messages([\n",
    "    (\"system\", \"Extraia as frases de acontecimento e as extraia integralmente\"),\n",
    "    (\"user\", \"{input}\")\n",
    "])              \n",
    "\n",
    "chat = ChatOpenAI()\n",
    "\n",
    "chain = (prompt | chat.bind(functions=[tool_events], \n",
    "                            function_call = {\"name\": \"EventsList\"}))"
   ]
  },
  {
   "cell_type": "code",
   "execution_count": 5,
   "id": "335df513",
   "metadata": {},
   "outputs": [
    {
     "data": {
      "text/plain": [
       "AIMessage(content='', additional_kwargs={'function_call': {'arguments': '{\"events\":[{\"date\":\"1975-04-04\",\"event\":\"A Microsoft foi fundada por Bill Gates e Paul Allen em Albuquerque, Novo México.\"},{\"date\":\"1980\",\"event\":\"A Microsoft firmou um contrato significativo com a IBM para fornecer o sistema operacional para o novo PC da IBM, levando à criação do MS-DOS.\"},{\"date\":\"1985\",\"event\":\"A Microsoft lançou o Windows, um sistema operacional gráfico que se tornou a base de sua supremacia no mercado de sistemas operacionais para desktop.\"}]}', 'name': 'EventsList'}, 'refusal': None}, response_metadata={'token_usage': {'completion_tokens': 118, 'prompt_tokens': 420, 'total_tokens': 538, 'completion_tokens_details': {'accepted_prediction_tokens': 0, 'audio_tokens': 0, 'reasoning_tokens': 0, 'rejected_prediction_tokens': 0}, 'prompt_tokens_details': {'audio_tokens': 0, 'cached_tokens': 0}}, 'model_name': 'gpt-3.5-turbo-0125', 'system_fingerprint': None, 'id': 'chatcmpl-C1vzUcpZ32sxVTkiZNZHygaMgroqo', 'service_tier': 'default', 'finish_reason': 'stop', 'logprobs': None}, id='run--ad75b697-551c-41b5-8347-8752a097cb2f-0', usage_metadata={'input_tokens': 420, 'output_tokens': 118, 'total_tokens': 538, 'input_token_details': {'audio': 0, 'cache_read': 0}, 'output_token_details': {'audio': 0, 'reasoning': 0}})"
      ]
     },
     "execution_count": 5,
     "metadata": {},
     "output_type": "execute_result"
    }
   ],
   "source": [
    "chain.invoke({\"input\": texto})"
   ]
  },
  {
   "cell_type": "code",
   "execution_count": 6,
   "id": "39746c63",
   "metadata": {},
   "outputs": [
    {
     "data": {
      "text/plain": [
       "{'events': [{'date': '1975-04-04',\n",
       "   'event': 'Microsoft foi fundada por Bill Gates e Paul Allen em Albuquerque, Novo México.'},\n",
       "  {'date': '1980',\n",
       "   'event': 'Microsoft firmou contrato com a IBM para fornecer o sistema operacional para o novo PC da IBM, resultando no MS-DOS.'},\n",
       "  {'date': '1985',\n",
       "   'event': 'Microsoft lançou o Windows, sistema operacional gráfico.'}]}"
      ]
     },
     "execution_count": 6,
     "metadata": {},
     "output_type": "execute_result"
    }
   ],
   "source": [
    "from langchain.output_parsers.openai_functions import JsonOutputFunctionsParser\n",
    "\n",
    "chain = (prompt |\n",
    "         chat.bind(functions=[tool_events], function_call={\"name\": \"EventsList\"}) |\n",
    "         JsonOutputFunctionsParser())\n",
    "\n",
    "chain.invoke({\"input\": texto})"
   ]
  },
  {
   "cell_type": "markdown",
   "id": "75ecef20",
   "metadata": {},
   "source": [
    "### Dados da Web\n"
   ]
  },
  {
   "cell_type": "code",
   "execution_count": 1,
   "id": "c297ee5e",
   "metadata": {},
   "outputs": [
    {
     "data": {
      "text/plain": [
       "[Document(metadata={'source': 'https://www.techtudo.com.br', 'title': 'TechTudo: tecnologia, celular, computador e games', 'description': 'O TechTudo reúne as principais notícias de tecnologia, reviews de celulares, TVs e computadores, além de dicas sobre aparelhos, aplicativos e softwares.', 'language': 'pt-BR'}, page_content=\" TechTudo: tecnologia, celular, computador e games                top e últimas       Voltar     top e últimas    últimas do techtudo     notícias     comparativos     dicas e tutoriais     guias     listas     reviews     vídeos     tudo sobre     webstories       celulares e tablets       Voltar     celulares e tablets    notícias de celulares     celulares     tablets     telefonia     smartwatches     e-reader     android     iOS     fórum     --     iPhone 14     iphone 13     galaxy s22 ultra     moto g stylus     redmi note 10       jogos       Voltar     jogos    notícias de jogos     jogos casuais     jogos de esportes     jogos de terror     mais jogos       Voltar     mais jogos    jogos de ação     jogos arcade     jogos de aventura     jogos de corrida     jogos de estratégia     jogos de luta     jogos de raciocínio     jogos de rpg     jogos de tabuleiro     jogos educativos       playstation     xbox     nintendo     fórum     --     gta 5     roblox     minecraft       esports       Voltar     esports    notícias de esports     campeonatos     times     atletas     --     cblol     liga brasileira de free fire     twitch tv       informática       Voltar     informática    notícias de informática     computadores       Voltar     computadores    pc     pc gamer       notebooks       Voltar     notebooks    notebooks     notebooks 2 em 1     notebook gamer       impressoras       Voltar     impressoras    impressoras     impressoras 3d       mouses     placas e componentes     roteadores     --     windows 11     macos     linux       eletrodomésticos       Voltar     eletrodomésticos    air fryer     fogões     geladeiras     máquinas de lavar       eletrônicos       Voltar     eletrônicos    notícias de eletrônicos     ar-condicionado     caixas de som     câmeras       Voltar     câmeras    câmeras     filmadoras       carros smart     fones de ouvido     máquinas de cartão     tv box     TVs     veículos     --     gopro hero      chromecast     amazon echo dot       softwares       Voltar     softwares    notícias de softwares     aplicativos para celular     áudio e vídeo     imagens     inteligência artificial     internet     produtividade     redes sociais     segurança     utilitários     --     whatsapp     instagram     facebook     youtube       Streaming       Voltar     Streaming    notícias de streaming     Animes     Séries       Voltar     Séries    dorama     séries       Filmes     Jogos de futebol     Programas de TV     Plataformas       --     tech 60+     prime day     qual comprar     iphone 16     --     quem somos     fórum techtudo     canal do tt no whatsapp     CBN tecnologia     conteúdo de marca       Voltar     conteúdo de marca    americanas              princípios editoriais        termos de uso        política de privacidade                         Menu                      TechTudo                                                               últimas     aplicativos     celulares     eletrônicos     informática     eletrodomésticos     jogos     softwares     streaming     qual comprar         Publicidade        \\n\\n\\n\\n\\n                      FIQUE POR DENTRO\\n                    \\n                    CANAL DO TECHTUDO NO WHATSAPP\\n                  \\n\\n\\n\\n                      DICAS, REVIEWS E MAIS\\n                      \\n\\n\\n\\n\\n\\n\\n\\n\\n\\n      TELA DE CINEMA Smart TV 4K: conheça 6 opções com ótimo custo-benefício TVs oferecem imagem de cinema, design sofisticado e recursos avançados, sendo ideais para uma experiência imersiva e acessível        EA FC 26 CHEGANDO 10 coisas para aproveitar no finalzinho do EA FC 25        JÁ TESTOU? 7 extensões do Google Chrome que o deixam mais seguro       CONTINUA DEPOIS DA PUBLICIDADE            Vídeos              CONFIRA!  Qual filme todo mundo gosta MENOS você? Listamos 5 obras superestimadas!           NOVIDADE!  Galaxy Z Flip 7 é o novo celular da Samsung; veja ficha e preço           IMPORTANTE  Melhores antivírus Grátis para celular Android! Veja o Top 3 atualizado para 2025!          APPS E SOFTWARES          SAIBA QUAIS    6 apps nativos que todo dono de celular Samsung deveria usar                 SAIBA DIFERENÇAS    Microsoft 365: como funcionam as versões Personal, Family e Business               JÁ USOU?    Como baixar Betnacional no celular? Testamos o app da casa de apostas                     ELETRODOMÉSTICOS          QUAL COMPRAR?    Melhor secadora de roupas: veja 10 modelos para comprar em 2025                 VEJA OPÇÕES    Panela de arroz Britânia, Mondial, WAP e mais: compare esses 6 modelos               ESCOLHA O SEU    Esses 5 ferros de passar roupa nunca vão queimar as suas roupas!               DESCUBRA    As 7 melhores air fryers para economizar sem fritar o bolso                    CELULARES          BATALHA DE INTERMEDIÁRIOS    Galaxy A36 vs Galaxy A56: veja o que muda entre os celulares Samsung     Smartphones apostam em tela de qualidade, bateria de 5.000 mAh e câmeras com recursos avançados                 TABLET DA XIAOMI    Redmi Pad 2 é bom? Veja preço e ficha técnica               SAIBA SE VALE    Veja preço e ficha técnica do Realme GT 7 no Brasil               XIAOMI    Qual é o preço do Redmi Note 12 em 2025? Veja se ainda vale                    ASSISTA ONLINE!          NOVIDADE BOMBÁSTICA    A série mais AMADA da Netflix ganha a segunda temporada nesta semana     Combinando terror e drama teen essa série derivada da Família Addams retorna com novos episódios, mistérios, reviravoltas e Jenna Ortega liderando o elenco; confira enredo, episódios e mais                 MELHORES DO MÊS    Melhores séries de 2025: 12 destaques imperdíveis de julho               VEM AÍ    Lançamentos da HBO Max em agosto: veja estreias de filmes e séries               PARA FÃS DO GÊNERO    Esses 6 doramas chegam ao streaming em agosto e você precisa ficar de olho                    INFORMÁTICA & ELETRÔNICOS          EXPLICAMOS    Como acertar na escolha da placa-mãe: dicas essenciais para encontrar a ideal     Entenda como a escolha correta de uma placa-mãe pode influenciar na sua experiência com o PC e até na vida útil do seu equipamento                 BARATINHOS! 💸    Melhor mouse custo-benefício 2025: 8 opções para estudo, trabalho e jogos               CONFIRA    USB-C em tudo? Benefícios e dores de cabeça da padronização dos carregadores               AMD    RX 580 ainda vale a pena em 2025? Veja análise da placa de vídeo                    QUAL COMPRAR          PODEROSOS    6 celulares Samsung top de linha que entregam tudo o que você precisa     Modelos de Havit, JBL são opções a partir de R$ 199; veja                 LISTA    Esses Macbooks entregam design e desempenho; veja               DIFERENTES MODELOS    8 fones de ouvido em promoção para ter som de qualidade pagando menos               DECIDA QUAL COMPRAR    Cooktop 4 bocas Brastemp, Electrolux e Consul: 5 modelos                    JOGOS & ESPORTS          MUDANÇA TOTAL    10 coisas para aproveitar agora no EA FC 25     Sugestões para se divertir antes de EA FC 26 chegar                 PROMOÇÕES MALUCAS    Mortal Kombat 1 baratíssimo; veja ofertas               VALEM A EXPERIÊNCIA    10 jogos de mundo aberto no PS4 ou PS5               MUDANÇA TOTAL    Modo Carreira no EA FC 26: todas as novidades confirmadas                      Mais Lidas         8 tipos de aplicativos inúteis que podem colocar seu iPhone em perigo       Creepypastas: relembra as 8 lendas mais assustadoras que a web já criou       Golpe usa fotos das redes sociais para burlar reconhecimento facial       Tem um PC antigo em casa? Veja 7 dicas para reaproveitar o computador       Baratinhos e 'basicões': 5 celulares até R$ 900 para comprar em emergências           CONTINUA DEPOIS DA PUBLICIDADE        Top Downloads         1        Counter-Strike    8,8                               Saiba mais        2        aTube Catcher    9,8                               Saiba mais        3        BlueStacks App Player    7,5                               Saiba mais        4        Chrome     10                               Saiba mais        5        Firefox    8,8                               Saiba mais        CONTINUA DEPOIS DA PUBLICIDADE       Techtudo   Você tem alguma dúvida sobre tecnologia? Visite o Fórum TechTudo e peça ajuda para a comunidade.   FAÇA UM PERGUNTA                SIGA                                                                           aplicativos    instagram     whatsapp     youtube      celulares    iphone 14     android     ios      jogos    coin master     gta 5     minecraft      esports    csgo     league of legends     valorant      eletrônicos    amazon echo dot     chromecast     gopro hero      eletrodomésticos    air fryer     fogões     geladeiras     máquinas de lavar      informática    dell     intel core i5     macbook air      softwares    adobe photoshop     adobe reader     windows      streaming    netflix     star+     amazon prime video      tudo sobre de a-z   mapa do site    comparativos     dicas e tutoriais     guias     listas     noticias     reviews     webstories                        Valor   Pipeline   Valor Investe       O Globo   Extra   Autoesporte   BHFM   Casa e Jardim   Casa Vogue   CBN       Crescer   Época Negócios   Galileu   Glamour   Globo Rural   GQ   Marie Claire       Monet   PEGN   Quem   Rádio Globo   TechTudo   Um Só Planeta   Vida de Bicho   Vogue        Quem Somos Termos e Condições Trabalhe Conosco Política de Privacidade Princípios Editoriais Anuncie Minha Editora Rel. Transparência Salarial       © 1996 - 2025. Todos direitos reservados a Editora Globo S/A. Este material não pode ser publicado, transmitido por broadcast, reescrito ou redistribuído sem autorização.          \")]"
      ]
     },
     "execution_count": 1,
     "metadata": {},
     "output_type": "execute_result"
    }
   ],
   "source": [
    "from langchain_community.document_loaders.web_base import WebBaseLoader\n",
    "\n",
    "loader = WebBaseLoader(\"https://www.techtudo.com.br\")\n",
    "page = loader.load()\n",
    "page"
   ]
  },
  {
   "cell_type": "code",
   "execution_count": 4,
   "id": "ae9c17e5",
   "metadata": {},
   "outputs": [
    {
     "data": {
      "text/plain": [
       "{'name': 'BlogSite',\n",
       " 'description': 'Conjunto de postagem de um Blog de um site específico',\n",
       " 'parameters': {'type': 'object',\n",
       "  'properties': {'posts': {'description': 'Coleção de postagens de blog do site',\n",
       "    'type': 'array',\n",
       "    'items': {'description': 'Detalhes sobre uma postagem de Blog',\n",
       "     'type': 'object',\n",
       "     'properties': {'title': {'description': 'Título da postagem do Blog',\n",
       "       'type': 'string'},\n",
       "      'author': {'description': 'Nome do autor da postagem do blog',\n",
       "       'type': 'string'}},\n",
       "     'required': ['title', 'author']}}},\n",
       "  'required': ['posts']}}"
      ]
     },
     "execution_count": 4,
     "metadata": {},
     "output_type": "execute_result"
    }
   ],
   "source": [
    "class BlogPost(BaseModel):\n",
    "    \"\"\"Detalhes sobre uma postagem de Blog\"\"\"\n",
    "    title: str = Field(description=\"Título da postagem do Blog\")\n",
    "    author: str = Field(description=\"Nome do autor da postagem do blog\")\n",
    "\n",
    "class BlogSite(BaseModel):\n",
    "    \"\"\"Conjunto de postagem de um Blog de um site específico\"\"\"\n",
    "    posts: List[BlogPost] = Field(description=\"Coleção de postagens de blog do site\")\n",
    "\n",
    "tool_blog = convert_to_openai_function(BlogSite)\n",
    "tool_blog"
   ]
  },
  {
   "cell_type": "code",
   "execution_count": 6,
   "id": "f1dbcc75",
   "metadata": {},
   "outputs": [],
   "source": [
    "from langchain.prompts import ChatPromptTemplate\n",
    "from langchain_openai import ChatOpenAI\n",
    "from langchain.output_parsers.openai_functions import JsonOutputFunctionsParser\n",
    "\n",
    "prompt = ChatPromptTemplate.from_messages([\n",
    "    (\"system\", \"Extraia da pagina os posts do blog com as informações especificadas\"),\n",
    "    (\"user\", \"{input}\")\n",
    "])              \n",
    "\n",
    "chat = ChatOpenAI()\n",
    "\n",
    "chain = (prompt | chat.bind(functions=[tool_blog], \n",
    "                            function_call = {\"name\": \"BlogSite\"}) | \n",
    "                            JsonOutputFunctionsParser(key_name='posts'))"
   ]
  },
  {
   "cell_type": "code",
   "execution_count": 7,
   "id": "9a912d76",
   "metadata": {},
   "outputs": [
    {
     "data": {
      "text/plain": [
       "{'posts': [{'title': 'TELAS DE CINEMA: Smart TV 4K: conheça 6 opções com ótimo custo-benefício',\n",
       "   'author': 'TechTudo'},\n",
       "  {'title': 'EA FC 26 CHEGANDO: 10 coisas para aproveitar no finalzinho do EA FC 25',\n",
       "   'author': 'TechTudo'},\n",
       "  {'title': 'JÁ TESTOU? 7 extensões do Google Chrome que o deixam mais seguro',\n",
       "   'author': 'TechTudo'},\n",
       "  {'title': 'BATALHA DE INTERMEDIÁRIOS: Galaxy A36 vs Galaxy A56: veja o que muda entre os celulares Samsung',\n",
       "   'author': 'TechTudo'}]}"
      ]
     },
     "execution_count": 7,
     "metadata": {},
     "output_type": "execute_result"
    }
   ],
   "source": [
    "chain.invoke({\"input\": page})"
   ]
  }
 ],
 "metadata": {
  "kernelspec": {
   "display_name": ".venv",
   "language": "python",
   "name": "python3"
  },
  "language_info": {
   "codemirror_mode": {
    "name": "ipython",
    "version": 3
   },
   "file_extension": ".py",
   "mimetype": "text/x-python",
   "name": "python",
   "nbconvert_exporter": "python",
   "pygments_lexer": "ipython3",
   "version": "3.13.2"
  }
 },
 "nbformat": 4,
 "nbformat_minor": 5
}
