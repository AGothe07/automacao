{
 "cells": [
  {
   "cell_type": "code",
   "execution_count": 7,
   "id": "507f354d",
   "metadata": {},
   "outputs": [
    {
     "data": {
      "text/plain": [
       "True"
      ]
     },
     "execution_count": 7,
     "metadata": {},
     "output_type": "execute_result"
    }
   ],
   "source": [
    "from dotenv import load_dotenv, find_dotenv\n",
    "load_dotenv(find_dotenv())"
   ]
  },
  {
   "cell_type": "code",
   "execution_count": 8,
   "id": "1103c0a3",
   "metadata": {},
   "outputs": [],
   "source": [
    "from crewai import Agent, Task, Crew"
   ]
  },
  {
   "cell_type": "code",
   "execution_count": 11,
   "id": "ffdf170b",
   "metadata": {},
   "outputs": [],
   "source": [
    "pesquisador = Agent(\n",
    "    role = \"pesquisador de mercado\",\n",
    "    goal = \"Coletar e organizar informações relevantes sobre o {sector} \",\n",
    "    backstory = \"\"\"\n",
    "    Você é um pesquisador experiente e analisa tendencias de mercado e \n",
    "    coleta dados relevantes sobre {sector}. Seu trabalho é garantir que \n",
    "    todas as informações estejam atualizadas e bem documentadas\n",
    "    \"\"\" ,\n",
    "    allow_delegation = False,\n",
    "    verbose = True\n",
    ")"
   ]
  },
  {
   "cell_type": "code",
   "execution_count": 13,
   "id": "6aa8d0de",
   "metadata": {},
   "outputs": [],
   "source": [
    "analista = Agent(\n",
    "    role = \"Analista de tendencias\",\n",
    "    goal = \"analisar os dados do setor {sector} e identificar padroes e oportunidades\",\n",
    "    backstory = \"\"\"\n",
    "    Voce é analista de mercado que examina os dados coletados para identificar\n",
    "    tendencias emergentes, oportunidades e ameaças no setor\n",
    "    \"\"\",\n",
    "    allow_delegation= False,\n",
    "    verbose= True\n",
    ")"
   ]
  },
  {
   "cell_type": "code",
   "execution_count": 12,
   "id": "296a170c",
   "metadata": {},
   "outputs": [],
   "source": [
    "redator = Agent(\n",
    "    role = \"redator de relatorios\",\n",
    "    goal = \"elaborar o relatorio consolidado sobre a analise de mercado do setor {sector}\",\n",
    "    backstory= \"\"\"\n",
    "    voce é um redator profissional que transforma analise de mercado em um relatorio \n",
    "    estruturado e compreensivel para tomadores de decisão\n",
    "    \"\"\",\n",
    "    allow_delegation= False,\n",
    "    verbose= True\n",
    ")"
   ]
  },
  {
   "cell_type": "code",
   "execution_count": null,
   "id": "3c16852d",
   "metadata": {},
   "outputs": [],
   "source": [
    "coleta_dados = Task(\n",
    "    description=(\n",
    "        \"1. pesquisar e coletar informações atualizadas sobre o setor {sector}\"\n",
    "        \"2. Identificar os principais players, tendencias e estatisticas do setor {sector}\"\n",
    "        \"3. Organize os dados de forma clara para analise\"\n",
    "    ),\n",
    "    expected_output= \"um documento estruturado contendo dados de mercado sobre o setor {sector}\",\n",
    "    agent=pesquisador\n",
    ")"
   ]
  },
  {
   "cell_type": "code",
   "execution_count": 15,
   "id": "44a79d35",
   "metadata": {},
   "outputs": [],
   "source": [
    "analise_tendencias = Task(\n",
    "    description= (\n",
    "        \"1. examinar os dados coletados pelo pesquisador de mercado\"\n",
    "        \"2. identificar padroes tendencias emergentes e oportunidades no setor {sector}\"\n",
    "        \"3. Elaborar uma analise detalhada destacando os principais pontos\"\n",
    "    ),\n",
    "    expected_output=\"um relatorio com insights e tendencias baseados nos dados do setor {sector}\",\n",
    "    agent= analista\n",
    ")"
   ]
  },
  {
   "cell_type": "code",
   "execution_count": 16,
   "id": "a34c3b82",
   "metadata": {},
   "outputs": [],
   "source": [
    "redacao_relatorio = Task (\n",
    "    description= (\n",
    "        \"1. usar analise de tendencias para criar um relatorio detalhado sobre o setor {sector}.\"\n",
    "        \"2. garantir que o relatorio seja bem estruturado e compreensivel\"\n",
    "        \"3. Apresentar um resumo executivo e considerações finais\"\n",
    "    ),\n",
    "    expected_output=\"relatorio de analise de mercado em formato Markdown, pronto para a leitura e apresentação\",\n",
    "    agent=redator\n",
    ")"
   ]
  },
  {
   "cell_type": "code",
   "execution_count": null,
   "id": "7b2e089e",
   "metadata": {},
   "outputs": [],
   "source": []
  }
 ],
 "metadata": {
  "kernelspec": {
   "display_name": ".venv",
   "language": "python",
   "name": "python3"
  },
  "language_info": {
   "codemirror_mode": {
    "name": "ipython",
    "version": 3
   },
   "file_extension": ".py",
   "mimetype": "text/x-python",
   "name": "python",
   "nbconvert_exporter": "python",
   "pygments_lexer": "ipython3",
   "version": "3.13.2"
  }
 },
 "nbformat": 4,
 "nbformat_minor": 5
}
