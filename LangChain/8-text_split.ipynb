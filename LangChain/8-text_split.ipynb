{
 "cells": [
  {
   "cell_type": "code",
   "execution_count": 24,
   "id": "6049cb8d",
   "metadata": {},
   "outputs": [],
   "source": [
    "textoCompleto = \"\"\"\n",
    "Python é uma linguagem de programação de alto nível, interpretada, orientada a objetos, que se destaca pela sua \n",
    "intaxe clara e legibilidade, facilitando o aprendizado e a escrita de código. É amplamente\n",
    " utilizada em diversas áreas, como desenvolvimento web, ciência de dados, inteligência artificial e automação de tarefas. \n",
    "\"\"\"\n",
    "\n"
   ]
  },
  {
   "cell_type": "code",
   "execution_count": 2,
   "id": "2b6865bb",
   "metadata": {},
   "outputs": [],
   "source": [
    "from langchain_text_splitters import CharacterTextSplitter"
   ]
  },
  {
   "cell_type": "code",
   "execution_count": 4,
   "id": "60042b1d",
   "metadata": {},
   "outputs": [],
   "source": [
    "chunk_size = 250\n",
    "chunk_overlap = 0\n",
    "char_split = CharacterTextSplitter(\n",
    "    chunk_size=chunk_size,\n",
    "    chunk_overlap=chunk_overlap\n",
    ")"
   ]
  },
  {
   "cell_type": "code",
   "execution_count": 5,
   "id": "dd09049a",
   "metadata": {},
   "outputs": [
    {
     "data": {
      "text/plain": [
       "130"
      ]
     },
     "execution_count": 5,
     "metadata": {},
     "output_type": "execute_result"
    }
   ],
   "source": [
    "import string\n",
    "texto = \"\".join(f\"{string.ascii_lowercase}\" for _ in range(5))\n",
    "len(texto)"
   ]
  },
  {
   "cell_type": "code",
   "execution_count": 6,
   "id": "5dfe8092",
   "metadata": {},
   "outputs": [
    {
     "data": {
      "text/plain": [
       "'abcdefghijklmnopqrstuvwxyzabcdefghijklmnopqrstuvwxyzabcdefghijklmnopqrstuvwxyzabcdefghijklmnopqrstuvwxyzabcdefghijklmnopqrstuvwxyz'"
      ]
     },
     "execution_count": 6,
     "metadata": {},
     "output_type": "execute_result"
    }
   ],
   "source": [
    "texto"
   ]
  },
  {
   "cell_type": "code",
   "execution_count": 7,
   "id": "95340134",
   "metadata": {},
   "outputs": [
    {
     "data": {
      "text/plain": [
       "1"
      ]
     },
     "execution_count": 7,
     "metadata": {},
     "output_type": "execute_result"
    }
   ],
   "source": [
    "split = char_split.split_text(texto)\n",
    "len(split)"
   ]
  },
  {
   "cell_type": "code",
   "execution_count": 8,
   "id": "5f6921c1",
   "metadata": {},
   "outputs": [
    {
     "data": {
      "text/plain": [
       "['abcdefghijklmnopqrstuvwxyzabcdefghijklmnopqrstuvwxyzabcdefghijklmnopqrstuvwxyzabcdefghijklmnopqrstuvwxyzabcdefghijklmnopqrstuvwxyz']"
      ]
     },
     "execution_count": 8,
     "metadata": {},
     "output_type": "execute_result"
    }
   ],
   "source": [
    "split "
   ]
  },
  {
   "cell_type": "code",
   "execution_count": 12,
   "id": "174fcc76",
   "metadata": {},
   "outputs": [],
   "source": [
    "chunk_size = 50\n",
    "chunk_overlap = 0\n",
    "char_split = CharacterTextSplitter(\n",
    "    chunk_size=chunk_size,\n",
    "    chunk_overlap=chunk_overlap,\n",
    "    separator=\"\"\n",
    ")"
   ]
  },
  {
   "cell_type": "code",
   "execution_count": 13,
   "id": "a3b8add8",
   "metadata": {},
   "outputs": [
    {
     "data": {
      "text/plain": [
       "3"
      ]
     },
     "execution_count": 13,
     "metadata": {},
     "output_type": "execute_result"
    }
   ],
   "source": [
    "split = char_split.split_text(texto)\n",
    "len(split)"
   ]
  },
  {
   "cell_type": "code",
   "execution_count": 14,
   "id": "81e4b48d",
   "metadata": {},
   "outputs": [
    {
     "data": {
      "text/plain": [
       "['abcdefghijklmnopqrstuvwxyzabcdefghijklmnopqrstuvwx',\n",
       " 'yzabcdefghijklmnopqrstuvwxyzabcdefghijklmnopqrstuv',\n",
       " 'wxyzabcdefghijklmnopqrstuvwxyz']"
      ]
     },
     "execution_count": 14,
     "metadata": {},
     "output_type": "execute_result"
    }
   ],
   "source": [
    "split "
   ]
  },
  {
   "cell_type": "code",
   "execution_count": 15,
   "id": "62cc08a0",
   "metadata": {},
   "outputs": [
    {
     "data": {
      "text/plain": [
       "58"
      ]
     },
     "execution_count": 15,
     "metadata": {},
     "output_type": "execute_result"
    }
   ],
   "source": [
    "chunk_size = 50\n",
    "chunk_overlap = 0\n",
    "char_split = CharacterTextSplitter(\n",
    "    chunk_size=chunk_size,\n",
    "    chunk_overlap=chunk_overlap,\n",
    "    separator=\"\"\n",
    ")\n",
    "\n",
    "\n",
    "split = char_split.split_text(textoCompleto)\n",
    "len(split)"
   ]
  },
  {
   "cell_type": "code",
   "execution_count": 16,
   "id": "30797ba6",
   "metadata": {},
   "outputs": [
    {
     "data": {
      "text/plain": [
       "['Python é uma linguagem de programação de alto nív',\n",
       " 'el, interpretada, orientada a objetos, que se dest',\n",
       " 'aca pela sua sintaxe clara e legibilidade, facilit',\n",
       " 'ando o aprendizado e a escrita de código. É amplam',\n",
       " 'ente utilizada em diversas áreas, como desenvolvim',\n",
       " 'ento web, ciência de dados, inteligência artificia',\n",
       " 'l e automação de tarefas. \\nCaracterísticas:\\nAlto n',\n",
       " 'ível:\\nPython abstrai muitos detalhes de baixo níve',\n",
       " 'l da máquina, tornando a programação mais acessíve',\n",
       " 'l e produtiva. \\nInterpretada:\\nO código Python é ex',\n",
       " 'ecutado linha por linha por um interpretador, em v',\n",
       " 'ez de ser compilado para código de máquina antes d',\n",
       " 'a execução. \\nOrientada a objetos:\\nPermite a organi',\n",
       " 'zação do código em objetos, facilitando a reutiliz',\n",
       " 'ação e a modularidade. \\nSintaxe clara e legível:\\nP',\n",
       " 'ython é conhecido por sua sintaxe minimalista e in',\n",
       " 'tuitiva, com poucas regras gramaticais e uso de in',\n",
       " 'dentação para estruturar o código. \\nLinguagem de p',\n",
       " 'ropósito geral:\\nPode ser utilizada em uma variedad',\n",
       " 'e de aplicações, desde desenvolvimento web e autom',\n",
       " 'ação de tarefas até análise de dados e inteligênci',\n",
       " 'a artificial. \\nExtensível:\\nPython pode ser integra',\n",
       " 'do com outras linguagens, como C e C++, para otimi',\n",
       " 'zar o desempenho de partes específicas do código.',\n",
       " 'Multiplataforma:\\nPython é compatível com diversos',\n",
       " 'sistemas operacionais, incluindo Windows, macOS e',\n",
       " 'Linux. \\nComunidade ativa:\\nPossui uma comunidade d',\n",
       " 'e desenvolvedores grande e ativa, que contribui co',\n",
       " 'm bibliotecas, ferramentas e suporte. \\nAplicações:',\n",
       " 'Desenvolvimento web:\\nFrameworks como Django e Fla',\n",
       " 'sk facilitam a criação de aplicações web robustas',\n",
       " 'e escaláveis. \\nCiência de dados e aprendizado de m',\n",
       " 'áquina:\\nBibliotecas como NumPy, Pandas e Scikit-le',\n",
       " 'arn tornam Python uma ferramenta poderosa para aná',\n",
       " 'lise de dados, modelagem e treinamento de algoritm',\n",
       " 'os de aprendizado de máquina. \\nAutomação:\\nPython p',\n",
       " 'ode ser usado para automatizar tarefas repetitivas',\n",
       " ', como manipulação de arquivos, envio de e-mails e',\n",
       " 'interação com APIs. \\nDesenvolvimento de jogos:\\nPy',\n",
       " 'thon pode ser usado em conjunto com bibliotecas co',\n",
       " 'mo Pygame para criar jogos simples. \\nOutras áreas:',\n",
       " 'Scripting em sistemas, desenvolvimento de aplicaç',\n",
       " 'ões desktop, automação de testes e muito mais. \\nVa',\n",
       " 'ntagens:\\nFácil de aprender:\\nA sintaxe simples e a',\n",
       " 'legibilidade do Python tornam a linguagem mais ace',\n",
       " 'ssível para iniciantes. \\nProdutiva:\\nA facilidade d',\n",
       " 'e escrever e manter código em Python pode acelerar',\n",
       " 'o desenvolvimento de projetos. \\nVersátil:\\nPode se',\n",
       " 'r usada em diversas áreas e projetos. \\nComunidade',\n",
       " 'e ecossistema:\\nUma comunidade grande e ativa ofere',\n",
       " 'ce suporte, bibliotecas e ferramentas para diversa',\n",
       " 's necessidades. \\nConclusão:\\nPython é uma linguagem',\n",
       " 'de programação versátil, poderosa e fácil de apre',\n",
       " 'nder, tornando-a uma excelente escolha para inicia',\n",
       " 'ntes e desenvolvedores experientes. Sua sintaxe cl',\n",
       " 'ara, extensibilidade e vasta gama de aplicações a',\n",
       " 'tornam uma ferramenta valiosa em diversas áreas da',\n",
       " 'tecnologia.']"
      ]
     },
     "execution_count": 16,
     "metadata": {},
     "output_type": "execute_result"
    }
   ],
   "source": [
    "split"
   ]
  },
  {
   "cell_type": "code",
   "execution_count": 18,
   "id": "d3d9c3dd",
   "metadata": {},
   "outputs": [],
   "source": [
    "from langchain_text_splitters import RecursiveCharacterTextSplitter"
   ]
  },
  {
   "cell_type": "code",
   "execution_count": 25,
   "id": "f927131a",
   "metadata": {},
   "outputs": [
    {
     "data": {
      "text/plain": [
       "11"
      ]
     },
     "execution_count": 25,
     "metadata": {},
     "output_type": "execute_result"
    }
   ],
   "source": [
    "chunk_size = 50\n",
    "chunk_overlap = 10\n",
    "char_split = RecursiveCharacterTextSplitter(\n",
    "    chunk_size=chunk_size,\n",
    "    chunk_overlap=chunk_overlap,\n",
    "        separators= [\"\\n\\n\", \"\\n\", \".\", \" \", \"\"]\n",
    ")\n",
    "\n",
    "\n",
    "split = char_split.split_text(textoCompleto)\n",
    "len(split)"
   ]
  },
  {
   "cell_type": "code",
   "execution_count": 26,
   "id": "7c066835",
   "metadata": {},
   "outputs": [
    {
     "data": {
      "text/plain": [
       "['Python é uma linguagem de programação de alto',\n",
       " 'de alto nível, interpretada, orientada a objetos,',\n",
       " 'objetos, que se destaca pela sua',\n",
       " 'intaxe clara e legibilidade, facilitando o',\n",
       " 'o aprendizado e a escrita de código',\n",
       " '. É amplamente',\n",
       " 'utilizada em diversas áreas, como',\n",
       " 'como desenvolvimento web, ciência de dados,',\n",
       " 'de dados, inteligência artificial e automação de',\n",
       " 'de tarefas',\n",
       " '.']"
      ]
     },
     "execution_count": 26,
     "metadata": {},
     "output_type": "execute_result"
    }
   ],
   "source": [
    "split"
   ]
  },
  {
   "cell_type": "code",
   "execution_count": 27,
   "id": "9cea16fa",
   "metadata": {},
   "outputs": [],
   "source": [
    "from langchain_community.document_loaders.pdf import PyPDFLoader    \n",
    "from langchain_text_splitters import RecursiveCharacterTextSplitter\n",
    "\n",
    "chunk_size = 50\n",
    "chunk_overlap = 10\n",
    "\n",
    "char_split = RecursiveCharacterTextSplitter(\n",
    "    chunk_size=chunk_size,\n",
    "    chunk_overlap=chunk_overlap\n",
    ")"
   ]
  },
  {
   "cell_type": "code",
   "execution_count": 28,
   "id": "0d81aea5",
   "metadata": {},
   "outputs": [
    {
     "data": {
      "text/plain": [
       "Document(metadata={'producer': 'Microsoft® Word 2013', 'creator': 'Microsoft® Word 2013', 'creationdate': '2016-05-04T10:06:39-03:00', 'author': 'lucas', 'moddate': '2016-05-04T10:06:39-03:00', 'source': 'files/apostila.pdf', 'total_pages': 28, 'page': 0, 'page_label': '1'}, page_content='INTRODUÇÃO À PROGRAMAÇÃO \\nCOM PYTHON \\n \\n \\n \\n \\n \\n \\n \\nPrograma de Educação Tutorial \\nGrupo PET - ADS   \\nIFSP -  Câmpus São Carlos')"
      ]
     },
     "execution_count": 28,
     "metadata": {},
     "output_type": "execute_result"
    }
   ],
   "source": [
    "arquivo = \"files/apostila.pdf\"\n",
    "loader = PyPDFLoader(arquivo)\n",
    "docs = loader.load()\n",
    "docs[0]"
   ]
  },
  {
   "cell_type": "code",
   "execution_count": 29,
   "id": "b3cd7c33",
   "metadata": {},
   "outputs": [
    {
     "data": {
      "text/plain": [
       "1101"
      ]
     },
     "execution_count": 29,
     "metadata": {},
     "output_type": "execute_result"
    }
   ],
   "source": [
    "split = char_split.split_documents(docs)\n",
    "len(split)"
   ]
  }
 ],
 "metadata": {
  "kernelspec": {
   "display_name": ".venv",
   "language": "python",
   "name": "python3"
  },
  "language_info": {
   "codemirror_mode": {
    "name": "ipython",
    "version": 3
   },
   "file_extension": ".py",
   "mimetype": "text/x-python",
   "name": "python",
   "nbconvert_exporter": "python",
   "pygments_lexer": "ipython3",
   "version": "3.11.8"
  }
 },
 "nbformat": 4,
 "nbformat_minor": 5
}
