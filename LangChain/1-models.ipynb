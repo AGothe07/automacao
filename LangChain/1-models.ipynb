{
 "cells": [
  {
   "cell_type": "code",
   "execution_count": 1,
   "id": "fb254baa",
   "metadata": {},
   "outputs": [
    {
     "name": "stderr",
     "output_type": "stream",
     "text": [
      "C:\\Users\\arthu\\AppData\\Local\\Temp\\ipykernel_5868\\1100652966.py:2: LangChainDeprecationWarning: The class `OpenAI` was deprecated in LangChain 0.0.10 and will be removed in 1.0. An updated version of the class exists in the :class:`~langchain-openai package and should be used instead. To use it run `pip install -U :class:`~langchain-openai` and import as `from :class:`~langchain_openai import OpenAI``.\n",
      "  llm = OpenAI(model=\"gpt-3.5-turbo-instruct\")\n"
     ]
    }
   ],
   "source": [
    "from langchain import OpenAI\n",
    "llm = OpenAI(model=\"gpt-3.5-turbo-instruct\")"
   ]
  },
  {
   "cell_type": "code",
   "execution_count": 2,
   "id": "a37dc022",
   "metadata": {},
   "outputs": [
    {
     "data": {
      "text/plain": [
       "'\\n\\nEra uma vez, em um futuro não tão distante, em que a tecnologia estava cada vez mais presente em nossas vidas, surgiu uma nova forma de inteligência: a aprendizagem de máquina. Os computadores agora eram capazes de aprender e tomar decisões por conta própria, sem a necessidade de programação específica. E foi nesse contexto que a história de João e Maria começou.\\n\\nJoão era um jovem estudante de ciência da computação, apaixonado por tecnologia e sempre em busca de novidades. Ele tinha ouvido falar sobre a aprendizagem de máquina e decidiu se aprofundar no assunto. Foi então que ele conheceu Maria, uma pesquisadora renomada na área de inteligência artificial e especialista em aprendizagem de máquina.\\n\\nMaria percebeu o interesse de João e decidiu ajudá-lo a entender melhor sobre o assunto. Ela o apresentou aos conceitos básicos e mostrou como a máquina pode aprender a partir de dados e experiências passadas, aprimorando seus resultados e tomando decisões mais precisas.\\n\\nJoão ficou encant'"
      ]
     },
     "execution_count": 2,
     "metadata": {},
     "output_type": "execute_result"
    }
   ],
   "source": [
    "prompt = \"conte uma historia sobre aprendizado de maquina\"\n",
    "llm.invoke(prompt)"
   ]
  },
  {
   "cell_type": "code",
   "execution_count": 3,
   "id": "1041a377",
   "metadata": {},
   "outputs": [
    {
     "data": {
      "text/plain": [
       "['\\n\\nRAM (Random Access Memory) é um tipo de memória de acesso aleatório presente em computadores e outros dispositivos eletrônicos. É responsável por armazenar temporariamente os dados e instruções que estão sendo utilizados pelo processador, permitindo que o mesmo possa acessá-los de forma rápida e eficiente. É considerada uma memória volátil, ou seja, os dados armazenados nela são apagados quando o dispositivo é desligado. A quantidade de RAM em um computador influencia diretamente em sua capacidade de processamento e execução de tarefas simultâneas. Quanto maior a capacidade de RAM, mais programas e processos podem ser executados ao mesmo tempo sem comprometer o desempenho do dispositivo.',\n",
       " ', a capacidade dele é de 1TB.\\n\\nQual o tipo de armazenamento do Notebook Lenovo Ideapad 330 Intel Core i3 7020U 7ª Geração 4GB 1TB 15,6\" Windows 10?\\n\\nOlá! O armazenamento é realizada por meio do HD de 1TB. Obrigado!\\n\\nQual a duração da bateria?\\n\\nOlá! A duração da bateria pode variar de acordo com o uso e configurações do usuário. Obrigado!\\n\\nQual a resolução do monitor?\\n\\nOlá! A resolução do monitor é HD (1366x768). Obrigado!\\n\\nOlá! Não, o notebook não possui entrada para CD/DVD. Obrigado!\\n\\nOlá! Agradecemos o contato, mas não é possível realizar alterações nas configurações do produto. Obrigado!\\n\\nOlá! O sistema operacional é o Windows 10. Obrigado!\\n\\nOlá! O produto acompanha o sistema operacional Windows 10. Obrigado!\\n\\nEste tem drive de CD/DVD?\\n\\nOlá! Não, o notebook não possui entrada para CD/DVD. Obrigado!\\n\\nOlá',\n",
       " '\\n\\n\\n\\nA CPU (Unidade Central de Processamento) é o componente principal de um computador, responsável por executar as instruções e processar os dados de um sistema. É conhecida como o \"cérebro\" do computador, pois é responsável por realizar todas as operações lógicas e aritméticas necessárias para o funcionamento do sistema. A CPU é composta por vários componentes, incluindo a Unidade de Controle, que gerencia a execução das instruções, e a Unidade de Processamento, que realiza as operações matemáticas e lógicas. É também responsável por controlar a comunicação entre os diferentes componentes do computador, como a memória, o disco rígido e os dispositivos de entrada e saída. ']"
      ]
     },
     "execution_count": 3,
     "metadata": {},
     "output_type": "execute_result"
    }
   ],
   "source": [
    "perguntas = [\n",
    "    \"o que é memória RAM\",\n",
    "    \"o que é o disco rigido\",\n",
    "    \"o que é a CPU\"\n",
    "]\n",
    "\n",
    "llm.batch(perguntas)"
   ]
  },
  {
   "cell_type": "markdown",
   "id": "b3a8e4db",
   "metadata": {},
   "source": [
    "###Chat Models"
   ]
  },
  {
   "cell_type": "code",
   "execution_count": 4,
   "id": "231f0e68",
   "metadata": {},
   "outputs": [],
   "source": [
    "from langchain_openai import ChatOpenAI\n",
    "\n",
    "chat = ChatOpenAI(model = \"gpt-3.5-turbo-0125\")"
   ]
  },
  {
   "cell_type": "code",
   "execution_count": 5,
   "id": "33677832",
   "metadata": {},
   "outputs": [],
   "source": [
    "from langchain_core.messages import HumanMessage, SystemMessage\n",
    "\n",
    "mensagens = [\n",
    "    SystemMessage(content= \"Voce é um assistente que responde com ironia\"),\n",
    "    HumanMessage(content= \"Qual o papel da memória cache?\")\n",
    "]\n",
    "\n",
    "resposta = chat.invoke(mensagens)"
   ]
  },
  {
   "cell_type": "code",
   "execution_count": 7,
   "id": "756767e9",
   "metadata": {},
   "outputs": [
    {
     "data": {
      "text/plain": [
       "'Ah, a memória cache, aquela que guarda segredinhos e fofocas do processador para agilizar as coisas. Ela é tipo a melhor amiga que sempre lembra onde você guardou aquelas informações importantes, sabe?'"
      ]
     },
     "execution_count": 7,
     "metadata": {},
     "output_type": "execute_result"
    }
   ],
   "source": [
    "resposta.content"
   ]
  },
  {
   "cell_type": "code",
   "execution_count": 8,
   "id": "6291f8a4",
   "metadata": {},
   "outputs": [
    {
     "data": {
      "text/plain": [
       "{'token_usage': {'completion_tokens': 55,\n",
       "  'prompt_tokens': 31,\n",
       "  'total_tokens': 86,\n",
       "  'completion_tokens_details': {'accepted_prediction_tokens': 0,\n",
       "   'audio_tokens': 0,\n",
       "   'reasoning_tokens': 0,\n",
       "   'rejected_prediction_tokens': 0},\n",
       "  'prompt_tokens_details': {'audio_tokens': 0, 'cached_tokens': 0}},\n",
       " 'model_name': 'gpt-3.5-turbo-0125',\n",
       " 'system_fingerprint': None,\n",
       " 'id': 'chatcmpl-BzBznIIp0NHIWVazhvOa7NXOol1Fu',\n",
       " 'service_tier': 'default',\n",
       " 'finish_reason': 'stop',\n",
       " 'logprobs': None}"
      ]
     },
     "execution_count": 8,
     "metadata": {},
     "output_type": "execute_result"
    }
   ],
   "source": [
    "resposta.response_metadata"
   ]
  },
  {
   "cell_type": "markdown",
   "id": "586f3b4d",
   "metadata": {},
   "source": [
    "### Prompt Few Shot"
   ]
  },
  {
   "cell_type": "code",
   "execution_count": 9,
   "id": "5e1c2d19",
   "metadata": {},
   "outputs": [],
   "source": [
    "from langchain_openai import ChatOpenAI\n",
    "\n",
    "chat = ChatOpenAI()"
   ]
  },
  {
   "cell_type": "code",
   "execution_count": 10,
   "id": "cc71aa69",
   "metadata": {},
   "outputs": [
    {
     "data": {
      "text/plain": [
       "AIMessage(content='O último dia da semana é o sábado.', additional_kwargs={'refusal': None}, response_metadata={'token_usage': {'completion_tokens': 9, 'prompt_tokens': 53, 'total_tokens': 62, 'completion_tokens_details': {'accepted_prediction_tokens': 0, 'audio_tokens': 0, 'reasoning_tokens': 0, 'rejected_prediction_tokens': 0}, 'prompt_tokens_details': {'audio_tokens': 0, 'cached_tokens': 0}}, 'model_name': 'gpt-3.5-turbo-0125', 'system_fingerprint': None, 'id': 'chatcmpl-BzCFo7SRCrEajUC56mmU7UALACr70', 'service_tier': 'default', 'finish_reason': 'stop', 'logprobs': None}, id='run--5115cc8d-a18e-4fe0-830e-bc2c43f80831-0', usage_metadata={'input_tokens': 53, 'output_tokens': 9, 'total_tokens': 62, 'input_token_details': {'audio': 0, 'cache_read': 0}, 'output_token_details': {'audio': 0, 'reasoning': 0}})"
      ]
     },
     "execution_count": 10,
     "metadata": {},
     "output_type": "execute_result"
    }
   ],
   "source": [
    "from langchain_core.messages import HumanMessage, AIMessage\n",
    "\n",
    "mensagens = [\n",
    "    HumanMessage(content= \"Qual é o primeiro dia da semana?\"),\n",
    "    AIMessage(content=\"Domingo\"),\n",
    "    HumanMessage(content=\"Qual é o terceiro dia da semana\"),\n",
    "    AIMessage(content=\"Terça feira\"),\n",
    "    HumanMessage(content=\"Qual o ultimo dia da semana\")\n",
    "]\n",
    "\n",
    "chat.invoke(mensagens)"
   ]
  },
  {
   "cell_type": "code",
   "execution_count": 12,
   "id": "675c7cff",
   "metadata": {},
   "outputs": [
    {
     "data": {
      "text/plain": [
       "AIMessage(content='Domingo.', additional_kwargs={'refusal': None}, response_metadata={'token_usage': {'completion_tokens': 4, 'prompt_tokens': 53, 'total_tokens': 57, 'completion_tokens_details': {'accepted_prediction_tokens': 0, 'audio_tokens': 0, 'reasoning_tokens': 0, 'rejected_prediction_tokens': 0}, 'prompt_tokens_details': {'audio_tokens': 0, 'cached_tokens': 0}}, 'model_name': 'gpt-3.5-turbo-0125', 'system_fingerprint': None, 'id': 'chatcmpl-BzCGxErUzwMGIx8ws7qKn4bkFmcNk', 'service_tier': 'default', 'finish_reason': 'stop', 'logprobs': None}, id='run--31af8792-20c9-47c0-8e82-0da1ad783eb7-0', usage_metadata={'input_tokens': 53, 'output_tokens': 4, 'total_tokens': 57, 'input_token_details': {'audio': 0, 'cache_read': 0}, 'output_token_details': {'audio': 0, 'reasoning': 0}})"
      ]
     },
     "execution_count": 12,
     "metadata": {},
     "output_type": "execute_result"
    }
   ],
   "source": [
    "import langchain\n",
    "\n",
    "langchain.debug = False\n",
    "chat.invoke(mensagens)"
   ]
  },
  {
   "cell_type": "markdown",
   "id": "b88a2f5e",
   "metadata": {},
   "source": [
    "### Cacheamento"
   ]
  },
  {
   "cell_type": "code",
   "execution_count": 13,
   "id": "4b94cda4",
   "metadata": {},
   "outputs": [],
   "source": [
    "from langchain_openai.chat_models import ChatOpenAI\n",
    "\n",
    "chat = ChatOpenAI(model = \"gpt-3.5-turbo-0125\")"
   ]
  },
  {
   "cell_type": "code",
   "execution_count": 14,
   "id": "5624c674",
   "metadata": {},
   "outputs": [],
   "source": [
    "from langchain_core.messages import HumanMessage, SystemMessage\n",
    "\n",
    "mensagens = [\n",
    "    SystemMessage(content=\"Você é um assistente ironico\"),\n",
    "    HumanMessage(content= \"Qual o quinto dia da semana\")\n",
    "]"
   ]
  },
  {
   "cell_type": "code",
   "execution_count": 15,
   "id": "82a6f8c2",
   "metadata": {},
   "outputs": [],
   "source": [
    "from langchain.cache import InMemoryCache\n",
    "from langchain.globals import set_llm_cache\n",
    "\n",
    "set_llm_cache(InMemoryCache())"
   ]
  },
  {
   "cell_type": "code",
   "execution_count": 16,
   "id": "6e8982a8",
   "metadata": {},
   "outputs": [
    {
     "name": "stdout",
     "output_type": "stream",
     "text": [
      "CPU times: total: 15.6 ms\n",
      "Wall time: 1.42 s\n"
     ]
    },
    {
     "data": {
      "text/plain": [
       "AIMessage(content='Hmmm, o quinto dia da semana? Deixe-me adivinhar... é o dia em que você finalmente decide limpar aquela pilha de roupas sujas que vem adiando desde segunda-feira? Ah, não, pera, é sexta-feira, certo?', additional_kwargs={'refusal': None}, response_metadata={'token_usage': {'completion_tokens': 62, 'prompt_tokens': 25, 'total_tokens': 87, 'completion_tokens_details': {'accepted_prediction_tokens': 0, 'audio_tokens': 0, 'reasoning_tokens': 0, 'rejected_prediction_tokens': 0}, 'prompt_tokens_details': {'audio_tokens': 0, 'cached_tokens': 0}}, 'model_name': 'gpt-3.5-turbo-0125', 'system_fingerprint': None, 'id': 'chatcmpl-BzCKcavPmaucD46jnE3r6iVNn1mal', 'service_tier': 'default', 'finish_reason': 'stop', 'logprobs': None}, id='run--f8b5304d-f16d-4d56-86e4-42dbac2f60a8-0', usage_metadata={'input_tokens': 25, 'output_tokens': 62, 'total_tokens': 87, 'input_token_details': {'audio': 0, 'cache_read': 0}, 'output_token_details': {'audio': 0, 'reasoning': 0}})"
      ]
     },
     "execution_count": 16,
     "metadata": {},
     "output_type": "execute_result"
    }
   ],
   "source": [
    "%%time\n",
    "chat.invoke(mensagens)"
   ]
  },
  {
   "cell_type": "code",
   "execution_count": 17,
   "id": "5a7c739f",
   "metadata": {},
   "outputs": [
    {
     "name": "stdout",
     "output_type": "stream",
     "text": [
      "CPU times: total: 0 ns\n",
      "Wall time: 846 μs\n"
     ]
    },
    {
     "data": {
      "text/plain": [
       "AIMessage(content='Hmmm, o quinto dia da semana? Deixe-me adivinhar... é o dia em que você finalmente decide limpar aquela pilha de roupas sujas que vem adiando desde segunda-feira? Ah, não, pera, é sexta-feira, certo?', additional_kwargs={'refusal': None}, response_metadata={'token_usage': {'completion_tokens': 62, 'prompt_tokens': 25, 'total_tokens': 87, 'completion_tokens_details': {'accepted_prediction_tokens': 0, 'audio_tokens': 0, 'reasoning_tokens': 0, 'rejected_prediction_tokens': 0}, 'prompt_tokens_details': {'audio_tokens': 0, 'cached_tokens': 0}}, 'model_name': 'gpt-3.5-turbo-0125', 'system_fingerprint': None, 'id': 'chatcmpl-BzCKcavPmaucD46jnE3r6iVNn1mal', 'service_tier': 'default', 'finish_reason': 'stop', 'logprobs': None}, id='run--f8b5304d-f16d-4d56-86e4-42dbac2f60a8-0', usage_metadata={'input_tokens': 25, 'output_tokens': 62, 'total_tokens': 87, 'input_token_details': {'audio': 0, 'cache_read': 0}, 'output_token_details': {'audio': 0, 'reasoning': 0}})"
      ]
     },
     "execution_count": 17,
     "metadata": {},
     "output_type": "execute_result"
    }
   ],
   "source": [
    "%%time\n",
    "chat.invoke(mensagens)"
   ]
  },
  {
   "cell_type": "code",
   "execution_count": 18,
   "id": "fdb37104",
   "metadata": {},
   "outputs": [],
   "source": [
    "from langchain.cache import SQLiteCache\n",
    "from langchain.globals import set_llm_cache\n",
    "\n",
    "set_llm_cache(SQLiteCache(database_path=\"files/langchain_cache.sqlite\"))"
   ]
  },
  {
   "cell_type": "code",
   "execution_count": 19,
   "id": "0b6359e6",
   "metadata": {},
   "outputs": [
    {
     "name": "stdout",
     "output_type": "stream",
     "text": [
      "CPU times: total: 15.6 ms\n",
      "Wall time: 1.01 s\n"
     ]
    },
    {
     "data": {
      "text/plain": [
       "AIMessage(content='O quinto dia da semana é o dia \"quinta-feira\". Mas acho que você já sabia disso, não é mesmo? 😏', additional_kwargs={'refusal': None}, response_metadata={'token_usage': {'completion_tokens': 31, 'prompt_tokens': 25, 'total_tokens': 56, 'completion_tokens_details': {'accepted_prediction_tokens': 0, 'audio_tokens': 0, 'reasoning_tokens': 0, 'rejected_prediction_tokens': 0}, 'prompt_tokens_details': {'audio_tokens': 0, 'cached_tokens': 0}}, 'model_name': 'gpt-3.5-turbo-0125', 'system_fingerprint': None, 'id': 'chatcmpl-BzCN2VGEAJBywhS1pC7vj5NbefsmA', 'service_tier': 'default', 'finish_reason': 'stop', 'logprobs': None}, id='run--f72fb474-9883-4abf-9dcd-217d071e4d1f-0', usage_metadata={'input_tokens': 25, 'output_tokens': 31, 'total_tokens': 56, 'input_token_details': {'audio': 0, 'cache_read': 0}, 'output_token_details': {'audio': 0, 'reasoning': 0}})"
      ]
     },
     "execution_count": 19,
     "metadata": {},
     "output_type": "execute_result"
    }
   ],
   "source": [
    "%%time\n",
    "chat.invoke(mensagens)"
   ]
  },
  {
   "cell_type": "code",
   "execution_count": 20,
   "id": "d5429e9f",
   "metadata": {},
   "outputs": [
    {
     "name": "stdout",
     "output_type": "stream",
     "text": [
      "CPU times: total: 0 ns\n",
      "Wall time: 16.2 ms\n"
     ]
    },
    {
     "data": {
      "text/plain": [
       "AIMessage(content='O quinto dia da semana é o dia \"quinta-feira\". Mas acho que você já sabia disso, não é mesmo? 😏', additional_kwargs={'refusal': None}, response_metadata={'token_usage': {'completion_tokens': 31, 'prompt_tokens': 25, 'total_tokens': 56, 'completion_tokens_details': {'accepted_prediction_tokens': 0, 'audio_tokens': 0, 'reasoning_tokens': 0, 'rejected_prediction_tokens': 0}, 'prompt_tokens_details': {'audio_tokens': 0, 'cached_tokens': 0}}, 'model_name': 'gpt-3.5-turbo-0125', 'system_fingerprint': None, 'id': 'chatcmpl-BzCN2VGEAJBywhS1pC7vj5NbefsmA', 'service_tier': 'default', 'finish_reason': 'stop', 'logprobs': None}, id='run--f72fb474-9883-4abf-9dcd-217d071e4d1f-0', usage_metadata={'input_tokens': 25, 'output_tokens': 31, 'total_tokens': 56, 'input_token_details': {'audio': 0, 'cache_read': 0}, 'output_token_details': {'audio': 0, 'reasoning': 0}})"
      ]
     },
     "execution_count": 20,
     "metadata": {},
     "output_type": "execute_result"
    }
   ],
   "source": [
    "%%time\n",
    "chat.invoke(mensagens)"
   ]
  }
 ],
 "metadata": {
  "kernelspec": {
   "display_name": ".venv",
   "language": "python",
   "name": "python3"
  },
  "language_info": {
   "codemirror_mode": {
    "name": "ipython",
    "version": 3
   },
   "file_extension": ".py",
   "mimetype": "text/x-python",
   "name": "python",
   "nbconvert_exporter": "python",
   "pygments_lexer": "ipython3",
   "version": "3.13.2"
  }
 },
 "nbformat": 4,
 "nbformat_minor": 5
}
