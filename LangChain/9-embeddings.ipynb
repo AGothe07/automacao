{
 "cells": [
  {
   "cell_type": "code",
   "execution_count": 4,
   "id": "d83b8e98",
   "metadata": {},
   "outputs": [],
   "source": [
    "from langchain_openai import OpenAIEmbeddings   \n",
    "\n",
    "embedding_model = OpenAIEmbeddings()"
   ]
  },
  {
   "cell_type": "code",
   "execution_count": 16,
   "id": "54dea2d5",
   "metadata": {},
   "outputs": [],
   "source": [
    "embeddings = embedding_model.embed_documents(\n",
    "    [\n",
    "        \"Eu gosto de cachorro\",\n",
    "        \"Eu gosto de animais\",\n",
    "        \"hoje a tarde esta chuvendo\",\n",
    "        \"Via Lactea\"\n",
    "    ]\n",
    ")"
   ]
  },
  {
   "cell_type": "code",
   "execution_count": 13,
   "id": "99331830",
   "metadata": {},
   "outputs": [
    {
     "data": {
      "text/plain": [
       "4"
      ]
     },
     "execution_count": 13,
     "metadata": {},
     "output_type": "execute_result"
    }
   ],
   "source": [
    "len(embeddings)"
   ]
  },
  {
   "cell_type": "code",
   "execution_count": 8,
   "id": "c92b0541",
   "metadata": {},
   "outputs": [
    {
     "data": {
      "text/plain": [
       "[-0.011005542241036892,\n",
       " 0.01532432809472084,\n",
       " -0.010790829546749592,\n",
       " -0.027654951438307762,\n",
       " -0.018477533012628555,\n",
       " 0.007950492203235626,\n",
       " -0.002754452871158719,\n",
       " -0.013312166556715965,\n",
       " 0.0018741321982815862,\n",
       " -0.003447666997089982]"
      ]
     },
     "execution_count": 8,
     "metadata": {},
     "output_type": "execute_result"
    }
   ],
   "source": [
    "embeddings[0][:10]"
   ]
  },
  {
   "cell_type": "code",
   "execution_count": 14,
   "id": "a852246e",
   "metadata": {},
   "outputs": [
    {
     "data": {
      "text/plain": [
       "1536"
      ]
     },
     "execution_count": 14,
     "metadata": {},
     "output_type": "execute_result"
    }
   ],
   "source": [
    "len(embeddings[0])"
   ]
  },
  {
   "cell_type": "code",
   "execution_count": 10,
   "id": "d89c55fd",
   "metadata": {},
   "outputs": [
    {
     "data": {
      "text/plain": [
       "np.float64(0.9383147198771143)"
      ]
     },
     "execution_count": 10,
     "metadata": {},
     "output_type": "execute_result"
    }
   ],
   "source": [
    "import numpy as np\n",
    "\n",
    "np.dot(embeddings[0], embeddings[1])"
   ]
  },
  {
   "cell_type": "code",
   "execution_count": 17,
   "id": "10f4c4fa",
   "metadata": {},
   "outputs": [
    {
     "data": {
      "text/plain": [
       "np.float64(0.729541526987122)"
      ]
     },
     "execution_count": 17,
     "metadata": {},
     "output_type": "execute_result"
    }
   ],
   "source": [
    "import numpy as np\n",
    "\n",
    "np.dot(embeddings[0], embeddings[3])"
   ]
  },
  {
   "cell_type": "code",
   "execution_count": 22,
   "id": "0921c8f6",
   "metadata": {},
   "outputs": [
    {
     "name": "stdout",
     "output_type": "stream",
     "text": [
      "1.0 | 0.938 | 0.813 | 0.73 | \n",
      "0.938 | 1.0 | 0.799 | 0.75 | \n",
      "0.813 | 0.799 | 1.0 | 0.75 | \n",
      "0.73 | 0.75 | 0.75 | 1.0 | \n"
     ]
    }
   ],
   "source": [
    "for i in range(len(embeddings)):\n",
    "    for j in range(len(embeddings)):\n",
    "        sim = np.dot(embeddings[i], embeddings[j])\n",
    "        print(round(sim, 3), end=\" | \")\n",
    "    print()"
   ]
  },
  {
   "cell_type": "code",
   "execution_count": null,
   "id": "db384e26",
   "metadata": {},
   "outputs": [],
   "source": [
    "pergunta = \"o que é um cachorro\"\n",
    "emb_query = embedding_model.embed_query(pergunta)\n"
   ]
  }
 ],
 "metadata": {
  "kernelspec": {
   "display_name": ".venv",
   "language": "python",
   "name": "python3"
  },
  "language_info": {
   "codemirror_mode": {
    "name": "ipython",
    "version": 3
   },
   "file_extension": ".py",
   "mimetype": "text/x-python",
   "name": "python",
   "nbconvert_exporter": "python",
   "pygments_lexer": "ipython3",
   "version": "3.11.8"
  }
 },
 "nbformat": 4,
 "nbformat_minor": 5
}
