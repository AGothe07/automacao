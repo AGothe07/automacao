{
 "cells": [
  {
   "cell_type": "code",
   "execution_count": 2,
   "id": "2f1a1690",
   "metadata": {},
   "outputs": [],
   "source": [
    "feedback_produto=\"\"\"Adquiri recentemente o smartphone XYZ e estou extremamente satisfeito com a e\n",
    "xperiência até agora. O desempenho é rápido e fluido, mesmo com vários aplicativos abertos ao mesmo\n",
    "tempo. A qualidade da câmera me surpreendeu, especialmente em ambientes com pouca luz — as fotos saem \n",
    "nítidas e com cores vibrantes. Outro ponto positivo é a duração da bateria, que aguenta tranquilamente um\n",
    "dia inteiro de uso intenso. O design também merece destaque: elegante, leve e com ótima pegada. A interface\n",
    "do sistema é intuitiva e cheia de recursos úteis. Recomendo fortemente para quem busca um celular com ótimo \n",
    "custo-benefício, desempenho confiável e recursos modernos!\"\"\""
   ]
  },
  {
   "cell_type": "code",
   "execution_count": 3,
   "id": "5c181a2f",
   "metadata": {},
   "outputs": [],
   "source": [
    "from langchain.prompts import ChatPromptTemplate\n",
    "\n",
    "review_template = ChatPromptTemplate.from_template(\"\"\"\n",
    "    Para o texto a seguir, extraia as seguintes informações:\n",
    "    Produto: nome do produto mensionado no texto\n",
    "    caracteristicas positivas: Liste toda as caracteristicas positivas mencionadas sobre o produto                                               \n",
    "    caracteristicas negativas: Liste toda as caracteristicas negativas mencionadas sobre o produto\n",
    "    recomendação: o cliente recomenda o produto?\n",
    "\n",
    "    texto: {review}\n",
    "\n",
    "    retorne a resposta no formato json                                               \n",
    "\"\"\")"
   ]
  },
  {
   "cell_type": "code",
   "execution_count": 4,
   "id": "248e606c",
   "metadata": {},
   "outputs": [
    {
     "name": "stdout",
     "output_type": "stream",
     "text": [
      "[HumanMessage(content='\\n    Para o texto a seguir, extraia as seguintes informações:\\n    Produto: nome do produto mensionado no texto\\n    caracteristicas positivas: Liste toda as caracteristicas positivas mencionadas sobre o produto                                               \\n    caracteristicas negativas: Liste toda as caracteristicas negativas mencionadas sobre o produto\\n    recomendação: o cliente recomenda o produto?\\n\\n    texto: Adquiri recentemente o smartphone XYZ e estou extremamente satisfeito com a e\\nxperiência até agora. O desempenho é rápido e fluido, mesmo com vários aplicativos abertos ao mesmo\\ntempo. A qualidade da câmera me surpreendeu, especialmente em ambientes com pouca luz — as fotos saem \\nnítidas e com cores vibrantes. Outro ponto positivo é a duração da bateria, que aguenta tranquilamente um\\ndia inteiro de uso intenso. O design também merece destaque: elegante, leve e com ótima pegada. A interface\\ndo sistema é intuitiva e cheia de recursos úteis. Recomendo fortemente para quem busca um celular com ótimo \\ncusto-benefício, desempenho confiável e recursos modernos!\\n\\n    retorne a resposta no formato json                                               \\n', additional_kwargs={}, response_metadata={})]\n"
     ]
    }
   ],
   "source": [
    "print(review_template.format_messages(review = feedback_produto))"
   ]
  },
  {
   "cell_type": "code",
   "execution_count": 6,
   "id": "a60eb06a",
   "metadata": {},
   "outputs": [],
   "source": [
    "from langchain_openai.chat_models import ChatOpenAI\n",
    "\n",
    "chat = ChatOpenAI()\n",
    "resposta = chat.invoke(review_template.format_messages(review = feedback_produto))"
   ]
  },
  {
   "cell_type": "code",
   "execution_count": 7,
   "id": "4995d68b",
   "metadata": {},
   "outputs": [
    {
     "data": {
      "text/plain": [
       "'{\\n    \"Produto\": \"smartphone XYZ\",\\n    \"caracteristicas positivas\": [\\n        \"Desempenho rápido e fluido\",\\n        \"Qualidade da câmera surpreendente, especialmente em ambientes com pouca luz\",\\n        \"Duração da bateria aguenta um dia inteiro de uso intenso\",\\n        \"Design elegante, leve e com ótima pegada\",\\n        \"Interface do sistema intuitiva e cheia de recursos úteis\"\\n    ],\\n    \"caracteristicas negativas\": [],\\n    \"recomendação\": \"Sim\"\\n}'"
      ]
     },
     "execution_count": 7,
     "metadata": {},
     "output_type": "execute_result"
    }
   ],
   "source": [
    "resposta.content"
   ]
  },
  {
   "cell_type": "code",
   "execution_count": 8,
   "id": "22f8e248",
   "metadata": {},
   "outputs": [],
   "source": [
    "from langchain.output_parsers import ResponseSchema\n",
    "from langchain.output_parsers import StructuredOutputParser"
   ]
  },
  {
   "cell_type": "code",
   "execution_count": 9,
   "id": "c83ba0cc",
   "metadata": {},
   "outputs": [],
   "source": [
    "schema_produto = ResponseSchema(\n",
    "    name=\"Produto\",\n",
    "    type=\"string\",\n",
    "    description=\"Nome do produto mencionado no texto\"\n",
    ")\n",
    "\n",
    "schema_positivas = ResponseSchema(\n",
    "    name=\"caracteristicas_positivas\",\n",
    "    type=\"list\",\n",
    "    description=\"Liste todas as caracteristicas positivas mencionadas sobre o produti\"\n",
    ")\n",
    "\n",
    "schema_negativas = ResponseSchema(\n",
    "    name=\"caracteristicas_negativas\",\n",
    "    type=\"list\",\n",
    "    description=\"Liste todas as caracteristicas negativas mencionadas sobre o produti\"\n",
    ")\n",
    "\n",
    "schema_recomendacao = ResponseSchema(\n",
    "    name=\"recomendacao\",\n",
    "    type=\"bool\",\n",
    "    description=\"O cliente recomenda o produto? \"\n",
    ")"
   ]
  },
  {
   "cell_type": "code",
   "execution_count": 11,
   "id": "d90159a1",
   "metadata": {},
   "outputs": [],
   "source": [
    "response_schema = [schema_produto, schema_recomendacao, schema_positivas, schema_negativas]\n",
    "output_parser = StructuredOutputParser.from_response_schemas(response_schema)\n",
    "schema_formatado = output_parser.get_format_instructions()"
   ]
  },
  {
   "cell_type": "code",
   "execution_count": 12,
   "id": "5a924632",
   "metadata": {},
   "outputs": [
    {
     "name": "stdout",
     "output_type": "stream",
     "text": [
      "The output should be a markdown code snippet formatted in the following schema, including the leading and trailing \"```json\" and \"```\":\n",
      "\n",
      "```json\n",
      "{\n",
      "\t\"Produto\": string  // Nome do produto mencionado no texto\n",
      "\t\"recomendacao\": bool  // O cliente recomenda o produto? \n",
      "\t\"caracteristicas_positivas\": list  // Liste todas as caracteristicas positivas mencionadas sobre o produti\n",
      "\t\"caracteristicas_negativas\": list  // Liste todas as caracteristicas negativas mencionadas sobre o produti\n",
      "}\n",
      "```\n"
     ]
    }
   ],
   "source": [
    "print(schema_formatado)"
   ]
  },
  {
   "cell_type": "code",
   "execution_count": 14,
   "id": "39aab552",
   "metadata": {},
   "outputs": [],
   "source": [
    "review_template2 = ChatPromptTemplate.from_template(\"\"\"\n",
    "Para o texto a seguir extraia as seguintes informações:\n",
    "produto, caracteristicas positivas e negativas, recomendação\n",
    "                                                    \n",
    "texto: {review}\n",
    "{schema}\n",
    "\"\"\", partial_variables={\"schema\":schema_formatado}\n",
    ")"
   ]
  },
  {
   "cell_type": "code",
   "execution_count": 15,
   "id": "130e8c87",
   "metadata": {},
   "outputs": [
    {
     "name": "stdout",
     "output_type": "stream",
     "text": [
      "[HumanMessage(content='\\nPara o texto a seguir extraia as seguintes informações:\\nproduto, caracteristicas positivas e negativas, recomendação\\n\\ntexto: Adquiri recentemente o smartphone XYZ e estou extremamente satisfeito com a e\\nxperiência até agora. O desempenho é rápido e fluido, mesmo com vários aplicativos abertos ao mesmo\\ntempo. A qualidade da câmera me surpreendeu, especialmente em ambientes com pouca luz — as fotos saem \\nnítidas e com cores vibrantes. Outro ponto positivo é a duração da bateria, que aguenta tranquilamente um\\ndia inteiro de uso intenso. O design também merece destaque: elegante, leve e com ótima pegada. A interface\\ndo sistema é intuitiva e cheia de recursos úteis. Recomendo fortemente para quem busca um celular com ótimo \\ncusto-benefício, desempenho confiável e recursos modernos!\\nThe output should be a markdown code snippet formatted in the following schema, including the leading and trailing \"```json\" and \"```\":\\n\\n```json\\n{\\n\\t\"Produto\": string  // Nome do produto mencionado no texto\\n\\t\"recomendacao\": bool  // O cliente recomenda o produto? \\n\\t\"caracteristicas_positivas\": list  // Liste todas as caracteristicas positivas mencionadas sobre o produti\\n\\t\"caracteristicas_negativas\": list  // Liste todas as caracteristicas negativas mencionadas sobre o produti\\n}\\n```\\n', additional_kwargs={}, response_metadata={})]\n"
     ]
    }
   ],
   "source": [
    "print(review_template2.format_messages(review=feedback_produto))"
   ]
  },
  {
   "cell_type": "code",
   "execution_count": 17,
   "id": "c3f01679",
   "metadata": {},
   "outputs": [
    {
     "data": {
      "text/plain": [
       "'```json\\n{\\n\\t\"Produto\": \"smartphone XYZ\",\\n\\t\"recomendacao\": true,\\n\\t\"caracteristicas_positivas\": [\"Desempenho rápido e fluido\", \"Qualidade da câmera em ambientes com pouca luz\", \"Duração da bateria para um dia inteiro de uso intenso\", \"Design elegante e leve\", \"Interface intuitiva e repleta de recursos úteis\"],\\n\\t\"caracteristicas_negativas\": []\\n}\\n```'"
      ]
     },
     "execution_count": 17,
     "metadata": {},
     "output_type": "execute_result"
    }
   ],
   "source": [
    "resposta = chat.invoke(review_template2.format_messages(review = feedback_produto))\n",
    "resposta.content"
   ]
  },
  {
   "cell_type": "code",
   "execution_count": 18,
   "id": "df6f7d90",
   "metadata": {},
   "outputs": [],
   "source": [
    "resposta_json = output_parser.parse(resposta.content)"
   ]
  },
  {
   "cell_type": "code",
   "execution_count": 22,
   "id": "d2f26ee8",
   "metadata": {},
   "outputs": [
    {
     "data": {
      "text/plain": [
       "'smartphone XYZ'"
      ]
     },
     "execution_count": 22,
     "metadata": {},
     "output_type": "execute_result"
    }
   ],
   "source": [
    "resposta_json[\"Produto\"]"
   ]
  }
 ],
 "metadata": {
  "kernelspec": {
   "display_name": ".venv",
   "language": "python",
   "name": "python3"
  },
  "language_info": {
   "codemirror_mode": {
    "name": "ipython",
    "version": 3
   },
   "file_extension": ".py",
   "mimetype": "text/x-python",
   "name": "python",
   "nbconvert_exporter": "python",
   "pygments_lexer": "ipython3",
   "version": "3.13.2"
  }
 },
 "nbformat": 4,
 "nbformat_minor": 5
}
