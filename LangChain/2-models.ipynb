{
 "cells": [
  {
   "cell_type": "code",
   "execution_count": 1,
   "id": "937c77ab",
   "metadata": {},
   "outputs": [],
   "source": [
    "from langchain_openai.llms import OpenAI\n",
    "llm = OpenAI()\n"
   ]
  },
  {
   "cell_type": "code",
   "execution_count": 6,
   "id": "0c2adecb",
   "metadata": {},
   "outputs": [],
   "source": [
    "from langchain.prompts import PromptTemplate\n",
    "prompt_template = PromptTemplate.from_template(\"\"\"\n",
    "    Responda a seguinte pergunta do usuario em ate {n_palavras} palavras:\n",
    "    {pergunta}\n",
    "    \"\"\"\n",
    ")"
   ]
  },
  {
   "cell_type": "code",
   "execution_count": null,
   "id": "ecbe3f09",
   "metadata": {},
   "outputs": [
    {
     "data": {
      "text/plain": [
       "'\\n    Responda a seguinte pergunta do usuario em ate 15 palavras:\\n    o que é SaaS\\n    '"
      ]
     },
     "execution_count": 7,
     "metadata": {},
     "output_type": "execute_result"
    }
   ],
   "source": [
    "prompt_template.format(pergunta = \"o que é SaaS\", n_palavras = 20)"
   ]
  },
  {
   "cell_type": "markdown",
   "id": "f2b76a3d",
   "metadata": {},
   "source": [
    "### Utilizando Multiplos prompts"
   ]
  },
  {
   "cell_type": "code",
   "execution_count": 9,
   "id": "72d06de4",
   "metadata": {},
   "outputs": [],
   "source": [
    "from langchain.prompts import PromptTemplate\n",
    "template_word_count = PromptTemplate.from_template(\"\"\"\n",
    "    Responda a pergunta em até {n_palavras}\n",
    "\"\"\")\n",
    "\n",
    "templeta_line_count = PromptTemplate.from_template(\"\"\"\n",
    "    Responda a pergunta em até {n_linhas}\n",
    "\"\"\")\n",
    "\n",
    "templeta_idioma = PromptTemplate.from_template(\"\"\"\n",
    "    Responda a pergunta no idioma {idioma}\n",
    "\"\"\")\n",
    "\n",
    "template_final = (template_word_count + templeta_line_count + templeta_idioma + \"responda a pergunta seguindo as instruções{pergunta}\")"
   ]
  },
  {
   "cell_type": "code",
   "execution_count": 11,
   "id": "0db035b1",
   "metadata": {},
   "outputs": [
    {
     "name": "stdout",
     "output_type": "stream",
     "text": [
      "input_variables=['idioma', 'n_linhas', 'n_palavras', 'pergunta'] input_types={} partial_variables={} template='\\n    Responda a pergunta em até {n_palavras}\\n\\n    Responda a pergunta em até {n_linhas}\\n\\n    Responda a pergunta no idioma {idioma}\\nresponda a pergunta seguindo as instruções{pergunta}'\n"
     ]
    }
   ],
   "source": [
    "print(template_final)"
   ]
  },
  {
   "cell_type": "code",
   "execution_count": 12,
   "id": "8ea5f575",
   "metadata": {},
   "outputs": [
    {
     "data": {
      "text/plain": [
       "'\\n\\nO sol é a estrela central do nosso sistema solar, responsável por fornecer luz e calor para a Terra. É uma esfera gigante de gás quente, que possui cerca de 4,6 bilhões de anos e tem uma massa aproximadamente 330.000 vezes maior que a da Terra. Além disso, o sol é fundamental para a manutenção da vida no nosso planeta, sendo responsável pelo processo de fotossíntese e pelo ciclo da água. '"
      ]
     },
     "execution_count": 12,
     "metadata": {},
     "output_type": "execute_result"
    }
   ],
   "source": [
    "prompt_final = template_final.format(n_palavras = 20, idioma = \"ingles\", n_linhas= 5, pergunta= \"o que é o sol\")\n",
    "llm.invoke(prompt_final)"
   ]
  },
  {
   "cell_type": "code",
   "execution_count": 13,
   "id": "87adceda",
   "metadata": {},
   "outputs": [
    {
     "name": "stdout",
     "output_type": "stream",
     "text": [
      "\n",
      "    Responda a pergunta em até 20\n",
      "\n",
      "    Responda a pergunta em até 5\n",
      "\n",
      "    Responda a pergunta no idioma ingles\n",
      "responda a pergunta seguindo as instruçõeso que é o sol\n"
     ]
    }
   ],
   "source": [
    "print(prompt_final)"
   ]
  },
  {
   "cell_type": "markdown",
   "id": "89ef80c5",
   "metadata": {},
   "source": [
    "### Template para chat"
   ]
  },
  {
   "cell_type": "code",
   "execution_count": 14,
   "id": "e187aa64",
   "metadata": {},
   "outputs": [
    {
     "data": {
      "text/plain": [
       "[HumanMessage(content='Essa é minha duvida: Quem é você?', additional_kwargs={}, response_metadata={})]"
      ]
     },
     "execution_count": 14,
     "metadata": {},
     "output_type": "execute_result"
    }
   ],
   "source": [
    "from langchain.prompts import ChatPromptTemplate\n",
    "chat_template = ChatPromptTemplate.from_template(\"Essa é minha duvida: {duvida}\")\n",
    "chat_template.format_messages(duvida=\"Quem é você?\")"
   ]
  },
  {
   "cell_type": "code",
   "execution_count": 16,
   "id": "1e3c0899",
   "metadata": {},
   "outputs": [],
   "source": [
    "from langchain.prompts import ChatPromptTemplate\n",
    "chat_template = ChatPromptTemplate.from_messages(\n",
    "    [\n",
    "        (\"system\", \"Voce é um assistente ironico e se chama {nome_assistente}\"),\n",
    "        (\"human\", \"olá, como vai?\"),\n",
    "        (\"ai\", \"estou bem, como posso te ajudar?\"),\n",
    "        (\"human\", \"{pergunta}\")\n",
    "    ]\n",
    ")"
   ]
  },
  {
   "cell_type": "code",
   "execution_count": 18,
   "id": "e83cd3be",
   "metadata": {},
   "outputs": [
    {
     "data": {
      "text/plain": [
       "[SystemMessage(content='Voce é um assistente ironico e se chama boot-x', additional_kwargs={}, response_metadata={}),\n",
       " HumanMessage(content='olá, como vai?', additional_kwargs={}, response_metadata={}),\n",
       " AIMessage(content='estou bem, como posso te ajudar?', additional_kwargs={}, response_metadata={}),\n",
       " HumanMessage(content='Qual o seu nome?', additional_kwargs={}, response_metadata={})]"
      ]
     },
     "execution_count": 18,
     "metadata": {},
     "output_type": "execute_result"
    }
   ],
   "source": [
    "chat_template.format_messages(nome_assistente = \"boot-x\", pergunta = \"Qual o seu nome?\")   "
   ]
  },
  {
   "cell_type": "code",
   "execution_count": 19,
   "id": "b9e9b77c",
   "metadata": {},
   "outputs": [
    {
     "data": {
      "text/plain": [
       "AIMessage(content='Meu nome é BotX. Como posso ser útil hoje?', additional_kwargs={'refusal': None}, response_metadata={'token_usage': {'completion_tokens': 15, 'prompt_tokens': 55, 'total_tokens': 70, 'completion_tokens_details': {'accepted_prediction_tokens': 0, 'audio_tokens': 0, 'reasoning_tokens': 0, 'rejected_prediction_tokens': 0}, 'prompt_tokens_details': {'audio_tokens': 0, 'cached_tokens': 0}}, 'model_name': 'gpt-3.5-turbo-0125', 'system_fingerprint': None, 'id': 'chatcmpl-BzQ4ZfDcG6dEcTQnvPcTXHzjyN3Ec', 'service_tier': 'default', 'finish_reason': 'stop', 'logprobs': None}, id='run--a847a6e7-7713-4063-873c-cd45f26db326-0', usage_metadata={'input_tokens': 55, 'output_tokens': 15, 'total_tokens': 70, 'input_token_details': {'audio': 0, 'cache_read': 0}, 'output_token_details': {'audio': 0, 'reasoning': 0}})"
      ]
     },
     "execution_count": 19,
     "metadata": {},
     "output_type": "execute_result"
    }
   ],
   "source": [
    "from langchain_openai.chat_models import ChatOpenAI\n",
    "\n",
    "chat = ChatOpenAI()\n",
    "\n",
    "chat.invoke(chat_template.format_messages(nome_assistente= \"BotX\", pergunta=\"Qual o seu nome?\"))"
   ]
  },
  {
   "cell_type": "markdown",
   "id": "be862dc8",
   "metadata": {},
   "source": [
    "### Few Short Prompt"
   ]
  },
  {
   "cell_type": "code",
   "execution_count": null,
   "id": "5d5efe06",
   "metadata": {},
   "outputs": [],
   "source": []
  }
 ],
 "metadata": {
  "kernelspec": {
   "display_name": ".venv",
   "language": "python",
   "name": "python3"
  },
  "language_info": {
   "codemirror_mode": {
    "name": "ipython",
    "version": 3
   },
   "file_extension": ".py",
   "mimetype": "text/x-python",
   "name": "python",
   "nbconvert_exporter": "python",
   "pygments_lexer": "ipython3",
   "version": "3.13.2"
  }
 },
 "nbformat": 4,
 "nbformat_minor": 5
}
