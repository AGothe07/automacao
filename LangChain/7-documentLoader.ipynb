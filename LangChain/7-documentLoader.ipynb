{
 "cells": [
  {
   "cell_type": "code",
   "execution_count": 1,
   "id": "7d494cbb",
   "metadata": {},
   "outputs": [],
   "source": [
    "from langchain_community.document_loaders.pdf import PyPDFLoader\n",
    "\n",
    "arquivo = \"files/apostila.pdf\"\n",
    "loader = PyPDFLoader(arquivo)\n",
    "documentos = loader.load()"
   ]
  },
  {
   "cell_type": "code",
   "execution_count": 2,
   "id": "ab94cac6",
   "metadata": {},
   "outputs": [
    {
     "data": {
      "text/plain": [
       "28"
      ]
     },
     "execution_count": 2,
     "metadata": {},
     "output_type": "execute_result"
    }
   ],
   "source": [
    "len(documentos)"
   ]
  },
  {
   "cell_type": "code",
   "execution_count": 3,
   "id": "6ec634da",
   "metadata": {},
   "outputs": [
    {
     "data": {
      "text/plain": [
       "'3 \\n \\n2. Digite o comando sudo apt-get install python3.4 no terminal do GNU/Linux para inicializar \\no processo de instalação. \\n \\n \\n \\n3. Terminado o download, o interpretador já estará instalado no computador. \\n \\n \\n \\n \\nb) Instalação do IDLE no Linux \\n \\nO IDLE é um ambiente in tegrado de desenvolvimento que acompanha a instalação do interpretador \\nPython em sistemas operacionais Windows. Para tê -lo disponível em distribuições Linux basta \\nseguir as etapas abaixo: \\n \\n1. Acesse o terminal Linux. \\n \\n \\n \\n2. Digite o comando sudo apt-get install idle-python3.4. \\n \\n \\n \\n3. Para executá-lo basta digitar no terminal idle-python3.4 &.'"
      ]
     },
     "execution_count": 3,
     "metadata": {},
     "output_type": "execute_result"
    }
   ],
   "source": [
    "documentos[5].page_content"
   ]
  },
  {
   "cell_type": "code",
   "execution_count": 4,
   "id": "c796b83a",
   "metadata": {},
   "outputs": [
    {
     "name": "stderr",
     "output_type": "stream",
     "text": [
      "C:\\Users\\arthu\\AppData\\Local\\Temp\\ipykernel_956\\1339698859.py:5: LangChainDeprecationWarning: This class is deprecated. See the following migration guides for replacements based on `chain_type`:\n",
      "stuff: https://python.langchain.com/docs/versions/migrating_chains/stuff_docs_chain\n",
      "map_reduce: https://python.langchain.com/docs/versions/migrating_chains/map_reduce_chain\n",
      "refine: https://python.langchain.com/docs/versions/migrating_chains/refine_chain\n",
      "map_rerank: https://python.langchain.com/docs/versions/migrating_chains/map_rerank_docs_chain\n",
      "\n",
      "See also guides on retrieval and question-answering here: https://python.langchain.com/docs/how_to/#qa-with-rag\n",
      "  chain = load_qa_chain(llm=chat, chain_type=\"stuff\", verbose=True)\n"
     ]
    }
   ],
   "source": [
    "from langchain.chains.question_answering import load_qa_chain\n",
    "from langchain_openai.chat_models import ChatOpenAI\n",
    "\n",
    "chat = ChatOpenAI(model=\"gpt-3.5-turbo-0125\")\n",
    "chain = load_qa_chain(llm=chat, chain_type=\"stuff\", verbose=True)"
   ]
  },
  {
   "cell_type": "code",
   "execution_count": 5,
   "id": "c45b9f96",
   "metadata": {},
   "outputs": [
    {
     "name": "stderr",
     "output_type": "stream",
     "text": [
      "C:\\Users\\arthu\\AppData\\Local\\Temp\\ipykernel_956\\2759754195.py:3: LangChainDeprecationWarning: The method `Chain.run` was deprecated in langchain 0.1.0 and will be removed in 1.0. Use :meth:`~invoke` instead.\n",
      "  chain.run(input_documents = documentos[:8], question = pergunta)\n"
     ]
    },
    {
     "name": "stdout",
     "output_type": "stream",
     "text": [
      "\n",
      "\n",
      "\u001b[1m> Entering new StuffDocumentsChain chain...\u001b[0m\n",
      "\n",
      "\n",
      "\u001b[1m> Entering new LLMChain chain...\u001b[0m\n",
      "Prompt after formatting:\n",
      "\u001b[32;1m\u001b[1;3mSystem: Use the following pieces of context to answer the user's question.\n",
      "If you don't know the answer, just say that you don't know, don't try to make up an answer.\n",
      "----------------\n",
      "INTRODUÇÃO À PROGRAMAÇÃO \n",
      "COM PYTHON \n",
      " \n",
      " \n",
      " \n",
      " \n",
      " \n",
      " \n",
      " \n",
      "Programa de Educação Tutorial \n",
      "Grupo PET - ADS   \n",
      "IFSP -  Câmpus São Carlos\n",
      "\n",
      "Sumário \n",
      "PREFÁCIO ................................ ................................ ................................ ........................  1 \n",
      "1. INTRODUÇÃO ................................ ................................ ................................ .............. 2 \n",
      "1.1 Características da linguagem Python ................................ ................................ ..... 2 \n",
      "1.2 Instalação do interpretador Python ................................ ................................ ....... 2 \n",
      "2. VARIÁVEIS ................................ ................................ ................................ ................... 4 \n",
      "3. STRINGS ................................ ................................ ................................ ...................... 6 \n",
      "3.1 Concatenação de strings ................................ ................................ ........................  6 \n",
      "3.2 Manipulação de strings ................................ ................................ ..........................  7 \n",
      "3.3 Fatiamento de strings ................................ ................................ ............................  8 \n",
      "3.4 Exercícios: strings ................................ ................................ ................................ .. 8 \n",
      "4. NÚMEROS ................................ ................................ ................................ ................... 9 \n",
      "4.1 Operadores numéricos ................................ ................................ ..........................  9 \n",
      "4.2 Exercícios: números ................................ ................................ ...............................  9 \n",
      "5. LISTAS ................................ ................................ ................................ ....................... 10 \n",
      "5.1 Funções para manipulação de listas ................................ ................................ .... 10 \n",
      "5.2 Operações com listas ................................ ................................ ...........................  11 \n",
      "5.3 Fatiamento de listas ................................ ................................ ............................  11 \n",
      "5.4 Criação de listas com range ( ) ................................ ................................ ............. 12 \n",
      "5.5 Exercícios: listas ................................ ................................ ................................ ... 12 \n",
      "6. TUPLAS ................................ ................................ ................................ ..................... 13 \n",
      "7. DICIONÁRIOS ................................ ................................ ................................ ............ 13 \n",
      "7.1 Operações em dicionários ................................ ................................ ................... 14 \n",
      "7.2 Exercícios: dicionários ................................ ................................ ..........................  14 \n",
      "8. BIBLIOTECAS ................................ ................................ ................................ ............. 15 \n",
      "9. ESTRUTURAS DE DECISÃO ................................ ................................ .........................  15 \n",
      "9.1 Estrutura if ................................ ................................ ................................ ........... 16 \n",
      "9.2 Estrutura if..else ................................ ................................ ................................ .. 16 \n",
      "9.3 Comando if..elif..else ................................ ................................ ...........................  16 \n",
      "9.4 Exercícios: estruturas de decisão ................................ ................................ ......... 17\n",
      "\n",
      "10. ESTRUTURAS DE REPETIÇÃO ................................ ................................ ................... 17 \n",
      "10.1 Laço while ................................ ................................ ................................ .......... 17 \n",
      "10.2 Laço for ................................ ................................ ................................ .............. 18 \n",
      "10.3 Exercícios: estrutura de repetição................................ ................................ ...... 19 \n",
      "11. FUNÇÕES ................................ ................................ ................................ ................ 19 \n",
      "11.1 Como definir uma função ................................ ................................ .................. 19 \n",
      "11.2 Parâmetros e argumentos ................................ ................................ ................. 19 \n",
      "11.3 Escopo das variáveis ................................ ................................ ..........................  20 \n",
      "11.4 Retorno de valores ................................ ................................ ............................  20 \n",
      "11.5 Valor padrão ................................ ................................ ................................ ...... 21 \n",
      "11.6 Exercícios: funções................................ ................................ .............................  21 \n",
      "12. RESPOSTAS DOS EXERCÍCIOS ................................ ................................ ................... 22 \n",
      "BIBLIOGRAFIA ................................ ................................ ................................ ............... 25\n",
      "\n",
      "1 \n",
      " \n",
      "PREFÁCIO \n",
      " \n",
      "Este material foi escrito para ser utilizado em cursos de extensão de  Introdução à \n",
      "Programação com Python , do Instituto Federal de Educação, Ciência e Tecnologia de \n",
      "São Paulo, câmpus São Carlos. \n",
      "A apostila foi desenvolvida pelo s integrantes do Programa de Educação Tutorial do curso \n",
      "de Tecnologia em Análise e Desenvolvimento de Sistemas - grupo PET ADS / IFSP São \n",
      "Carlos. O grupo iniciou suas atividades em 2011 , e realiza atividades diversas  envolvendo \n",
      "Ensino, Pesquisa e Extensão. Entre as linguagens e ferramentas de programação estudadas \n",
      "pelo grupo estão: o ambiente de desenvolvimento Lazarus, o editor de jogos Construct 2, as \n",
      "linguagens Ruby, Python e JavaScript, os frameworks Rails, Django, Web2Py e Grails.  \n",
      "A linguagem Python s e destacou pela facilidade de programação e versatilidade. Python é \n",
      "uma linguagem de uso geral, que pode ser utilizada para diversas aplicações. Apresenta \n",
      "uma sintaxe simples, tornando os programas mais legíveis, o que também facilita o \n",
      "aprendizado da ling uagem. Possui listas, dicionários e tuplas como estruturas de dados \n",
      "pré-definidas. É uma linguagem multiparadigma: suporta os paradigmas de programação \n",
      "procedural, funcional e orientado a objetos.  \n",
      "Diversos petianos colaboraram na confecção desta apostila.  Mas gostaria de agradecer \n",
      "especialmente quatro estudantes que se destacaram pelo empenho e dedicação na \n",
      "execução dessa tarefa: José Picharillo, Lucas Limão, Viviane Quinaia e Camila Couto.   \n",
      "Este é um material de apoio para um curso de extensão introdutório, cujo objetivo é \n",
      "divulgar a linguagem Python. Não é um material preparado para autoaprendizagem, \n",
      "embora seja possível utilizá-lo com esse fim.  \n",
      "Reforçando, este é um material introdutório. Tem muito mais para aprender em Python: \n",
      "orientação a objetos, programação funcional, metaprogramação, interface gráfica, \n",
      "expressões regulares, threads, tratamento de exceções, funções anônimas, geradores, \n",
      "desenvolvimento web, aplicativos móveis, entre outras.  \n",
      "Bem-vindo ao mundo Python! \n",
      " \n",
      " \n",
      " \n",
      "Prof. Dr. João Luiz Franco \n",
      "Tutor do grupo PET - ADS / São Carlos\n",
      "\n",
      "2 \n",
      " \n",
      " \n",
      "1. INTRODUÇÃO \n",
      " \n",
      "1.1 Características da linguagem Python \n",
      " \n",
      "A linguagem de programação Python  foi criada  em 1991  por Guido V an Rossum em, com a \n",
      "finalidade de ser uma linguagem simples e de fácil compreensão. Ape sar de simples, Python é uma \n",
      "linguagem muito poderosa, que pode ser usada para desenvolver e administrar grandes sistemas. \n",
      " \n",
      "Uma das principais características que diferencia a linguagem Python das outras é a legibilidade dos \n",
      "programas escritos. Isto ocorre porque , em outras linguagens , é muito comum o uso  excessivo de \n",
      "marcações (p onto ou ponto e vírgula ), de marcadores ( chaves, colchetes ou parêntes es) e de \n",
      "palavras especiais (begin/end), o que torna mais difícil a leitura e compreensão dos programas. Já \n",
      "em Python, o uso desses recursos é reduzido, deixando a linguagem visualmente mais limpa, de \n",
      "fácil compreensão e leitura. \n",
      " \n",
      "Entre outras características existentes n a linguagem P ython, destaca-se a simplicidade da \n",
      "linguagem, que facilita o aprendizado da programação. Python também possui uma portabilidade \n",
      "muito grande para diversas plataformas diferentes, além de ser possível utilizar trechos de código s \n",
      "em outras linguagens. \n",
      " \n",
      "Python é um software livre, ou seja, permite que usuários e colaboradores possam modificar seu \n",
      "código fonte  e compartilhar essas novas atualizações , contribuindo para o constante  \n",
      "aperfeiçoamento da linguagem. A especificação da linguagem é mantida pela empresa Python \n",
      "Software Foundation (PSF). \n",
      " \n",
      " \n",
      "1.2 Instalação do interpretador Python \n",
      " \n",
      "a) Instalação de Python no Linux \n",
      " \n",
      "Nas versões mais recentes do GNU/Linux , o Python já se encontra instalado , b astando ao \n",
      "programador entrar no terminal e digitar python. Caso não esteja , segue m os passos para a \n",
      "instalação no terminal: \n",
      " \n",
      "1. Acesse o terminal Linux.\n",
      "\n",
      "3 \n",
      " \n",
      "2. Digite o comando sudo apt-get install python3.4 no terminal do GNU/Linux para inicializar \n",
      "o processo de instalação. \n",
      " \n",
      " \n",
      " \n",
      "3. Terminado o download, o interpretador já estará instalado no computador. \n",
      " \n",
      " \n",
      " \n",
      " \n",
      "b) Instalação do IDLE no Linux \n",
      " \n",
      "O IDLE é um ambiente in tegrado de desenvolvimento que acompanha a instalação do interpretador \n",
      "Python em sistemas operacionais Windows. Para tê -lo disponível em distribuições Linux basta \n",
      "seguir as etapas abaixo: \n",
      " \n",
      "1. Acesse o terminal Linux. \n",
      " \n",
      " \n",
      " \n",
      "2. Digite o comando sudo apt-get install idle-python3.4. \n",
      " \n",
      " \n",
      " \n",
      "3. Para executá-lo basta digitar no terminal idle-python3.4 &.\n",
      "\n",
      "4 \n",
      " \n",
      "c) Instalação do Python no Windows \n",
      " \n",
      "A instalação do interpretador Python para Windows é mais simples, conforme apresentado a seguir: \n",
      " \n",
      "1. Entre no site www.python.org. Na aba download selecione a versão 3.5.1. \n",
      " \n",
      "2. Após o download, execute o instalador mantendo, por default, todas as configurações a cada \n",
      "passo da instalação. Depois clique em Finalizar e o interpretador Python já est ará instalado \n",
      "no computador. \n",
      " \n",
      "Caso você não consiga executar o interpretador Python pelo prompt de comando, provavelmente o \n",
      "path não está configurado. Veja abaixo os passos para configurá-lo: \n",
      " \n",
      "1. Com o cursor do mouse vá até Computador, clique  com o botão direito e escolha \n",
      "Propriedades. \n",
      " \n",
      "2. Depois clique em Configurações avançadas do sistema e, a seguir, Variáveis de ambiente. \n",
      " \n",
      "3. Com ajuda da barra de rolagem  procure a variável chamada path, selecione-a e escolha a \n",
      "opção Editar. \n",
      " \n",
      "4. Na próxima janela , no campo Valor de variável , você irá encontrar uma lista contendo \n",
      "vários paths de outros programas. Para adicionar um novo path, vá até o final da lista e \n",
      "acrescente um ponto e vírgula  ( ; ). Depois disso , copie o endereço da pasta onde se \n",
      "encontra instalado o interpretador Python e cole após ponto e vírgula. \n",
      " \n",
      " \n",
      "2. V ARIÁVEIS \n",
      " \n",
      "Variáveis são pequenos espaços de memória, utilizados para armazenar e manipular dados. Em \n",
      "Python, os tipos de dados básicos são:  tipo inteiro (armazena números inteiros), tipo float (armazena \n",
      "números em formato decimal ), e tipo string (armazena um conjun to de caracteres). Cada variável \n",
      "pode armazenar apenas um tipo de dado a cada instante. \n",
      " \n",
      "Em Python, diferentemente de outras linguagens de programação, não é preciso declarar de que tipo \n",
      "será cada variável no início do programa. Q uando se faz uma atribuição de valor, automaticamente a \n",
      "variável se torna do tipo do valor armazenado, como apresentado nos exemplos a seguir:  \n",
      " \n",
      "Exemplos: \n",
      " \n",
      "A variável a se torna uma variável do tipo inteiro.\n",
      "\n",
      "5 \n",
      " \n",
      " \n",
      "A variável b se torna uma variável do tipo float. \n",
      " \n",
      "A variável c se torna uma variável do tipo string. \n",
      " \n",
      "A atribuição de valor para uma variável pode ser feita utilizando o comando input(), que \n",
      "solicita ao usuário o valor a ser atribuído à variável. \n",
      " \n",
      "Exemplo: \n",
      " \n",
      " \n",
      " \n",
      "O comando input(), sempre vai retornar uma s tring. Nesse caso, para retornar dados do tipo \n",
      "inteiro ou float, é preciso converter o tipo do valor lido . Para isso, utiliza-se o int (string) para \n",
      "converter para o tipo inteiro, ou float (string) para converter para o tipo float. \n",
      " \n",
      " \n",
      "Exemplos: \n",
      " \n",
      " \n",
      " \n",
      " \n",
      " \n",
      "Em Python, os nomes da s variáveis devem ser inicia dos com uma letra, mas podem possuir outros \n",
      "tipos de caracteres, como números e símbolos. O símbolo sublinha ( _ ) também é aceito no início \n",
      "de nomes de variáveis.\n",
      "Human: Do que se trata esse documento\u001b[0m\n",
      "\n",
      "\u001b[1m> Finished chain.\u001b[0m\n",
      "\n",
      "\u001b[1m> Finished chain.\u001b[0m\n"
     ]
    },
    {
     "data": {
      "text/plain": [
       "'Esse é um material educacional chamado \"Introdução à Programação com Python\", desenvolvido pelo grupo PET - ADS do IFSP - Câmpus São Carlos. Ele aborda conceitos introdutórios sobre a linguagem de programação Python, características da linguagem, instruções de instalação do interpretador Python em diferentes sistemas operacionais, e também explora tópicos como manipulação de variáveis, strings, números, listas, tuplas, dicionários, bibliotecas, estruturas de decisão, repetição, funções, e exercícios práticos. É um material direcionado a cursos de extensão sobre Python, motivando os leitores a aprender sobre a linguagem e suas aplicações.'"
      ]
     },
     "execution_count": 5,
     "metadata": {},
     "output_type": "execute_result"
    }
   ],
   "source": [
    "pergunta = \"Do que se trata esse documento\"\n",
    "\n",
    "chain.run(input_documents = documentos[:8], question = pergunta)"
   ]
  },
  {
   "cell_type": "markdown",
   "id": "52d9a685",
   "metadata": {},
   "source": [
    "### Carregamento arquivo CSV"
   ]
  },
  {
   "cell_type": "code",
   "execution_count": 6,
   "id": "daa37aab",
   "metadata": {},
   "outputs": [],
   "source": [
    "\n",
    "from langchain_community.document_loaders.csv_loader import CSVLoader\n",
    "\n",
    "arquivo = \"files/imdb_movies.csv\"\n",
    "loader = CSVLoader(arquivo)\n",
    "documentos = loader.load()"
   ]
  },
  {
   "cell_type": "code",
   "execution_count": 7,
   "id": "5f2fec80",
   "metadata": {},
   "outputs": [
    {
     "data": {
      "text/plain": [
       "1000"
      ]
     },
     "execution_count": 7,
     "metadata": {},
     "output_type": "execute_result"
    }
   ],
   "source": [
    "documentos[5]\n",
    "len(documentos)"
   ]
  },
  {
   "cell_type": "markdown",
   "id": "83dfafe8",
   "metadata": {},
   "source": [
    "### Transcrever Videos\n"
   ]
  },
  {
   "cell_type": "code",
   "execution_count": 8,
   "id": "076b7a95",
   "metadata": {},
   "outputs": [],
   "source": [
    "from langchain_community.document_loaders.generic import GenericLoader\n",
    "from langchain_community.document_loaders.blob_loaders.youtube_audio import YoutubeAudioLoader\n",
    "from langchain.document_loaders.parsers import OpenAIWhisperParser"
   ]
  },
  {
   "cell_type": "code",
   "execution_count": 9,
   "id": "70a4a0b0",
   "metadata": {},
   "outputs": [
    {
     "name": "stdout",
     "output_type": "stream",
     "text": [
      "[youtube] Extracting URL: https://www.youtube.com/watch?v=5TLM6WUDZT0\n",
      "[youtube] 5TLM6WUDZT0: Downloading webpage\n",
      "[youtube] 5TLM6WUDZT0: Downloading tv client config\n",
      "[youtube] 5TLM6WUDZT0: Downloading tv player API JSON\n",
      "[youtube] 5TLM6WUDZT0: Downloading ios player API JSON\n",
      "[youtube] 5TLM6WUDZT0: Downloading m3u8 information\n",
      "[info] 5TLM6WUDZT0: Downloading 1 format(s): 140\n",
      "[download] files\\youtube\\Exemplo de Apresentação Pessoal com a Cmra Monica Bomfim.m4a has already been downloaded\n",
      "[download] 100% of    1.83MiB\n",
      "[ExtractAudio] Not converting audio files\\youtube\\Exemplo de Apresentação Pessoal com a Cmra Monica Bomfim.m4a; file is already in target format m4a\n",
      "Transcribing part 1!\n",
      "Transcribing part 1!\n",
      "Transcribing part 2!\n",
      "Transcribing part 1!\n"
     ]
    }
   ],
   "source": [
    "url = \"https://www.youtube.com/watch?v=5TLM6WUDZT0\"\n",
    "save_dir = \"files/youtube\"\n",
    "loader = GenericLoader(\n",
    "    YoutubeAudioLoader([url], save_dir),\n",
    "    OpenAIWhisperParser()\n",
    ")\n",
    "docs = loader.load()"
   ]
  },
  {
   "cell_type": "code",
   "execution_count": 10,
   "id": "f1efa5c8",
   "metadata": {},
   "outputs": [
    {
     "data": {
      "text/plain": [
       "4"
      ]
     },
     "execution_count": 10,
     "metadata": {},
     "output_type": "execute_result"
    }
   ],
   "source": [
    "len(docs)"
   ]
  },
  {
   "cell_type": "code",
   "execution_count": 11,
   "id": "a509d062",
   "metadata": {},
   "outputs": [
    {
     "data": {
      "text/plain": [
       "'Olá, eu me chamo Henrique Frigieri e antes de mais nada eu gostaria de agradecer a todos os senhores, membros da banca, por considerarem avaliar o meu trabalho intitulado tal, tal, tal, orientado pelo'"
      ]
     },
     "execution_count": 11,
     "metadata": {},
     "output_type": "execute_result"
    }
   ],
   "source": [
    "docs[0].page_content[:200]"
   ]
  },
  {
   "cell_type": "code",
   "execution_count": 12,
   "id": "7d0e4012",
   "metadata": {},
   "outputs": [
    {
     "name": "stdout",
     "output_type": "stream",
     "text": [
      "\n",
      "\n",
      "\u001b[1m> Entering new StuffDocumentsChain chain...\u001b[0m\n",
      "\n",
      "\n",
      "\u001b[1m> Entering new LLMChain chain...\u001b[0m\n",
      "Prompt after formatting:\n",
      "\u001b[32;1m\u001b[1;3mSystem: Use the following pieces of context to answer the user's question.\n",
      "If you don't know the answer, just say that you don't know, don't try to make up an answer.\n",
      "----------------\n",
      "Olá, eu me chamo Henrique Frigieri e antes de mais nada eu gostaria de agradecer a todos os senhores, membros da banca, por considerarem avaliar o meu trabalho intitulado tal, tal, tal, orientado pelo professor doutor tal.\n",
      "\n",
      "até o presente momento nós abordamos os tópicos que são fundamentais ali na programação com a linguagem Python principalmente na parte fundamental seja os fundamentos, seja os módulos, orientação a objetos, banco de dados e assim por diante eu acredito que você ficou pensando bem seria mais fácil de assimilar os conteúdos se eu utilizasse uma interface gráfica e bem nós temos alguns exemplos de interface gráfica aqui no curso né como Tkinter, Struelite, Fletch e outras bibliotecas também tá ok e aí porque então falar de Gradle, o Gradle é a biblioteca que eu deixei para explicar sobre ela e ter uma sessão específica sobre ela porque ainda que seja uma biblioteca não tão popular assim, mas de todas as que a gente teve até aqui no curso é a mais simples você vai ver que a gente vai conseguir construir aplicações web com interfaces interessantes de forma bem simples tá e é uma forma inclusive de tentar entender um pouco mais os conceitos do Python utilizando uma estrutura que forneça uma interface de usuário pra gente bom então a ideia dessa aula é conhecer um pouco sobre essa biblioteca assim como Struelite, o propósito dela seria para construir e compartilhar aplicações focadas em Machine Learning tá bom e eu tenho que te dizer o seguinte a gente não vai trabalhar com Machine Learning nessa sessão o objetivo é construir aplicações gerais do Python tá bom a gente vai incluir ainda o conhecimento, o conteúdo de Machine Learning aqui no curso, porém nós já temos uma sessão no momento que eu gravo aqui esta aula, nós já temos uma sessão aqui no curso focada em Hugging Facing, que é uma plataforma que permite nós construirmos aplicações inteligentes seja na área de visão computacional seja na área de processamento de linguagem natural e aí nesses dois, nessas duas sessões a gente acaba utilizando o Gradle para criar uma interface de usuário para o modelo que a gente está construindo lá seja em visão computacional seja em processamento de linguagem natural tá bom então além dessa sessão aqui do Gradle, a gente tem conteúdo do Gradle espalhado aí nestas sessões que falamos sobre o Hugging Face, ok? Beleza, então vamos conhecer um pouco mais sobre o Gradle, olha só a simplicidade né, você tem aqui uma função que basicamente ele espera um nome como parâmetro e aí você cria uma interface, passa o nome da sua função, o input que é um texto e o output que é um texto então eu vou digitar aqui Rodrigo, vou enviar o Submit, Hello Rodrigo se eu alterar aqui para fulano, vou enviar o Submit e ele enviou aqui Submit também, tá? Fácil e simples como você pode conferir aqui, tá bom? Além disso né, tem outros exemplos que a gente tem também como o Airbnb Map vamos ver se ele carrega aqui, olha, carregou aqui o Airbnb do Map, né, trouxe aqui algumas informações, Stream Chatbot, ele traz aqui as informações também você pode conversar com ele, Diffusion Faces e outros exemplos que você pode explorar um pouco mais aí acessando o site, tá bom? Pode gerar imagens aqui e ele pode, você pode clicar aqui mais imagens para ele gerar aqui também, tá bom? Beleza, né? Então é fácil de construir, é rápido, né? Tem a possibilidade de você compartilhar suas aplicações, você pode hospedar as aplicações do Gradle no Hugging Face Spaces, então esse ecossistema de dados, né, Hugging Face, Inteligência Artificial, tem feito com que o Gradle se torne uma biblioteca ainda mais popular, tá bom? Ela não é tão popular quanto o Streetlit e outras bibliotecas, mas aos poucos, né, ela vai conseguindo ganhar o seu pedaço aí no mercado e vai se tornando cada vez mais famosa, tá bom? Mas beleza, eu vou clicar aqui no Quick Start e existem aqui alguns exemplos, né, você pode verificar aqui o Quick Start, construir o seu primeiro exemplo, né, tem aqui mais informações aqui na documentação, chatbots, enfim, né, eu vou voltar aqui, aqui nós temos a parte de documentação, então a documentação aqui a gente vai focar no Gradle, focando na linguagem Python, tá? E aí você tem aqui as possibilidades, você pode clicar aqui neles depois, tem aqui o Playground, Playground ele gera alguns exemplos, aqui do lado esquerdo, do lado direito aqui o Preview, então tem vários exemplos já aqui na parte de mídia, filters, sepia e assim por diante, tem a parte de componentes customizados, que assim como lá no Street Lit a gente tem também, a gente pode utilizar esses componentes customizados, tá, e acessar um pouco mais informações sobre eles, né, e aí tem a comunidade aqui também, tá bom? Então, a ideia é basicamente mostrar que ao longo dessa sessão na prática, né, como a gente pode incluir o Gradle aqui dentro dos nossos projetos, e aí pensando nisso, eu já vou vir aqui ó, eu vou criar uma pasta vazia do Gradle, que eu já fiz aqui, vou abrir o Visual Studio Code, e eu vou abrir essa pasta aqui dentro do Visual Studio Code, tá bom? Então, tá aqui o Visual Studio Code, vou abrir essa pasta aqui dentro, beleza, então no terminal, primeiramente a gente precisa instalar essa biblioteca, tá? Então, para instalar, pip install gradle, vou dar um Enter, mostrar aqui, explicar aqui também, né, na sessão atual, que é essa sessão que eu estou gravando aqui na aula, a gente não vai focar ainda na parte da produção, né, pegar um aplicativo e colocar em deploy, em produção, mas se você ir mais adiante aqui no curso, né, lá focando ali nos modelos de visão computacional do Hugging Face, lá vai ter um laboratório em que eu vou criar uma aplicação web com o Gradle, e vamos edar essa aplicação web com o Hugging Face Spaces, tá bom? Então, é uma excelente forma de você entender como fazer o deploy de uma aplicação Gradle de forma gratuita e bem rápido, tá bom? Bem, enquanto eu estava explicando, a biblioteca foi instalada, e perfeito, tá? Tendo instalado o Gradle, a gente já está apto para começar o desenvolvimento nessa biblioteca, e vamos fazer isso, então, a partir da próxima aula. Vamos começar nessa aula desenvolvendo algumas aplicações com o Gradle. A ideia é bem simples, basicamente, a gente vai criar três aplicações, primeiramente, três funções, uma focada ali em uma função que vai somar dois números, a outra relacionada a gente conseguir inverter um texto e também obter o tamanho de um texto, quantos caracteres naquele texto tem, e por último, a gente vai calcular uma função de fatorial, e aí, em todos esses casos, a gente vai finalizar com a interface com o Gradle, tá bom? E vamos executar essa aplicação, e assim por diante. Então, vai ser uma excelente forma da gente praticar, colocar a mão na massa, e ver que o Gradle, ele pode servir como essa biblioteca que cria uma interface gráfica de forma bem rápida, para que a gente consiga, digamos, de forma didática explicar o que está acontecendo ali por debaixo dos panos, tá bom? Então, eu vou criar aqui um arquivo, que eu vou chamar de app.underline.soma.py Como o meu objetivo é criar aplicação, sempre que eu vou criar aplicações, eu gosto de criar com o arquivo .py, agora, quando eu vou explicar alguma coisa, eu quero que, explicando, e à medida que eu vou explicando, já vou executando o código, tá? Célula, célula, a gente utiliza o formato, o tipo de arquivo IPYNB tá bom? Essa é uma boa prática que eu tenho adotado, e pela experiência que eu tenho tido em relação aos alunos, né? Os alunos têm gostado dessa forma, tá bom? Bem, na última aula, nós instalamos o Gradle, então, agora, eu posso importar o Gradle, import GradleSGR, então, aqui, o que eu estou fazendo? Estou dando um apelido para a minha biblioteca, porque aí, a partir de então, toda vez que eu me referir ao Gradle, eu posso utilizar o apelido que eu defini, beleza? Então, basicamente, essa é a ideia, tá? Eu vou, agora, criar a minha função, tá certo? Então, dev somar, essa função, ela vai ter dois parâmetros, que é o parâmetro número 1 e o parâmetro número 2, e aí, eu vou retornar o número 1 mais o número 2, beleza? Porque, já que a minha função é para somar, e aí, a gente tem aqui a nossa, nós temos aqui o nosso exemplo, tá? Então, se eu quero executar essa função, eu chamo a função, somar, e eu passo para ele 5, que é o número 1, e 4, que é o número 2, tá bom? E aí, como ele está retornando, o que eu faço aqui? Eu vou colocar esse cara aqui dentro de um print, beleza? Que aí, ele vai aparecer a mensagem aqui no terminal para a gente, tá bom? Vou dar aqui um ctrl L, ctrl L, Python, app, pressione o tab e dou um enter. Vamos aguardar aqui, enquanto ele executa, ele está com um problema aqui no interpretador, eu vou pegar esse interpretador aqui, que estava pronto, ele não tinha reconhecido, agora, ele já retornou aqui para a gente, tá bom? Se eu pegar aqui, ó, 3 e 2, recupero o comando para cima e dou um enter, ele já executa aqui para a gente, tá bom? Beleza, vou dar um ctrl L, perfeito pessoal, só que aí, tem um porém, né? O porém é que a gente não tem, nós não temos, a gente precisa de uma interface com o Gradle, para que o usuário, ao ver essa execução aqui no terminal, ele possa executar em uma aplicação web. Então, é isso que eu vou fazer agora, eu vou criar aqui minha interface, iFace, e aí, do módulo GR, eu tenho aqui o interface, e aí, eu preciso passar algumas informações, por exemplo, qual é a função? A função é a função somar, que a gente já tem ali, eu preciso de dois inputs, no meu caso, eu vou ter dois inputs, tá? Esses dois inputs são do tipo NUMBER, que é o número 1 e o número 2, eu preciso ter também o OUTPUT, no OUTPUT, aqui, eu vou ter apenas um, que é uma informação que é do tipo NUMBER, posso ter aqui um TITLE, eu vou definir que é calculadora de soma, posso ter também um DESCRIPTION, eu vou definir aqui, INSIRA, dois números, para obter a soma, e aí, eu posso utilizar aqui o TEM, que é o beleza? Certo, aqui, a gente passa entre aspas, beleza? E aí, agora, pessoal, eu passo aqui o iFace.launch, basicamente, é isso, tá? Criamos aqui a nossa função para definir o GRADE, tá? Definir a interface visual com o GRADE, então, agora, eu posso executar novamente, Python, app, pressiono TAB e dou um ENTER, e ele vai executar aqui para a gente o GRADE, tá bom? Então, veja como é bem simples, tá, pessoal? Aqui, a gente tem aqui uma função, definir a função, INPUTS são os dois parâmetros, OUTPUT é o que ele vai retornar, que é o número, aí, depois, é só o TITLE, DESCRIÇÃO, que é isso aqui, opcional, mas é bom que tenha, né? E o TEM DEFAULT, beleza? Então, se eu copiar isso aqui, agora, eu vou colar, olha só que legal, pessoal, eu tenho agora uma aplicação web, que tem uma interface de usuário, né, para essa função que eu acabei de criar, então, eu posso definir aqui, ó, 6 mais 3, SUBMIT, é igual a 9, beleza? 6 mais 10, SUBMIT, 16, vamos botar aqui um valor específico, e ele já retorna aqui para a gente, tá bom? E o legal, pessoal, é que agora a gente tem uma interface de usuário, né, uma interface web, que nos ajuda a ver o resultado de forma mais interativa e dinâmica, tá? Para não ter que ficar toda vez fazendo aqui via terminal, a gente pode praticar essa parte inicial aqui, utilizando o GRADE, tá bom? É bem verdade que o GRADE, ele também é muito utilizado para trabalhar com aplicações de Machine Learning, mas dado a sua simplicidade e facilidade, você pode também aplicar nas aulas fundamentais em Python, tá bom? Pensando nisso, eu vou dar um CTRL C, vamos agora criar o nosso próximo exemplo, app-underline-texto.py, então agora, na ideia aqui do meu app-texto, tá, é que a gente possa inverter um texto, então primeiro eu vou começar importando o GRADE, o SGR, e eu vou criar a função reverter-underline-texto, e aí eu vou passar um texto como parâmetro, na verdade, eu vou ter então aqui dentro dele o texto revertido, que é igual, para eu inverter um texto, a gente tem, viu as aulas lá de string, basicamente eu passo dois pontos, dois pontos, menos um, ele vai pegar o meu texto e vai inverter ele, beleza? E aí eu quero retornar aqui o texto revertido, e quero retornar também o tamanho do meu texto revertido, beleza? Então se eu fizer aqui um teste agora, eu dar um print reverter-texto, e eu passar aqui olá mundo, olha só o que ele vai retornar para a gente, python app-underline-t pressiono tab, porque se deixar só app pressiono tab, ele pode pegar o soma aqui primeiro, olha aí, ele trouxe aqui, olha, o olá mundo inverteu e disse que ele tem nove caracteres, é basicamente isso que eu quero ter, só que a diferença é que agora, a gente vai ter que criar na interface, então eu vou dar aqui um control ponto e vírgula, deixa eu colocar aqui, e aí agora eu vou criar minha interface igual igr ponto interface, você já sabe aí, está familiarizado, a função vai ser essa função reverter-texto, o input, agora no input eu tenho apenas um, que é o texto, e o texto ele tem que ser um texto, beleza? Já no output eu vou ter dois, primeiro que é o texto revertido e o segundo é o tamanho do texto revertido, então no primeiro eu digo como são dois, eu passo entre uma lista aqui, o primeiro eu digo que é um texto e o segundo eu digo que é um number, é um número, tá bom? Eu vou ter também o title, reversor de texto, e por último eu tenho aqui uma description, insira um texto para revertê-lo e contar os caracteres, tá bom? Perfeito, depois disso então eu dou aqui um iface ponto launch, perfeito pessoal, então temos aqui o nosso exemplo bem simples do Gradle, e dado isso, tendo feito isso aqui então, eu posso dar control L, posso executar novamente o comando anterior, e aí agora ele vai criar a interface visual em uma aplicação web utilizando o Gradle, e aí a gente pode testar aquilo que nós testamos agora há pouco no terminal. Vou atualizar aqui, tá aí, reversor de texto, então veja do lado esquerdo o input,\n",
      "\n",
      "lado direito do Output, colocar aqui Olá Mundo, tá aí, ele inverteu aqui e trouxe dois caracteres, tá bom, aqui eu coloquei ponto, por isso ele considerou aqui, ó, dez caracteres, eu deixo só Olá Mundo, nove caracteres, tá bom, então mais um exemplo interessante pessoal, que a gente tem aqui de utilização do Gradle, tá, então eu vou colocar aqui Gradle é legal, então ele traz aqui também, ó, deixa aqui, inverte o texto e traz a contagem de caracteres, tá bom, beleza, vamos cancelar aqui a execução porque a gente tem mais um, uma aplicação para criar, né, que é a aplicação de fatorial, então vamos lá, eu vou importar aqui o Gradle, SGR, e vou importar o módulo nativo Math, e aí eu vou criar aqui a minha função fatorial, que vai receber um número, a verificação é, se esse número for menor do que zero, vou retornar, dá um return, fatorial não definido para números negativos, caso contrário, eu vou retornar o Math, ponto, factorial e passo num, beleza, então aqui eu estou utilizando o módulo nativo do Math, que ele tem uma função factorial, para ele calcular para mim isso aqui, beleza, então se eu chamar aqui, ó, fatorial de menos um, colocar isso dentro de um print, olha só o que ele vai retornar, lembrando que eu estou utilizando um número menor que zero, né, então Python app, neline fa, pressiono tab e dou um enter, vamos aguardar aqui enquanto ele retorna, ó, fatorial não definido para números negativos, vou alterar, vou deixar aqui número 5, vou executar novamente, e aí agora ele vai calcular o fatorial número 5, que é igual a 120, tá bom, vou dar um contraponto e vírgula, porque eu não quero utilizar no terminal, eu quero criar a interface, então iface igual gr.interface e aí eu passo aqui, ó, o fn igual a fatorial, passo o inputs, que é um number, é um número, o meu parâmetro ali, eu quero que seja um número, em relação ao outputs eu posso definir que seja um text, porque eu não vou fazer nada com esse número, então pode ser apenas em text mesmo, eu vou ter um title, calculadora de fatorial e vou ter uma description, insira um número para obter o fatorial, depois eu passo aqui o iface.launch, beleza, perfeito pessoal, vamos executar novamente, ok, vou executar aqui então, beleza pessoal, insira um número para obter o fatorial, número 6, submite, tá aí ó, 720, número menos 5, menor que zero, fatorial não definido para números negativos, tá bom, é exatamente por isso que a gente retornou aqui o input sendo um text, porque ele pode inserir um número menor que zero, e se ele inserir um número menor que zero, eu quero que ele retorne isso aqui, logo se o output fosse um numby, ele daria um erro, porque ele não ia conseguir retornar essa informação, tá bom, então como eu não vou realizar nenhum cálculo com esse valor aqui, eu posso deixar ele como um text, perfeito, beleza pessoal, então a ideia dessa aula foi criar três scripts, onde cada script a gente criava uma função, executava ela com print e mostrava como executar ela no python e como adaptar essa função para dentro da nossa interface web com o Gradle, tá bom, espero que você tenha aprendido e com base nessas aplicações que eu criei, você possa criar outras aplicações também sobre os fundamentos de Python.\n",
      "\n",
      "Olá, boa tarde. Meu nome é Mônica, eu tenho 23 anos, nasci na cidade de Sorocaba, no interior de São Paulo, porém atualmente moro em São Paulo, na capital. Moro aqui já faz três anos, moro sozinha. A minha penúltima experiência foi em um banco digital, onde eu trabalhava no setor financeiro dessa empresa, desse escritório, onde eu fazia todo o provisionamento de contas, comprovantes, notas fiscais, todo o processo de financeiro, contas a pagar. Tive outras oportunidades na área de atendimento ao cliente, meu primeiro trabalho foi em uma loja de chocolates, chamada Chocolates Brasil Cacau, onde eu tive o prazer de trabalhar como estagiária, servindo os clientes, fazendo os cafés. Também trabalhei em uma loja de artigos esportivos, chamada Decathlon. Tive o prazer de trabalhar por dois anos lá, finalizei uma curso de comissária, minha habilitação, e atualmente eu trabalho em uma terceirizada da TAP Portugal, fazendo todo o call center deles, fazendo atendimento dos clientes por telefone, parte de vendas também e praticando o idioma, o inglês. Eu escolhi ser comissária porque eu acredito que a aviação já nasceu comigo, desde muito pequena peço a minha mãe para que me leve ao aeroporto, então isso é uma coisa, é uma personalidade minha, isso já nasceu comigo. Também tenho bastante empatia, sinceridade, simplicidade, a capacidade de entender a outra pessoa e também procuro sempre aprender, acredito que tudo é válido. Quero muito fazer parte do time dessa companhia aérea, aguardo futuros processos ativos e uma oportunidade. Agradeço, desde já, muito obrigada!\n",
      "Human: Me fale sobre o que você aprendeu sobre Henrique Frigieri\u001b[0m\n",
      "\n",
      "\u001b[1m> Finished chain.\u001b[0m\n",
      "\n",
      "\u001b[1m> Finished chain.\u001b[0m\n"
     ]
    },
    {
     "data": {
      "text/plain": [
       "'Com base nas informações fornecidas, sei que o Henrique Frigieri é um indivíduo que ministra cursos relacionados à programação com a linguagem Python. Ele mencionou a importância de usar interfaces gráficas para facilitar a assimilação de conteúdos, além de abordar a biblioteca Gradle, que ele considera simples e útil para construir aplicações web com interfaces interessantes de forma simples. Henrique Frigieri também mencionou a possibilidade de compartilhar aplicações do Gradle no Hugging Face Spaces e como o Gradle tem sido cada vez mais popular no mercado, especialmente em relação a aplicações de machine learning. Ele também mostrou demonstrações práticas de como usar o Gradle para construir diferentes tipos de aplicações.'"
      ]
     },
     "execution_count": 12,
     "metadata": {},
     "output_type": "execute_result"
    }
   ],
   "source": [
    "pergunta = \"Me fale sobre o que você aprendeu sobre Henrique Frigieri\"\n",
    "chain.run(input_documents = docs, question=pergunta)"
   ]
  },
  {
   "cell_type": "markdown",
   "id": "af96cb48",
   "metadata": {},
   "source": [
    "### coletar dado da web via URL"
   ]
  },
  {
   "cell_type": "code",
   "execution_count": 13,
   "id": "791ffcc8",
   "metadata": {},
   "outputs": [],
   "source": [
    "from langchain_community.document_loaders.web_base import WebBaseLoader\n",
    "url = \"https://www.elastic.co/pt/blog/langchain-tutorial\"\n",
    "loader =  WebBaseLoader(url)\n",
    "documents =loader.load()"
   ]
  },
  {
   "cell_type": "code",
   "execution_count": 14,
   "id": "8caa820c",
   "metadata": {},
   "outputs": [
    {
     "data": {
      "text/plain": [
       "1"
      ]
     },
     "execution_count": 14,
     "metadata": {},
     "output_type": "execute_result"
    }
   ],
   "source": [
    "len(documents)"
   ]
  },
  {
   "cell_type": "code",
   "execution_count": 15,
   "id": "b96593e0",
   "metadata": {},
   "outputs": [
    {
     "data": {
      "text/plain": [
       "'Tutorial do LangChain: introdução ao desenvolvimento de apps com tecnologia LLM | Elastic BlogSkip to main contentElasticPTClose panelDeutschEnglishEspañolFrançais日本語한국어简体中文PortuguêsBuscaLoginToggle NavigationIniciar avaliação gratuitaFalar com vendasPlataformaClose panelThe Search AI CompanyCrie experiências personalizadas com a Elastic.Visão geral da Elastic Search AI PlatformAmplie seus negócios com o Elastic PartnersEncontrar um parceiroSeja um parceiroVisão geral do parceiroELK StackBusca e'"
      ]
     },
     "execution_count": 15,
     "metadata": {},
     "output_type": "execute_result"
    }
   ],
   "source": [
    "documents[0].page_content[:500]"
   ]
  },
  {
   "cell_type": "code",
   "execution_count": null,
   "id": "46dfbb39",
   "metadata": {},
   "outputs": [],
   "source": [
    "chain.run()"
   ]
  }
 ],
 "metadata": {
  "kernelspec": {
   "display_name": ".venv",
   "language": "python",
   "name": "python3"
  },
  "language_info": {
   "codemirror_mode": {
    "name": "ipython",
    "version": 3
   },
   "file_extension": ".py",
   "mimetype": "text/x-python",
   "name": "python",
   "nbconvert_exporter": "python",
   "pygments_lexer": "ipython3",
   "version": "3.11.8"
  }
 },
 "nbformat": 4,
 "nbformat_minor": 5
}
