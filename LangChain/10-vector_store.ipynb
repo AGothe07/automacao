{
 "cells": [
  {
   "cell_type": "code",
   "execution_count": 1,
   "id": "23eff08d",
   "metadata": {},
   "outputs": [],
   "source": [
    "from langchain_community.document_loaders.pdf import PyPDFLoader\n",
    "from langchain_text_splitters import RecursiveCharacterTextSplitter"
   ]
  },
  {
   "cell_type": "code",
   "execution_count": 2,
   "id": "ca0e04f0",
   "metadata": {},
   "outputs": [],
   "source": [
    "caminho = \"files/apostila.pdf\"\n",
    "loader = PyPDFLoader(caminho)\n",
    "paginas = loader.load()"
   ]
  },
  {
   "cell_type": "code",
   "execution_count": 4,
   "id": "724d267c",
   "metadata": {},
   "outputs": [
    {
     "data": {
      "text/plain": [
       "96"
      ]
     },
     "execution_count": 4,
     "metadata": {},
     "output_type": "execute_result"
    }
   ],
   "source": [
    "recur_split = RecursiveCharacterTextSplitter(\n",
    "    chunk_size = 500,\n",
    "    chunk_overlap = 50,\n",
    "    separators=[\"\\n\\n\", \"\\n\", \".\", \" \", \"\"]\n",
    ")\n",
    "\n",
    "documents = recur_split.split_documents(paginas)\n",
    "len(documents)"
   ]
  },
  {
   "cell_type": "code",
   "execution_count": 5,
   "id": "6e113888",
   "metadata": {},
   "outputs": [],
   "source": [
    "from langchain_openai import OpenAIEmbeddings\n",
    "\n",
    "embeddings_model = OpenAIEmbeddings()"
   ]
  },
  {
   "cell_type": "code",
   "execution_count": 6,
   "id": "3a458602",
   "metadata": {},
   "outputs": [],
   "source": [
    "from langchain_chroma import Chroma\n",
    "\n",
    "diretorio = \"files/chroma_vectorstore\"\n",
    "vector_store = Chroma.from_documents(\n",
    "    documents=documents,\n",
    "    embedding=embeddings_model,\n",
    "    persist_directory=diretorio\n",
    ")"
   ]
  },
  {
   "cell_type": "code",
   "execution_count": 7,
   "id": "887b5db0",
   "metadata": {},
   "outputs": [
    {
     "data": {
      "text/plain": [
       "195"
      ]
     },
     "execution_count": 7,
     "metadata": {},
     "output_type": "execute_result"
    }
   ],
   "source": [
    "vector_store._collection.count()"
   ]
  },
  {
   "cell_type": "code",
   "execution_count": 8,
   "id": "7c0d18e8",
   "metadata": {},
   "outputs": [],
   "source": [
    "vector_store = Chroma(\n",
    "    embedding_function=embeddings_model,\n",
    "    persist_directory=diretorio\n",
    ")"
   ]
  },
  {
   "cell_type": "code",
   "execution_count": 9,
   "id": "6b398e06",
   "metadata": {},
   "outputs": [
    {
     "data": {
      "text/plain": [
       "5"
      ]
     },
     "execution_count": 9,
     "metadata": {},
     "output_type": "execute_result"
    }
   ],
   "source": [
    "pergunta= \"Principais métodos para manipulação de strings\"\n",
    "\n",
    "docs= vector_store.similarity_search(pergunta, k=5)\n",
    "len(docs)"
   ]
  },
  {
   "cell_type": "code",
   "execution_count": 10,
   "id": "9be27ea5",
   "metadata": {},
   "outputs": [
    {
     "name": "stdout",
     "output_type": "stream",
     "text": [
      "7 \n",
      " \n",
      "3.2 Manipulação de strings \n",
      " \n",
      "Em Python, existem vária s funções (métodos) para manipular strings .  Na tabela a seguir  são \n",
      "apresentados os principais métodos para a manipulação as strings. \n",
      " \n",
      "Tabela 2 - Manipulação de strings \n",
      " \n",
      "Método  Descrição  Exemplo \n",
      " \n",
      "len() Retorna o tamanho da string. \n",
      "teste = “Apostila de Python” \n",
      "len(teste) \n",
      "18 \n",
      " \n",
      "capitalize() Retorna a string com a primeira letra maiúscula  \n",
      "a = \"python\" \n",
      "a.capitalize() \n",
      "'Python' \n",
      " \n",
      "count()\n",
      "==={'page_label': '10', 'moddate': '2016-05-04T10:06:39-03:00', 'creationdate': '2016-05-04T10:06:39-03:00', 'author': 'lucas', 'creator': 'Microsoft® Word 2013', 'producer': 'Microsoft® Word 2013', 'source': 'files/apostila.pdf', 'page': 9, 'total_pages': 28}\n",
      "\n",
      "7 \n",
      " 3.2 Manipulação  de strings  \n",
      " \n",
      "Em Python, existem vária s funções (métodos) para manipular strings .  Na tabela a seguir  são \n",
      "apresentados os principais  métodos para a manipulação  as strings . \n",
      " \n",
      "Tabela 2 - Manipulação  de strings  \n",
      " \n",
      "Méto do  Descrição   Exemplo  \n",
      " \n",
      "len()  Retorna o tamanho d a string . teste = “Apostila de Python”  \n",
      "len(teste)  \n",
      "18 \n",
      " \n",
      "capitalize()  Retorna a string com a  primeira letra maiúscula  a = \"python\"  \n",
      "a.capitalize () \n",
      "'Python'\n",
      "==={'source': 'files/apostila.pdf', 'page': 9}\n",
      "\n",
      "3.1 Concatenação d e strings  ................................ ................................ ........................  6 \n",
      "3.2 Manipulação de strings  ................................ ................................ ..........................  7 \n",
      "3.3 Fatiamento de strings  ................................ ................................ ............................  8\n",
      "==={'page': 1, 'source': 'files/apostila.pdf'}\n",
      "\n",
      "3.1 Concatenação de strings ................................ ................................ ........................  6 \n",
      "3.2 Manipulação de strings ................................ ................................ ..........................  7 \n",
      "3.3 Fatiamento de strings ................................ ................................ ............................  8\n",
      "==={'author': 'lucas', 'moddate': '2016-05-04T10:06:39-03:00', 'page': 1, 'total_pages': 28, 'creator': 'Microsoft® Word 2013', 'creationdate': '2016-05-04T10:06:39-03:00', 'source': 'files/apostila.pdf', 'producer': 'Microsoft® Word 2013', 'page_label': '2'}\n",
      "\n",
      "3.4 Exercícios: strings ................................ ................................ ................................ .. 8 \n",
      "4. NÚMEROS ................................ ................................ ................................ ................... 9 \n",
      "4.1 Operadores numéricos ................................ ................................ ..........................  9\n",
      "==={'creationdate': '2016-05-04T10:06:39-03:00', 'producer': 'Microsoft® Word 2013', 'total_pages': 28, 'creator': 'Microsoft® Word 2013', 'source': 'files/apostila.pdf', 'moddate': '2016-05-04T10:06:39-03:00', 'page_label': '2', 'author': 'lucas', 'page': 1}\n",
      "\n"
     ]
    }
   ],
   "source": [
    "for doc in docs:\n",
    "    print(doc.page_content)\n",
    "    print(f\"==={doc.metadata}\\n\")"
   ]
  }
 ],
 "metadata": {
  "kernelspec": {
   "display_name": ".venv",
   "language": "python",
   "name": "python3"
  },
  "language_info": {
   "codemirror_mode": {
    "name": "ipython",
    "version": 3
   },
   "file_extension": ".py",
   "mimetype": "text/x-python",
   "name": "python",
   "nbconvert_exporter": "python",
   "pygments_lexer": "ipython3",
   "version": "3.11.8"
  }
 },
 "nbformat": 4,
 "nbformat_minor": 5
}
