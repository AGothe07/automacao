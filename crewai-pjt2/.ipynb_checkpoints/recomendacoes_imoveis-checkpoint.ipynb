{
 "cells": [
  {
   "cell_type": "code",
   "execution_count": 1,
   "id": "f3995e81",
   "metadata": {},
   "outputs": [
    {
     "name": "stderr",
     "output_type": "stream",
     "text": [
      "c:\\Users\\arthu\\OneDrive\\Nova-pasta\\programacao\\automacao\\crewai-pjt2\\.venv\\Lib\\site-packages\\pydantic\\fields.py:1093: PydanticDeprecatedSince20: Using extra keyword arguments on `Field` is deprecated and will be removed. Use `json_schema_extra` instead. (Extra keys: 'required'). Deprecated in Pydantic V2.0 to be removed in V3.0. See Pydantic V2 Migration Guide at https://errors.pydantic.dev/2.11/migration/\n",
      "  warn(\n"
     ]
    }
   ],
   "source": [
    "import json\n",
    "import os\n",
    "from datetime import datetime, timedelta\n",
    "from crewai import Agent, Task, Crew, Process\n",
    "from crewai_tools import CSVSearchTool\n",
    "from dotenv import load_dotenv, find_dotenv\n",
    "from langchain.tools import Tool\n",
    "from langchain_community.tools import DuckDuckGoSearchResults\n",
    "from langchain_openai import ChatOpenAI\n"
   ]
  },
  {
   "cell_type": "code",
   "execution_count": 2,
   "id": "81faea40",
   "metadata": {},
   "outputs": [],
   "source": [
    "load_dotenv(find_dotenv())\n",
    "llm = ChatOpenAI(model = \"gpt-3.5-turbo-0125\")"
   ]
  },
  {
   "cell_type": "code",
   "execution_count": 3,
   "id": "04d804b3",
   "metadata": {},
   "outputs": [
    {
     "name": "stderr",
     "output_type": "stream",
     "text": [
      "<>:1: SyntaxWarning: invalid escape sequence '\\i'\n",
      "<>:1: SyntaxWarning: invalid escape sequence '\\i'\n",
      "C:\\Users\\arthu\\AppData\\Local\\Temp\\ipykernel_8244\\194676834.py:1: SyntaxWarning: invalid escape sequence '\\i'\n",
      "  csv_imoveis = CSVSearchTool(csv=\"arquivos\\imoveis.csv\")\n",
      "c:\\Users\\arthu\\OneDrive\\Nova-pasta\\programacao\\automacao\\crewai-pjt2\\.venv\\Lib\\site-packages\\alembic\\config.py:592: DeprecationWarning: No path_separator found in configuration; falling back to legacy splitting on spaces, commas, and colons for prepend_sys_path.  Consider adding path_separator=os to Alembic config.\n",
      "  util.warn_deprecated(\n",
      "c:\\Users\\arthu\\OneDrive\\Nova-pasta\\programacao\\automacao\\crewai-pjt2\\.venv\\Lib\\site-packages\\chromadb\\types.py:144: PydanticDeprecatedSince211: Accessing the 'model_fields' attribute on the instance is deprecated. Instead, you should access this attribute from the model class. Deprecated in Pydantic V2.11 to be removed in V3.0.\n",
      "  return self.model_fields  # pydantic 2.x\n",
      "Inserting batches in chromadb: 100%|██████████| 1/1 [00:03<00:00,  3.33s/it]\n"
     ]
    }
   ],
   "source": [
    "csv_imoveis = CSVSearchTool(csv=\"arquivos\\imoveis.csv\")"
   ]
  },
  {
   "cell_type": "code",
   "execution_count": 4,
   "id": "da5760b0",
   "metadata": {},
   "outputs": [],
   "source": [
    "corretor_imoveis = Agent(\n",
    "    role = \"Corretor de Imoveis\",\n",
    "    goal= \"Obtenha as preferencias do cliente e busque imoveis compativeis no banco de dados\",\n",
    "    backstory= \"\"\"\n",
    "    Especialista no mercado imobiliario, encontra as melhores opções baseadas no perfil do cliente\n",
    "    \"\"\",\n",
    "    verbose= True,\n",
    "    max_iter= 5,\n",
    "    tools= [csv_imoveis],\n",
    "    allow_delegation= False,\n",
    "    memory= True\n",
    ")"
   ]
  },
  {
   "cell_type": "code",
   "execution_count": 5,
   "id": "6022d657",
   "metadata": {},
   "outputs": [],
   "source": [
    "buscar_imoveis = Task(\n",
    "    description= \"Pesquise imoveis na regiao desejada pelo cliente, considerando faixa de preço e tipo de imovel\",\n",
    "    expected_output= \"Lista de imoveis disponiveis com detalhes sobre a localização, preço e caracteristicas\",\n",
    "    agent=corretor_imoveis\n",
    "    )"
   ]
  },
  {
   "cell_type": "code",
   "execution_count": 6,
   "id": "171da742",
   "metadata": {},
   "outputs": [],
   "source": [
    "from crewai.tools import BaseTool\n",
    "\n",
    "def obter_precos_imoveis(cidade: str = \"geral\"): \n",
    "    precos = {\n",
    "        \"São Paulo\" : {\"tendencia\":\"aumento\", \"percentual\":5.2},\n",
    "        \"Rio de Janeiro\" : {\"tendencia\":\"estavel\", \"percentual\":0.0},\n",
    "        \"Belo Horizonte\" : {\"tendencia\":\"queda\", \"percentual\":-3.1},\n",
    "        \"Geral\" : {\"tendencia\":\"aumento\", \"percentual\":4.0},\n",
    "    }\n",
    "    return precos.get(cidade, precos[\"Geral\"])\n",
    "\n",
    "\n",
    "class TendenciaPrecosImoveisTool(BaseTool):\n",
    "    name: str = \"Analisador de preços imobiliarios\"\n",
    "    description: str = \"Obtem tendencia de preços de imoveis com base na cidade especificada\"\n",
    "\n",
    "    def _run(self, cidade:str) -> dict: \n",
    "        \"\"\"\n",
    "        Executa a analise de preços imobiliarios e retorna a tendencia com base na cidade\n",
    "        \"\"\"\n",
    "        try: \n",
    "            return obter_precos_imoveis(cidade)\n",
    "        except Exception as e: \n",
    "            return {\"erro\": f\"erro ao obter tendencias de preços {str(e)}\"}"
   ]
  },
  {
   "cell_type": "code",
   "execution_count": 9,
   "id": "1435de7b",
   "metadata": {},
   "outputs": [],
   "source": [
    "analista_mercado = Agent(\n",
    "    role = \"Analista e mercado imobiliario\",\n",
    "    goal= \"Analisa tendencias de preços e ajuda a prever a valorização ou desvalorização dos imoveis da cidade {cidade}\",\n",
    "    backstory= \"Experiente no setor, usa dados historicos para prever preços futuros\",\n",
    "    verbose=True,\n",
    "    max_iter=5,\n",
    "    allow_delegation=False,\n",
    "    memory=True\n",
    ")"
   ]
  },
  {
   "cell_type": "code",
   "execution_count": 10,
   "id": "41ec6fa9",
   "metadata": {},
   "outputs": [],
   "source": [
    "obter_tendencia = Task(\n",
    "    description=\"\"\"\n",
    "    Analisa o historico de preços de imoveis na cidade {cidade}, e forneça insigths sobre valorização e desvalorização.\n",
    "    Considere o tipo de imovel {tipo_imovel} e a faixa de preço {faixa_preco}\n",
    "    \"\"\",\n",
    "    expected_output=\"resumo da tendencia dos preços do mercado imobiliario\",\n",
    "    tools=[TendenciaPrecosImoveisTool()],\n",
    "    agent=analista_mercado,\n",
    "    parameters=[\"cidade\"]\n",
    ")"
   ]
  },
  {
   "cell_type": "code",
   "execution_count": 12,
   "id": "29ad358b",
   "metadata": {},
   "outputs": [],
   "source": [
    "analista_noticias = Agent(\n",
    "    role= \"analista de noticia imobiliarios\",\n",
    "    goal=\"Busca noticias relevantes sobre o mercado imobiliario para avaliar fatores externos\",\n",
    "    backstory=\"especialista em analisar noticias e tendencias economicas que afetam os preços dos imóveis\",\n",
    "    verbose= True,\n",
    "    max_iter=5,\n",
    "    memory=True \n",
    ")"
   ]
  },
  {
   "cell_type": "code",
   "execution_count": 13,
   "id": "d38e6b3f",
   "metadata": {},
   "outputs": [],
   "source": [
    "searchTool = DuckDuckGoSearchResults(backend = \"news\", num_results=5)"
   ]
  },
  {
   "cell_type": "code",
   "execution_count": 15,
   "id": "7bea87e3",
   "metadata": {},
   "outputs": [],
   "source": [
    "buscar_noticias = Task(\n",
    "    description=f\"Pesquise noticias recentes sobre o mercado imobiliario. Data atual: {datetime.now()}\",\n",
    "    expected_output= \"Resumo das principais noticias e tendencias imobiliarias\",\n",
    "    agent= analista_noticias,\n",
    "    tool= [searchTool]\n",
    ")"
   ]
  },
  {
   "cell_type": "code",
   "execution_count": 16,
   "id": "d4fae995",
   "metadata": {},
   "outputs": [],
   "source": [
    "consultor_financeiro = Agent(\n",
    "    role=\"Consultor Financeiro\",\n",
    "    goal=\"Analisa opções de financiamento imobiliario com base no perfil do cliente\",\n",
    "    backstory=\"Especialista em credito imobiliário, ajuda clientes a escolherem as melhores opçoes de financiamento\",\n",
    "    verbose=True,\n",
    "    allow_delegation=False,\n",
    "    max_iter=5,\n",
    "    memory=True\n",
    ")"
   ]
  },
  {
   "cell_type": "code",
   "execution_count": 17,
   "id": "d5622100",
   "metadata": {},
   "outputs": [],
   "source": [
    "calcular_financiamento = Task(\n",
    "    description=\"analise a renda do cliente e sugira opções de financiamentos viáveis\",\n",
    "    expected_output=\"Tabela comparativa com diferentes financiamentos, taxa de juros e prazos\",\n",
    "    agent=consultor_financeiro\n",
    ")"
   ]
  },
  {
   "cell_type": "code",
   "execution_count": 18,
   "id": "5833cb90",
   "metadata": {},
   "outputs": [],
   "source": [
    "redator = Agent(\n",
    "    role=\"Redator de relatorios imobiliarios\",\n",
    "    goal=\"gerar relatorios completos e persuasivos com base na analise do mercado de imóveis do mercado\",\n",
    "    backstory=\"especialista em comunicação, traduz dados complexos para clientes de forma clara e objetiva\",\n",
    "    verbose=True,\n",
    "    allow_delegation=False,\n",
    "    max_iter=5,\n",
    "    memory=True\n",
    ")"
   ]
  },
  {
   "cell_type": "code",
   "execution_count": 19,
   "id": "4c486365",
   "metadata": {},
   "outputs": [],
   "source": [
    "gerar_relatorio = Task(\n",
    "    description=\"Gere um relatorio detalhado sobre o melhor imovel encontrado considerando preços tendencias e financiamento\",\n",
    "    expected_output=\"Um relatorio formatado com resumo do mercado,opçoes recomendadas e justificativa da escolha\",\n",
    "    agent=redator,\n",
    "    context=[buscar_imoveis, obter_tendencia, buscar_noticias, calcular_financiamento]\n",
    ")"
   ]
  },
  {
   "cell_type": "code",
   "execution_count": 20,
   "id": "14ddb9bd",
   "metadata": {},
   "outputs": [],
   "source": [
    "crew = Crew(\n",
    "    agents= [corretor_imoveis, analista_mercado, analista_noticias, consultor_financeiro, redator],\n",
    "    tasks=[buscar_imoveis, buscar_noticias, obter_tendencia, calcular_financiamento, gerar_relatorio],\n",
    "    verbose=True,\n",
    "    process=Process.hierarchical,\n",
    "    full_output= True,\n",
    "    share_crew= False,\n",
    "    max_iter=15,\n",
    "    manager_llm=llm\n",
    ")"
   ]
  },
  {
   "cell_type": "code",
   "execution_count": null,
   "id": "8e855649",
   "metadata": {},
   "outputs": [],
   "source": [
    "result = crew.kickoff(inputs={\"cidade\":\"Rio de Janeiro\", \n",
    "                              \"tipo_imovel\": \"apartamento\",\n",
    "                              \"faixa_preco\": \"500000-700000\"})"
   ]
  }
 ],
 "metadata": {
  "kernelspec": {
   "display_name": ".venv",
   "language": "python",
   "name": "python3"
  },
  "language_info": {
   "codemirror_mode": {
    "name": "ipython",
    "version": 3
   },
   "file_extension": ".py",
   "mimetype": "text/x-python",
   "name": "python",
   "nbconvert_exporter": "python",
   "pygments_lexer": "ipython3",
   "version": "3.13.2"
  }
 },
 "nbformat": 4,
 "nbformat_minor": 5
}
